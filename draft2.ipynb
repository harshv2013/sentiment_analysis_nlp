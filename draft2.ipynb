{
  "cells": [
    {
      "cell_type": "markdown",
      "metadata": {
        "id": "view-in-github",
        "colab_type": "text"
      },
      "source": [
        "<a href=\"https://colab.research.google.com/github/harshv2013/sentiment_analysis_nlp/blob/main/draft2.ipynb\" target=\"_parent\"><img src=\"https://colab.research.google.com/assets/colab-badge.svg\" alt=\"Open In Colab\"/></a>"
      ]
    },
    {
      "cell_type": "code",
      "execution_count": 1,
      "metadata": {
        "id": "FPYiajrJ9O5Y"
      },
      "outputs": [],
      "source": [
        "import pandas as pd\n",
        "import nltk\n",
        "from IPython.display import display\n",
        "pd.set_option('display.max_columns', None)"
      ]
    },
    {
      "cell_type": "markdown",
      "metadata": {
        "id": "KOb0WpAl9O5e"
      },
      "source": [
        "### Step 1: Loading in the small_corpus .csv file created in the \"creating_dataset\" milestone."
      ]
    },
    {
      "cell_type": "code",
      "source": [],
      "metadata": {
        "colab": {
          "base_uri": "https://localhost:8080/",
          "height": 35
        },
        "id": "PrAXXdzn9emg",
        "outputId": "cc5c5c06-d606-4a43-e49d-c773b8aae557"
      },
      "execution_count": null,
      "outputs": [
        {
          "output_type": "execute_result",
          "data": {
            "text/plain": [
              "'/content'"
            ],
            "application/vnd.google.colaboratory.intrinsic+json": {
              "type": "string"
            }
          },
          "metadata": {},
          "execution_count": 5
        }
      ]
    },
    {
      "cell_type": "code",
      "execution_count": 3,
      "metadata": {
        "id": "7-JR7WQ5O70X",
        "colab": {
          "base_uri": "https://localhost:8080/"
        },
        "outputId": "73619ef9-6315-4b8f-b4ec-c528eb055105"
      },
      "outputs": [
        {
          "output_type": "stream",
          "name": "stdout",
          "text": [
            "Mounted at /content/drive/\n",
            "/content/drive\n"
          ]
        }
      ],
      "source": [
        "from google.colab import drive\n",
        "drive.mount('/content/drive/')\n",
        "%cd /content/drive/\n"
      ]
    },
    {
      "cell_type": "code",
      "source": [
        "%cd /content/"
      ],
      "metadata": {
        "colab": {
          "base_uri": "https://localhost:8080/"
        },
        "id": "UmqUVw9tBO1K",
        "outputId": "04a37c54-d28b-4170-97fd-0f591455985d"
      },
      "execution_count": 23,
      "outputs": [
        {
          "output_type": "stream",
          "name": "stdout",
          "text": [
            "/content\n"
          ]
        }
      ]
    },
    {
      "cell_type": "code",
      "execution_count": 50,
      "metadata": {
        "id": "OnecXIWb9O5h"
      },
      "outputs": [],
      "source": [
        "# undersampled_reviews.to_csv(\"../data/small_corpus.csv\", index=False)\n",
        "reviews = pd.read_csv(\"/content/drive/MyDrive/Colab Notebooks/sentiment_analysis_nlp/Sentiment_Analysis_NLP_for_Marketting/data/small_corpus.csv\")"
      ]
    },
    {
      "cell_type": "code",
      "execution_count": null,
      "metadata": {
        "id": "eg9040Ci9O5i",
        "outputId": "b64c7328-dbd7-4c1a-e311-8e448f3d4f95"
      },
      "outputs": [
        {
          "data": {
            "text/html": [
              "<div>\n",
              "<style scoped>\n",
              "    .dataframe tbody tr th:only-of-type {\n",
              "        vertical-align: middle;\n",
              "    }\n",
              "\n",
              "    .dataframe tbody tr th {\n",
              "        vertical-align: top;\n",
              "    }\n",
              "\n",
              "    .dataframe thead th {\n",
              "        text-align: right;\n",
              "    }\n",
              "</style>\n",
              "<table border=\"1\" class=\"dataframe\">\n",
              "  <thead>\n",
              "    <tr style=\"text-align: right;\">\n",
              "      <th></th>\n",
              "      <th>overall</th>\n",
              "      <th>verified</th>\n",
              "      <th>reviewTime</th>\n",
              "      <th>reviewerID</th>\n",
              "      <th>asin</th>\n",
              "      <th>reviewerName</th>\n",
              "      <th>reviewText</th>\n",
              "      <th>summary</th>\n",
              "      <th>unixReviewTime</th>\n",
              "      <th>vote</th>\n",
              "      <th>style</th>\n",
              "      <th>image</th>\n",
              "    </tr>\n",
              "  </thead>\n",
              "  <tbody>\n",
              "    <tr>\n",
              "      <th>0</th>\n",
              "      <td>1.0</td>\n",
              "      <td>False</td>\n",
              "      <td>06 16, 2015</td>\n",
              "      <td>A3159IXLXZHW9U</td>\n",
              "      <td>B00D2ZK1IG</td>\n",
              "      <td>Andrew Willette</td>\n",
              "      <td>bad controls. I felt like this game was a resi...</td>\n",
              "      <td>Resident Evil rip off</td>\n",
              "      <td>1434412800</td>\n",
              "      <td>NaN</td>\n",
              "      <td>{'Format:': ' Video Game'}</td>\n",
              "      <td>NaN</td>\n",
              "    </tr>\n",
              "    <tr>\n",
              "      <th>1</th>\n",
              "      <td>1.0</td>\n",
              "      <td>True</td>\n",
              "      <td>07 7, 2012</td>\n",
              "      <td>A1TD2E11JK79I8</td>\n",
              "      <td>B005VKRGXI</td>\n",
              "      <td>M.K.</td>\n",
              "      <td>Update (July 10th 2012) - Condensed my review ...</td>\n",
              "      <td>Advertised but not delivered</td>\n",
              "      <td>1341619200</td>\n",
              "      <td>4.0</td>\n",
              "      <td>{'Platform:': ' PlayStation 3'}</td>\n",
              "      <td>NaN</td>\n",
              "    </tr>\n",
              "    <tr>\n",
              "      <th>2</th>\n",
              "      <td>1.0</td>\n",
              "      <td>True</td>\n",
              "      <td>10 5, 2016</td>\n",
              "      <td>A1OMFWV9NZ7NIZ</td>\n",
              "      <td>B005DVAB1E</td>\n",
              "      <td>Christian Buehler</td>\n",
              "      <td>Achievement hunters only need apply.</td>\n",
              "      <td>One Star</td>\n",
              "      <td>1475625600</td>\n",
              "      <td>NaN</td>\n",
              "      <td>{'Platform:': ' Xbox 360'}</td>\n",
              "      <td>NaN</td>\n",
              "    </tr>\n",
              "    <tr>\n",
              "      <th>3</th>\n",
              "      <td>1.0</td>\n",
              "      <td>True</td>\n",
              "      <td>10 17, 2017</td>\n",
              "      <td>A1NBZBNEBU3U3X</td>\n",
              "      <td>B0009350CQ</td>\n",
              "      <td>nana</td>\n",
              "      <td>ok</td>\n",
              "      <td>One Star</td>\n",
              "      <td>1508198400</td>\n",
              "      <td>NaN</td>\n",
              "      <td>{'Format:': ' Video Game'}</td>\n",
              "      <td>NaN</td>\n",
              "    </tr>\n",
              "    <tr>\n",
              "      <th>4</th>\n",
              "      <td>1.0</td>\n",
              "      <td>False</td>\n",
              "      <td>06 19, 2012</td>\n",
              "      <td>A3J8ABVGK7ZL6H</td>\n",
              "      <td>B00002ST7X</td>\n",
              "      <td>Ishmael</td>\n",
              "      <td>Eternal Champions is an awesome game....for Se...</td>\n",
              "      <td>Sega CD version blows this one away!</td>\n",
              "      <td>1340064000</td>\n",
              "      <td>NaN</td>\n",
              "      <td>NaN</td>\n",
              "      <td>NaN</td>\n",
              "    </tr>\n",
              "    <tr>\n",
              "      <th>...</th>\n",
              "      <td>...</td>\n",
              "      <td>...</td>\n",
              "      <td>...</td>\n",
              "      <td>...</td>\n",
              "      <td>...</td>\n",
              "      <td>...</td>\n",
              "      <td>...</td>\n",
              "      <td>...</td>\n",
              "      <td>...</td>\n",
              "      <td>...</td>\n",
              "      <td>...</td>\n",
              "      <td>...</td>\n",
              "    </tr>\n",
              "    <tr>\n",
              "      <th>4495</th>\n",
              "      <td>5.0</td>\n",
              "      <td>True</td>\n",
              "      <td>06 1, 2016</td>\n",
              "      <td>A34WUZN0IGAXIZ</td>\n",
              "      <td>B00CHRNOPW</td>\n",
              "      <td>Emily</td>\n",
              "      <td>Perfect!</td>\n",
              "      <td>Five Stars</td>\n",
              "      <td>1464739200</td>\n",
              "      <td>NaN</td>\n",
              "      <td>NaN</td>\n",
              "      <td>NaN</td>\n",
              "    </tr>\n",
              "    <tr>\n",
              "      <th>4496</th>\n",
              "      <td>5.0</td>\n",
              "      <td>False</td>\n",
              "      <td>03 3, 2003</td>\n",
              "      <td>AQI2CW6UKF1ES</td>\n",
              "      <td>B00005BW7Q</td>\n",
              "      <td>Samario C. Oliver</td>\n",
              "      <td>The bosses were hard as... but when I leveld u...</td>\n",
              "      <td>Yes, I finally beat it!</td>\n",
              "      <td>1046649600</td>\n",
              "      <td>NaN</td>\n",
              "      <td>NaN</td>\n",
              "      <td>NaN</td>\n",
              "    </tr>\n",
              "    <tr>\n",
              "      <th>4497</th>\n",
              "      <td>5.0</td>\n",
              "      <td>True</td>\n",
              "      <td>10 26, 2016</td>\n",
              "      <td>A1XCGLCKMKP84S</td>\n",
              "      <td>B00GV4V8XC</td>\n",
              "      <td>juanvolvoturbo</td>\n",
              "      <td>Excellent price and fast shipping!</td>\n",
              "      <td>Five Stars</td>\n",
              "      <td>1477440000</td>\n",
              "      <td>NaN</td>\n",
              "      <td>{'Edition:': ' Standard', 'Platform:': ' Ninte...</td>\n",
              "      <td>NaN</td>\n",
              "    </tr>\n",
              "    <tr>\n",
              "      <th>4498</th>\n",
              "      <td>5.0</td>\n",
              "      <td>False</td>\n",
              "      <td>03 26, 2016</td>\n",
              "      <td>AYVSX8W94ZDDU</td>\n",
              "      <td>B00EDOVNFU</td>\n",
              "      <td>supernintendosp</td>\n",
              "      <td>These go great with the other covers, and prev...</td>\n",
              "      <td>Global Game Gear is super trustworthy!</td>\n",
              "      <td>1458950400</td>\n",
              "      <td>NaN</td>\n",
              "      <td>NaN</td>\n",
              "      <td>NaN</td>\n",
              "    </tr>\n",
              "    <tr>\n",
              "      <th>4499</th>\n",
              "      <td>5.0</td>\n",
              "      <td>True</td>\n",
              "      <td>04 7, 2017</td>\n",
              "      <td>A361F6TKS68T28</td>\n",
              "      <td>B0050SYBL6</td>\n",
              "      <td>Caitlin Parker</td>\n",
              "      <td>I bought the trilogy twice, once for Playstati...</td>\n",
              "      <td>Tragically Beautiful</td>\n",
              "      <td>1491523200</td>\n",
              "      <td>6.0</td>\n",
              "      <td>{'Format:': ' Video Game'}</td>\n",
              "      <td>NaN</td>\n",
              "    </tr>\n",
              "  </tbody>\n",
              "</table>\n",
              "<p>4500 rows × 12 columns</p>\n",
              "</div>"
            ],
            "text/plain": [
              "      overall  verified   reviewTime      reviewerID        asin  \\\n",
              "0         1.0     False  06 16, 2015  A3159IXLXZHW9U  B00D2ZK1IG   \n",
              "1         1.0      True   07 7, 2012  A1TD2E11JK79I8  B005VKRGXI   \n",
              "2         1.0      True   10 5, 2016  A1OMFWV9NZ7NIZ  B005DVAB1E   \n",
              "3         1.0      True  10 17, 2017  A1NBZBNEBU3U3X  B0009350CQ   \n",
              "4         1.0     False  06 19, 2012  A3J8ABVGK7ZL6H  B00002ST7X   \n",
              "...       ...       ...          ...             ...         ...   \n",
              "4495      5.0      True   06 1, 2016  A34WUZN0IGAXIZ  B00CHRNOPW   \n",
              "4496      5.0     False   03 3, 2003   AQI2CW6UKF1ES  B00005BW7Q   \n",
              "4497      5.0      True  10 26, 2016  A1XCGLCKMKP84S  B00GV4V8XC   \n",
              "4498      5.0     False  03 26, 2016   AYVSX8W94ZDDU  B00EDOVNFU   \n",
              "4499      5.0      True   04 7, 2017  A361F6TKS68T28  B0050SYBL6   \n",
              "\n",
              "           reviewerName                                         reviewText  \\\n",
              "0       Andrew Willette  bad controls. I felt like this game was a resi...   \n",
              "1                  M.K.  Update (July 10th 2012) - Condensed my review ...   \n",
              "2     Christian Buehler               Achievement hunters only need apply.   \n",
              "3                  nana                                                 ok   \n",
              "4               Ishmael  Eternal Champions is an awesome game....for Se...   \n",
              "...                 ...                                                ...   \n",
              "4495              Emily                                           Perfect!   \n",
              "4496  Samario C. Oliver  The bosses were hard as... but when I leveld u...   \n",
              "4497     juanvolvoturbo                 Excellent price and fast shipping!   \n",
              "4498    supernintendosp  These go great with the other covers, and prev...   \n",
              "4499     Caitlin Parker  I bought the trilogy twice, once for Playstati...   \n",
              "\n",
              "                                     summary  unixReviewTime  vote  \\\n",
              "0                      Resident Evil rip off      1434412800   NaN   \n",
              "1               Advertised but not delivered      1341619200   4.0   \n",
              "2                                   One Star      1475625600   NaN   \n",
              "3                                   One Star      1508198400   NaN   \n",
              "4       Sega CD version blows this one away!      1340064000   NaN   \n",
              "...                                      ...             ...   ...   \n",
              "4495                              Five Stars      1464739200   NaN   \n",
              "4496                 Yes, I finally beat it!      1046649600   NaN   \n",
              "4497                              Five Stars      1477440000   NaN   \n",
              "4498  Global Game Gear is super trustworthy!      1458950400   NaN   \n",
              "4499                    Tragically Beautiful      1491523200   6.0   \n",
              "\n",
              "                                                  style image  \n",
              "0                            {'Format:': ' Video Game'}   NaN  \n",
              "1                       {'Platform:': ' PlayStation 3'}   NaN  \n",
              "2                            {'Platform:': ' Xbox 360'}   NaN  \n",
              "3                            {'Format:': ' Video Game'}   NaN  \n",
              "4                                                   NaN   NaN  \n",
              "...                                                 ...   ...  \n",
              "4495                                                NaN   NaN  \n",
              "4496                                                NaN   NaN  \n",
              "4497  {'Edition:': ' Standard', 'Platform:': ' Ninte...   NaN  \n",
              "4498                                                NaN   NaN  \n",
              "4499                         {'Format:': ' Video Game'}   NaN  \n",
              "\n",
              "[4500 rows x 12 columns]"
            ]
          },
          "execution_count": 3,
          "metadata": {},
          "output_type": "execute_result"
        }
      ],
      "source": [
        "reviews"
      ]
    },
    {
      "cell_type": "code",
      "execution_count": 5,
      "metadata": {
        "id": "FPtAq_Hr9O5l",
        "outputId": "e6d83f9a-90f9-4269-c58d-7a057f18a264",
        "colab": {
          "base_uri": "https://localhost:8080/",
          "height": 1470
        }
      },
      "outputs": [
        {
          "output_type": "execute_result",
          "data": {
            "text/plain": [
              "   overall  verified   reviewTime      reviewerID        asin  \\\n",
              "0      1.0     False  06 16, 2015  A3159IXLXZHW9U  B00D2ZK1IG   \n",
              "1      1.0      True   07 7, 2012  A1TD2E11JK79I8  B005VKRGXI   \n",
              "2      1.0      True   10 5, 2016  A1OMFWV9NZ7NIZ  B005DVAB1E   \n",
              "3      1.0      True  10 17, 2017  A1NBZBNEBU3U3X  B0009350CQ   \n",
              "4      1.0     False  06 19, 2012  A3J8ABVGK7ZL6H  B00002ST7X   \n",
              "\n",
              "        reviewerName                                         reviewText  \\\n",
              "0    Andrew Willette  bad controls. I felt like this game was a resi...   \n",
              "1               M.K.  Update (July 10th 2012) - Condensed my review ...   \n",
              "2  Christian Buehler               Achievement hunters only need apply.   \n",
              "3               nana                                                 ok   \n",
              "4            Ishmael  Eternal Champions is an awesome game....for Se...   \n",
              "\n",
              "                                summary  unixReviewTime  vote  \\\n",
              "0                 Resident Evil rip off      1434412800   NaN   \n",
              "1          Advertised but not delivered      1341619200   4.0   \n",
              "2                              One Star      1475625600   NaN   \n",
              "3                              One Star      1508198400   NaN   \n",
              "4  Sega CD version blows this one away!      1340064000   NaN   \n",
              "\n",
              "                             style image  \n",
              "0       {'Format:': ' Video Game'}   NaN  \n",
              "1  {'Platform:': ' PlayStation 3'}   NaN  \n",
              "2       {'Platform:': ' Xbox 360'}   NaN  \n",
              "3       {'Format:': ' Video Game'}   NaN  \n",
              "4                              NaN   NaN  "
            ],
            "text/html": [
              "\n",
              "  <div id=\"df-99e977b1-1df7-458c-a096-48b4adfee008\">\n",
              "    <div class=\"colab-df-container\">\n",
              "      <div>\n",
              "<style scoped>\n",
              "    .dataframe tbody tr th:only-of-type {\n",
              "        vertical-align: middle;\n",
              "    }\n",
              "\n",
              "    .dataframe tbody tr th {\n",
              "        vertical-align: top;\n",
              "    }\n",
              "\n",
              "    .dataframe thead th {\n",
              "        text-align: right;\n",
              "    }\n",
              "</style>\n",
              "<table border=\"1\" class=\"dataframe\">\n",
              "  <thead>\n",
              "    <tr style=\"text-align: right;\">\n",
              "      <th></th>\n",
              "      <th>overall</th>\n",
              "      <th>verified</th>\n",
              "      <th>reviewTime</th>\n",
              "      <th>reviewerID</th>\n",
              "      <th>asin</th>\n",
              "      <th>reviewerName</th>\n",
              "      <th>reviewText</th>\n",
              "      <th>summary</th>\n",
              "      <th>unixReviewTime</th>\n",
              "      <th>vote</th>\n",
              "      <th>style</th>\n",
              "      <th>image</th>\n",
              "    </tr>\n",
              "  </thead>\n",
              "  <tbody>\n",
              "    <tr>\n",
              "      <th>0</th>\n",
              "      <td>1.0</td>\n",
              "      <td>False</td>\n",
              "      <td>06 16, 2015</td>\n",
              "      <td>A3159IXLXZHW9U</td>\n",
              "      <td>B00D2ZK1IG</td>\n",
              "      <td>Andrew Willette</td>\n",
              "      <td>bad controls. I felt like this game was a resi...</td>\n",
              "      <td>Resident Evil rip off</td>\n",
              "      <td>1434412800</td>\n",
              "      <td>NaN</td>\n",
              "      <td>{'Format:': ' Video Game'}</td>\n",
              "      <td>NaN</td>\n",
              "    </tr>\n",
              "    <tr>\n",
              "      <th>1</th>\n",
              "      <td>1.0</td>\n",
              "      <td>True</td>\n",
              "      <td>07 7, 2012</td>\n",
              "      <td>A1TD2E11JK79I8</td>\n",
              "      <td>B005VKRGXI</td>\n",
              "      <td>M.K.</td>\n",
              "      <td>Update (July 10th 2012) - Condensed my review ...</td>\n",
              "      <td>Advertised but not delivered</td>\n",
              "      <td>1341619200</td>\n",
              "      <td>4.0</td>\n",
              "      <td>{'Platform:': ' PlayStation 3'}</td>\n",
              "      <td>NaN</td>\n",
              "    </tr>\n",
              "    <tr>\n",
              "      <th>2</th>\n",
              "      <td>1.0</td>\n",
              "      <td>True</td>\n",
              "      <td>10 5, 2016</td>\n",
              "      <td>A1OMFWV9NZ7NIZ</td>\n",
              "      <td>B005DVAB1E</td>\n",
              "      <td>Christian Buehler</td>\n",
              "      <td>Achievement hunters only need apply.</td>\n",
              "      <td>One Star</td>\n",
              "      <td>1475625600</td>\n",
              "      <td>NaN</td>\n",
              "      <td>{'Platform:': ' Xbox 360'}</td>\n",
              "      <td>NaN</td>\n",
              "    </tr>\n",
              "    <tr>\n",
              "      <th>3</th>\n",
              "      <td>1.0</td>\n",
              "      <td>True</td>\n",
              "      <td>10 17, 2017</td>\n",
              "      <td>A1NBZBNEBU3U3X</td>\n",
              "      <td>B0009350CQ</td>\n",
              "      <td>nana</td>\n",
              "      <td>ok</td>\n",
              "      <td>One Star</td>\n",
              "      <td>1508198400</td>\n",
              "      <td>NaN</td>\n",
              "      <td>{'Format:': ' Video Game'}</td>\n",
              "      <td>NaN</td>\n",
              "    </tr>\n",
              "    <tr>\n",
              "      <th>4</th>\n",
              "      <td>1.0</td>\n",
              "      <td>False</td>\n",
              "      <td>06 19, 2012</td>\n",
              "      <td>A3J8ABVGK7ZL6H</td>\n",
              "      <td>B00002ST7X</td>\n",
              "      <td>Ishmael</td>\n",
              "      <td>Eternal Champions is an awesome game....for Se...</td>\n",
              "      <td>Sega CD version blows this one away!</td>\n",
              "      <td>1340064000</td>\n",
              "      <td>NaN</td>\n",
              "      <td>NaN</td>\n",
              "      <td>NaN</td>\n",
              "    </tr>\n",
              "  </tbody>\n",
              "</table>\n",
              "</div>\n",
              "      <button class=\"colab-df-convert\" onclick=\"convertToInteractive('df-99e977b1-1df7-458c-a096-48b4adfee008')\"\n",
              "              title=\"Convert this dataframe to an interactive table.\"\n",
              "              style=\"display:none;\">\n",
              "        \n",
              "  <svg xmlns=\"http://www.w3.org/2000/svg\" height=\"24px\"viewBox=\"0 0 24 24\"\n",
              "       width=\"24px\">\n",
              "    <path d=\"M0 0h24v24H0V0z\" fill=\"none\"/>\n",
              "    <path d=\"M18.56 5.44l.94 2.06.94-2.06 2.06-.94-2.06-.94-.94-2.06-.94 2.06-2.06.94zm-11 1L8.5 8.5l.94-2.06 2.06-.94-2.06-.94L8.5 2.5l-.94 2.06-2.06.94zm10 10l.94 2.06.94-2.06 2.06-.94-2.06-.94-.94-2.06-.94 2.06-2.06.94z\"/><path d=\"M17.41 7.96l-1.37-1.37c-.4-.4-.92-.59-1.43-.59-.52 0-1.04.2-1.43.59L10.3 9.45l-7.72 7.72c-.78.78-.78 2.05 0 2.83L4 21.41c.39.39.9.59 1.41.59.51 0 1.02-.2 1.41-.59l7.78-7.78 2.81-2.81c.8-.78.8-2.07 0-2.86zM5.41 20L4 18.59l7.72-7.72 1.47 1.35L5.41 20z\"/>\n",
              "  </svg>\n",
              "      </button>\n",
              "      \n",
              "  <style>\n",
              "    .colab-df-container {\n",
              "      display:flex;\n",
              "      flex-wrap:wrap;\n",
              "      gap: 12px;\n",
              "    }\n",
              "\n",
              "    .colab-df-convert {\n",
              "      background-color: #E8F0FE;\n",
              "      border: none;\n",
              "      border-radius: 50%;\n",
              "      cursor: pointer;\n",
              "      display: none;\n",
              "      fill: #1967D2;\n",
              "      height: 32px;\n",
              "      padding: 0 0 0 0;\n",
              "      width: 32px;\n",
              "    }\n",
              "\n",
              "    .colab-df-convert:hover {\n",
              "      background-color: #E2EBFA;\n",
              "      box-shadow: 0px 1px 2px rgba(60, 64, 67, 0.3), 0px 1px 3px 1px rgba(60, 64, 67, 0.15);\n",
              "      fill: #174EA6;\n",
              "    }\n",
              "\n",
              "    [theme=dark] .colab-df-convert {\n",
              "      background-color: #3B4455;\n",
              "      fill: #D2E3FC;\n",
              "    }\n",
              "\n",
              "    [theme=dark] .colab-df-convert:hover {\n",
              "      background-color: #434B5C;\n",
              "      box-shadow: 0px 1px 3px 1px rgba(0, 0, 0, 0.15);\n",
              "      filter: drop-shadow(0px 1px 2px rgba(0, 0, 0, 0.3));\n",
              "      fill: #FFFFFF;\n",
              "    }\n",
              "  </style>\n",
              "\n",
              "      <script>\n",
              "        const buttonEl =\n",
              "          document.querySelector('#df-99e977b1-1df7-458c-a096-48b4adfee008 button.colab-df-convert');\n",
              "        buttonEl.style.display =\n",
              "          google.colab.kernel.accessAllowed ? 'block' : 'none';\n",
              "\n",
              "        async function convertToInteractive(key) {\n",
              "          const element = document.querySelector('#df-99e977b1-1df7-458c-a096-48b4adfee008');\n",
              "          const dataTable =\n",
              "            await google.colab.kernel.invokeFunction('convertToInteractive',\n",
              "                                                     [key], {});\n",
              "          if (!dataTable) return;\n",
              "\n",
              "          const docLinkHtml = 'Like what you see? Visit the ' +\n",
              "            '<a target=\"_blank\" href=https://colab.research.google.com/notebooks/data_table.ipynb>data table notebook</a>'\n",
              "            + ' to learn more about interactive tables.';\n",
              "          element.innerHTML = '';\n",
              "          dataTable['output_type'] = 'display_data';\n",
              "          await google.colab.output.renderOutput(dataTable, element);\n",
              "          const docLink = document.createElement('div');\n",
              "          docLink.innerHTML = docLinkHtml;\n",
              "          element.appendChild(docLink);\n",
              "        }\n",
              "      </script>\n",
              "    </div>\n",
              "  </div>\n",
              "  "
            ]
          },
          "metadata": {},
          "execution_count": 5
        }
      ],
      "source": [
        "reviews.head()"
      ]
    },
    {
      "cell_type": "markdown",
      "metadata": {
        "id": "5SAfAvjJ9O5n"
      },
      "source": [
        "### Step 2: Tokenizing the sentences and words of the reviews\n",
        "Here, We're going to test different versions of word tokenizer on reviews. We'll then decide which tokenizer might be better to use."
      ]
    },
    {
      "cell_type": "code",
      "execution_count": 6,
      "metadata": {
        "id": "j7OHbg8g9O5o"
      },
      "outputs": [],
      "source": [
        "from nltk.tokenize import TreebankWordTokenizer\n",
        "from string import punctuation\n",
        "import string"
      ]
    },
    {
      "cell_type": "code",
      "execution_count": 7,
      "metadata": {
        "id": "KsZ-Ugfj9O5o"
      },
      "outputs": [],
      "source": [
        "tb_tokenizer = TreebankWordTokenizer()"
      ]
    },
    {
      "cell_type": "code",
      "execution_count": 8,
      "metadata": {
        "id": "hWhgfyAz9O5p",
        "outputId": "a892973d-566a-47e6-f73c-793b96a00fa9",
        "colab": {
          "base_uri": "https://localhost:8080/"
        }
      },
      "outputs": [
        {
          "output_type": "execute_result",
          "data": {
            "text/plain": [
              "['Good',\n",
              " 'muffins',\n",
              " 'cost',\n",
              " '$',\n",
              " '3.88',\n",
              " 'in',\n",
              " 'New',\n",
              " 'York.',\n",
              " 'Please',\n",
              " 'buy',\n",
              " 'me',\n",
              " 'two',\n",
              " 'of',\n",
              " 'them.',\n",
              " 'Thanks',\n",
              " '.']"
            ]
          },
          "metadata": {},
          "execution_count": 8
        }
      ],
      "source": [
        "s = '''Good muffins cost $3.88\\nin New York.  Please buy me\\ntwo of them.\\nThanks.'''\n",
        "TreebankWordTokenizer().tokenize(s)"
      ]
    },
    {
      "cell_type": "code",
      "execution_count": 9,
      "metadata": {
        "id": "5M-PGr_g9O5r",
        "outputId": "a044bda9-00f1-4d6e-874b-1a15f00f1ce1",
        "colab": {
          "base_uri": "https://localhost:8080/",
          "height": 35
        }
      },
      "outputs": [
        {
          "output_type": "execute_result",
          "data": {
            "text/plain": [
              "'!\"#$%&\\'()*+,-./:;<=>?@[\\\\]^_`{|}~'"
            ],
            "application/vnd.google.colaboratory.intrinsic+json": {
              "type": "string"
            }
          },
          "metadata": {},
          "execution_count": 9
        }
      ],
      "source": [
        "punctuation"
      ]
    },
    {
      "cell_type": "code",
      "execution_count": 10,
      "metadata": {
        "id": "JhEdqEcQ9O5r"
      },
      "outputs": [],
      "source": [
        "reviews[\"rev_text_lower\"] = reviews['reviewText'].apply(lambda rev: str(rev)\\\n",
        "                                                        .translate(str.maketrans('', '', punctuation))\\\n",
        "                                                        .replace(\"<br />\", \" \")\\\n",
        "                                                        .lower())"
      ]
    },
    {
      "cell_type": "code",
      "execution_count": 11,
      "metadata": {
        "id": "caLMOjhV9O5t",
        "outputId": "a06a10cc-e5c1-4da4-8f22-5e6f4065cdf4",
        "colab": {
          "base_uri": "https://localhost:8080/"
        }
      },
      "outputs": [
        {
          "output_type": "execute_result",
          "data": {
            "text/plain": [
              "0       bad controls i felt like this game was a resid...\n",
              "1       update july 10th 2012  condensed my review to ...\n",
              "2                     achievement hunters only need apply\n",
              "3                                                      ok\n",
              "4       eternal champions is an awesome gamefor sega c...\n",
              "                              ...                        \n",
              "4495                                              perfect\n",
              "4496    the bosses were hard as but when i leveld up b...\n",
              "4497                    excellent price and fast shipping\n",
              "4498    these go great with the other covers and preve...\n",
              "4499    i bought the trilogy twice once for playstatio...\n",
              "Name: rev_text_lower, Length: 4500, dtype: object"
            ]
          },
          "metadata": {},
          "execution_count": 11
        }
      ],
      "source": [
        "reviews[\"rev_text_lower\"]"
      ]
    },
    {
      "cell_type": "code",
      "execution_count": 13,
      "metadata": {
        "id": "nNCKzL3G9O5u",
        "outputId": "6cb8899d-d504-4d9f-cb33-c9d449e24ce6",
        "colab": {
          "base_uri": "https://localhost:8080/",
          "height": 112
        }
      },
      "outputs": [
        {
          "output_type": "execute_result",
          "data": {
            "text/plain": [
              "                                             reviewText  \\\n",
              "4303  In my new setup the Kinect Camera was best go ...   \n",
              "152   The game never worked... kept given error on f...   \n",
              "\n",
              "                                         rev_text_lower  \n",
              "4303  in my new setup the kinect camera was best go ...  \n",
              "152   the game never worked kept given error on file...  "
            ],
            "text/html": [
              "\n",
              "  <div id=\"df-7ded09d9-5085-4a50-a26a-989c9153079c\">\n",
              "    <div class=\"colab-df-container\">\n",
              "      <div>\n",
              "<style scoped>\n",
              "    .dataframe tbody tr th:only-of-type {\n",
              "        vertical-align: middle;\n",
              "    }\n",
              "\n",
              "    .dataframe tbody tr th {\n",
              "        vertical-align: top;\n",
              "    }\n",
              "\n",
              "    .dataframe thead th {\n",
              "        text-align: right;\n",
              "    }\n",
              "</style>\n",
              "<table border=\"1\" class=\"dataframe\">\n",
              "  <thead>\n",
              "    <tr style=\"text-align: right;\">\n",
              "      <th></th>\n",
              "      <th>reviewText</th>\n",
              "      <th>rev_text_lower</th>\n",
              "    </tr>\n",
              "  </thead>\n",
              "  <tbody>\n",
              "    <tr>\n",
              "      <th>4303</th>\n",
              "      <td>In my new setup the Kinect Camera was best go ...</td>\n",
              "      <td>in my new setup the kinect camera was best go ...</td>\n",
              "    </tr>\n",
              "    <tr>\n",
              "      <th>152</th>\n",
              "      <td>The game never worked... kept given error on f...</td>\n",
              "      <td>the game never worked kept given error on file...</td>\n",
              "    </tr>\n",
              "  </tbody>\n",
              "</table>\n",
              "</div>\n",
              "      <button class=\"colab-df-convert\" onclick=\"convertToInteractive('df-7ded09d9-5085-4a50-a26a-989c9153079c')\"\n",
              "              title=\"Convert this dataframe to an interactive table.\"\n",
              "              style=\"display:none;\">\n",
              "        \n",
              "  <svg xmlns=\"http://www.w3.org/2000/svg\" height=\"24px\"viewBox=\"0 0 24 24\"\n",
              "       width=\"24px\">\n",
              "    <path d=\"M0 0h24v24H0V0z\" fill=\"none\"/>\n",
              "    <path d=\"M18.56 5.44l.94 2.06.94-2.06 2.06-.94-2.06-.94-.94-2.06-.94 2.06-2.06.94zm-11 1L8.5 8.5l.94-2.06 2.06-.94-2.06-.94L8.5 2.5l-.94 2.06-2.06.94zm10 10l.94 2.06.94-2.06 2.06-.94-2.06-.94-.94-2.06-.94 2.06-2.06.94z\"/><path d=\"M17.41 7.96l-1.37-1.37c-.4-.4-.92-.59-1.43-.59-.52 0-1.04.2-1.43.59L10.3 9.45l-7.72 7.72c-.78.78-.78 2.05 0 2.83L4 21.41c.39.39.9.59 1.41.59.51 0 1.02-.2 1.41-.59l7.78-7.78 2.81-2.81c.8-.78.8-2.07 0-2.86zM5.41 20L4 18.59l7.72-7.72 1.47 1.35L5.41 20z\"/>\n",
              "  </svg>\n",
              "      </button>\n",
              "      \n",
              "  <style>\n",
              "    .colab-df-container {\n",
              "      display:flex;\n",
              "      flex-wrap:wrap;\n",
              "      gap: 12px;\n",
              "    }\n",
              "\n",
              "    .colab-df-convert {\n",
              "      background-color: #E8F0FE;\n",
              "      border: none;\n",
              "      border-radius: 50%;\n",
              "      cursor: pointer;\n",
              "      display: none;\n",
              "      fill: #1967D2;\n",
              "      height: 32px;\n",
              "      padding: 0 0 0 0;\n",
              "      width: 32px;\n",
              "    }\n",
              "\n",
              "    .colab-df-convert:hover {\n",
              "      background-color: #E2EBFA;\n",
              "      box-shadow: 0px 1px 2px rgba(60, 64, 67, 0.3), 0px 1px 3px 1px rgba(60, 64, 67, 0.15);\n",
              "      fill: #174EA6;\n",
              "    }\n",
              "\n",
              "    [theme=dark] .colab-df-convert {\n",
              "      background-color: #3B4455;\n",
              "      fill: #D2E3FC;\n",
              "    }\n",
              "\n",
              "    [theme=dark] .colab-df-convert:hover {\n",
              "      background-color: #434B5C;\n",
              "      box-shadow: 0px 1px 3px 1px rgba(0, 0, 0, 0.15);\n",
              "      filter: drop-shadow(0px 1px 2px rgba(0, 0, 0, 0.3));\n",
              "      fill: #FFFFFF;\n",
              "    }\n",
              "  </style>\n",
              "\n",
              "      <script>\n",
              "        const buttonEl =\n",
              "          document.querySelector('#df-7ded09d9-5085-4a50-a26a-989c9153079c button.colab-df-convert');\n",
              "        buttonEl.style.display =\n",
              "          google.colab.kernel.accessAllowed ? 'block' : 'none';\n",
              "\n",
              "        async function convertToInteractive(key) {\n",
              "          const element = document.querySelector('#df-7ded09d9-5085-4a50-a26a-989c9153079c');\n",
              "          const dataTable =\n",
              "            await google.colab.kernel.invokeFunction('convertToInteractive',\n",
              "                                                     [key], {});\n",
              "          if (!dataTable) return;\n",
              "\n",
              "          const docLinkHtml = 'Like what you see? Visit the ' +\n",
              "            '<a target=\"_blank\" href=https://colab.research.google.com/notebooks/data_table.ipynb>data table notebook</a>'\n",
              "            + ' to learn more about interactive tables.';\n",
              "          element.innerHTML = '';\n",
              "          dataTable['output_type'] = 'display_data';\n",
              "          await google.colab.output.renderOutput(dataTable, element);\n",
              "          const docLink = document.createElement('div');\n",
              "          docLink.innerHTML = docLinkHtml;\n",
              "          element.appendChild(docLink);\n",
              "        }\n",
              "      </script>\n",
              "    </div>\n",
              "  </div>\n",
              "  "
            ]
          },
          "metadata": {},
          "execution_count": 13
        }
      ],
      "source": [
        "reviews[['reviewText','rev_text_lower']].sample(2)"
      ]
    },
    {
      "cell_type": "code",
      "execution_count": 14,
      "metadata": {
        "id": "cx3VDYUZ9O5v"
      },
      "outputs": [],
      "source": [
        "reviews[\"tb_tokens\"] = reviews['rev_text_lower'].apply(lambda rev: tb_tokenizer.tokenize(str(rev)))"
      ]
    },
    {
      "cell_type": "code",
      "execution_count": 15,
      "metadata": {
        "id": "k9a7c4NE9O5v"
      },
      "outputs": [],
      "source": [
        "pd.set_option('display.max_colwidth', None)"
      ]
    },
    {
      "cell_type": "code",
      "execution_count": 16,
      "metadata": {
        "id": "EE-KcyAA9O5w",
        "outputId": "4b2ea11d-02fd-4490-ff2a-5d2b3cc325f6",
        "colab": {
          "base_uri": "https://localhost:8080/",
          "height": 344
        }
      },
      "outputs": [
        {
          "output_type": "execute_result",
          "data": {
            "text/plain": [
              "                                                                                                                                                                                                                                                                                                                                                                                                                                                                                                                                                                                                                                                                                                                                                                 reviewText  \\\n",
              "1510                                                                                                                                                                                                                                                                                                                                                                                                                                                                                                                                                                                                                                                                              Scroll wheel has never functioned properly. When you scroll down it just jitters the page   \n",
              "3696                                                                                                                                                                                                                                                                                                                                                                                                                                                                                                                                                                                                                  bought for grandson he loves it can move all around his rook while playing his x-box 360 cable is super long and he got 2 for the price of one thanks   \n",
              "2294  Just to let the viewers know, I have a \"Xbox\". After playing the first KOTOR. Which was excellent. I was expecting this one to be the same or even better. They did not finish takening out the bugs and finishing with the final touch ups. It keeps locking up when you use the Workbenches ( for upgrades) on the planet Peragus. Also it would skip certain movies. So I finally took mine back to the store and exchanged with a newer/updated one. It still had problems, but enough that I could finish the story. You can see they were too much in a hurry to have it released on time (very big mistake). FYI: Next time if it is not ready for release then wait til it is. You really disappointed many Star Wars Fans. I have been a fan since the 70's.   \n",
              "\n",
              "                                                                                                                                                                                                                                                                                                                                                                                                                                                                                                                                                                                                                                              tb_tokens  \n",
              "1510                                                                                                                                                                                                                                                                                                                                                                                                                                                                                                                                           [scroll, wheel, has, never, functioned, properly, when, you, scroll, down, it, just, jitters, the, page]  \n",
              "3696                                                                                                                                                                                                                                                                                                                                                                                                                                                               [bought, for, grandson, he, loves, it, can, move, all, around, his, rook, while, playing, his, xbox, 360, cable, is, super, long, and, he, got, 2, for, the, price, of, one, thanks]  \n",
              "2294  [just, to, let, the, viewers, know, i, have, a, xbox, after, playing, the, first, kotor, which, was, excellent, i, was, expecting, this, one, to, be, the, same, or, even, better, they, did, not, finish, takening, out, the, bugs, and, finishing, with, the, final, touch, ups, it, keeps, locking, up, when, you, use, the, workbenches, for, upgrades, on, the, planet, peragus, also, it, would, skip, certain, movies, so, i, finally, took, mine, back, to, the, store, and, exchanged, with, a, newerupdated, one, it, still, had, problems, but, enough, that, i, could, finish, the, story, you, can, see, they, were, too, much, ...]  "
            ],
            "text/html": [
              "\n",
              "  <div id=\"df-7bc188cb-8c28-4827-a374-42ef3c8f5de8\">\n",
              "    <div class=\"colab-df-container\">\n",
              "      <div>\n",
              "<style scoped>\n",
              "    .dataframe tbody tr th:only-of-type {\n",
              "        vertical-align: middle;\n",
              "    }\n",
              "\n",
              "    .dataframe tbody tr th {\n",
              "        vertical-align: top;\n",
              "    }\n",
              "\n",
              "    .dataframe thead th {\n",
              "        text-align: right;\n",
              "    }\n",
              "</style>\n",
              "<table border=\"1\" class=\"dataframe\">\n",
              "  <thead>\n",
              "    <tr style=\"text-align: right;\">\n",
              "      <th></th>\n",
              "      <th>reviewText</th>\n",
              "      <th>tb_tokens</th>\n",
              "    </tr>\n",
              "  </thead>\n",
              "  <tbody>\n",
              "    <tr>\n",
              "      <th>1510</th>\n",
              "      <td>Scroll wheel has never functioned properly. When you scroll down it just jitters the page</td>\n",
              "      <td>[scroll, wheel, has, never, functioned, properly, when, you, scroll, down, it, just, jitters, the, page]</td>\n",
              "    </tr>\n",
              "    <tr>\n",
              "      <th>3696</th>\n",
              "      <td>bought for grandson he loves it can move all around his rook while playing his x-box 360 cable is super long and he got 2 for the price of one thanks</td>\n",
              "      <td>[bought, for, grandson, he, loves, it, can, move, all, around, his, rook, while, playing, his, xbox, 360, cable, is, super, long, and, he, got, 2, for, the, price, of, one, thanks]</td>\n",
              "    </tr>\n",
              "    <tr>\n",
              "      <th>2294</th>\n",
              "      <td>Just to let the viewers know, I have a \"Xbox\". After playing the first KOTOR. Which was excellent. I was expecting this one to be the same or even better. They did not finish takening out the bugs and finishing with the final touch ups. It keeps locking up when you use the Workbenches ( for upgrades) on the planet Peragus. Also it would skip certain movies. So I finally took mine back to the store and exchanged with a newer/updated one. It still had problems, but enough that I could finish the story. You can see they were too much in a hurry to have it released on time (very big mistake). FYI: Next time if it is not ready for release then wait til it is. You really disappointed many Star Wars Fans. I have been a fan since the 70's.</td>\n",
              "      <td>[just, to, let, the, viewers, know, i, have, a, xbox, after, playing, the, first, kotor, which, was, excellent, i, was, expecting, this, one, to, be, the, same, or, even, better, they, did, not, finish, takening, out, the, bugs, and, finishing, with, the, final, touch, ups, it, keeps, locking, up, when, you, use, the, workbenches, for, upgrades, on, the, planet, peragus, also, it, would, skip, certain, movies, so, i, finally, took, mine, back, to, the, store, and, exchanged, with, a, newerupdated, one, it, still, had, problems, but, enough, that, i, could, finish, the, story, you, can, see, they, were, too, much, ...]</td>\n",
              "    </tr>\n",
              "  </tbody>\n",
              "</table>\n",
              "</div>\n",
              "      <button class=\"colab-df-convert\" onclick=\"convertToInteractive('df-7bc188cb-8c28-4827-a374-42ef3c8f5de8')\"\n",
              "              title=\"Convert this dataframe to an interactive table.\"\n",
              "              style=\"display:none;\">\n",
              "        \n",
              "  <svg xmlns=\"http://www.w3.org/2000/svg\" height=\"24px\"viewBox=\"0 0 24 24\"\n",
              "       width=\"24px\">\n",
              "    <path d=\"M0 0h24v24H0V0z\" fill=\"none\"/>\n",
              "    <path d=\"M18.56 5.44l.94 2.06.94-2.06 2.06-.94-2.06-.94-.94-2.06-.94 2.06-2.06.94zm-11 1L8.5 8.5l.94-2.06 2.06-.94-2.06-.94L8.5 2.5l-.94 2.06-2.06.94zm10 10l.94 2.06.94-2.06 2.06-.94-2.06-.94-.94-2.06-.94 2.06-2.06.94z\"/><path d=\"M17.41 7.96l-1.37-1.37c-.4-.4-.92-.59-1.43-.59-.52 0-1.04.2-1.43.59L10.3 9.45l-7.72 7.72c-.78.78-.78 2.05 0 2.83L4 21.41c.39.39.9.59 1.41.59.51 0 1.02-.2 1.41-.59l7.78-7.78 2.81-2.81c.8-.78.8-2.07 0-2.86zM5.41 20L4 18.59l7.72-7.72 1.47 1.35L5.41 20z\"/>\n",
              "  </svg>\n",
              "      </button>\n",
              "      \n",
              "  <style>\n",
              "    .colab-df-container {\n",
              "      display:flex;\n",
              "      flex-wrap:wrap;\n",
              "      gap: 12px;\n",
              "    }\n",
              "\n",
              "    .colab-df-convert {\n",
              "      background-color: #E8F0FE;\n",
              "      border: none;\n",
              "      border-radius: 50%;\n",
              "      cursor: pointer;\n",
              "      display: none;\n",
              "      fill: #1967D2;\n",
              "      height: 32px;\n",
              "      padding: 0 0 0 0;\n",
              "      width: 32px;\n",
              "    }\n",
              "\n",
              "    .colab-df-convert:hover {\n",
              "      background-color: #E2EBFA;\n",
              "      box-shadow: 0px 1px 2px rgba(60, 64, 67, 0.3), 0px 1px 3px 1px rgba(60, 64, 67, 0.15);\n",
              "      fill: #174EA6;\n",
              "    }\n",
              "\n",
              "    [theme=dark] .colab-df-convert {\n",
              "      background-color: #3B4455;\n",
              "      fill: #D2E3FC;\n",
              "    }\n",
              "\n",
              "    [theme=dark] .colab-df-convert:hover {\n",
              "      background-color: #434B5C;\n",
              "      box-shadow: 0px 1px 3px 1px rgba(0, 0, 0, 0.15);\n",
              "      filter: drop-shadow(0px 1px 2px rgba(0, 0, 0, 0.3));\n",
              "      fill: #FFFFFF;\n",
              "    }\n",
              "  </style>\n",
              "\n",
              "      <script>\n",
              "        const buttonEl =\n",
              "          document.querySelector('#df-7bc188cb-8c28-4827-a374-42ef3c8f5de8 button.colab-df-convert');\n",
              "        buttonEl.style.display =\n",
              "          google.colab.kernel.accessAllowed ? 'block' : 'none';\n",
              "\n",
              "        async function convertToInteractive(key) {\n",
              "          const element = document.querySelector('#df-7bc188cb-8c28-4827-a374-42ef3c8f5de8');\n",
              "          const dataTable =\n",
              "            await google.colab.kernel.invokeFunction('convertToInteractive',\n",
              "                                                     [key], {});\n",
              "          if (!dataTable) return;\n",
              "\n",
              "          const docLinkHtml = 'Like what you see? Visit the ' +\n",
              "            '<a target=\"_blank\" href=https://colab.research.google.com/notebooks/data_table.ipynb>data table notebook</a>'\n",
              "            + ' to learn more about interactive tables.';\n",
              "          element.innerHTML = '';\n",
              "          dataTable['output_type'] = 'display_data';\n",
              "          await google.colab.output.renderOutput(dataTable, element);\n",
              "          const docLink = document.createElement('div');\n",
              "          docLink.innerHTML = docLinkHtml;\n",
              "          element.appendChild(docLink);\n",
              "        }\n",
              "      </script>\n",
              "    </div>\n",
              "  </div>\n",
              "  "
            ]
          },
          "metadata": {},
          "execution_count": 16
        }
      ],
      "source": [
        "reviews[['reviewText','tb_tokens']].sample(3)"
      ]
    },
    {
      "cell_type": "markdown",
      "metadata": {
        "id": "bk7Mo2gN9O5x"
      },
      "source": [
        "### Casual Tokenizer"
      ]
    },
    {
      "cell_type": "code",
      "execution_count": 17,
      "metadata": {
        "id": "nvRB50xi9O5y"
      },
      "outputs": [],
      "source": [
        "from nltk.tokenize.casual import casual_tokenize"
      ]
    },
    {
      "cell_type": "code",
      "execution_count": 18,
      "metadata": {
        "id": "fIIjOxFI9O5y"
      },
      "outputs": [],
      "source": [
        "reviews['casual_tokens'] = reviews['rev_text_lower'].apply(lambda rev: casual_tokenize(str(rev)))"
      ]
    },
    {
      "cell_type": "code",
      "execution_count": 19,
      "metadata": {
        "id": "Fbj5agrf9O5z",
        "outputId": "a743a93c-6f62-4805-ca89-c0f02000435d",
        "colab": {
          "base_uri": "https://localhost:8080/",
          "height": 587
        }
      },
      "outputs": [
        {
          "output_type": "execute_result",
          "data": {
            "text/plain": [
              "                                                                                                                                                                                                                                                                                                                                                                                                                                                                                                                                                                                                                                                                                                                                                                                                                                                                                                                                                                                                                        reviewText  \\\n",
              "1298  Lousy manager mode!!\\n\\nPlaying in manager mode is just a full screen graphic. Quite honestly, playing on my commodore 64 was more fun. I remember Apple computer released a game in the 80s that had a manager mode that had GRAPHICS. And today's game makers can't achieve this?\\n\\nGraphics average. Pitching is fairly accurate... when your pitcher gets tired or rattled, the aim gets shakey and harder to hit your mark... I like that. This also allows for pitches to be balls, which leads to the \"ever so rare\" BASE ON BALLS.\\n\\nHitting is done by pulling back on the R3 stick and releasing to swing. You can't aim WHERE to swing. Ultimately, it's too easy.\\n\\nAlso, controls, at times, are WAY TOO CONFUSING. I was batting one time, bumped something ???? and my RIGHT HANDED batter switched to a LEFTY!!??\\n\\nThis game is a mess.  Not to mention, after playing 4 games of a 5 game series, while loading up game 5, it locked up on me.\\n\\nBOO HISS! AND GIVE US A MANAGER MODE WITH GRAPHICS!!   \n",
              "2372                                                                                                                                                                                                                                                                                                                                                                                                                                                                                                                                                                                                                                                                                                                                                                                                               It's a, \"I am board lets kill some crap\" Type game. I hear that various carniverous species come pay the hunter a visit every once and a while.  LOL  there funny,  I would only buy it if the game were cheap.   \n",
              "234                                                                                                                                                                                                                                                                                                                                                                                                                                                                                                                                                                                                                                                                                                                     Does Not work if you are not connected to the internet. I repeat! Does not work if you are not connected to the internet! No! you cannot play if your XBox fails to connect to the internet. Why do you need to be connected to the internet to play by yourself? Who needs to know my progress in Mordor?   \n",
              "\n",
              "                                                                                                                                                                                                                                                                                                                                                                                                                                                                                                                                                                                                                                                         casual_tokens  \\\n",
              "1298  [lousy, manager, mode, playing, in, manager, mode, is, just, a, full, screen, graphic, quite, honestly, playing, on, my, commodore, 64, was, more, fun, i, remember, apple, computer, released, a, game, in, the, 80s, that, had, a, manager, mode, that, had, graphics, and, todays, game, makers, cant, achieve, this, graphics, average, pitching, is, fairly, accurate, when, your, pitcher, gets, tired, or, rattled, the, aim, gets, shakey, and, harder, to, hit, your, mark, i, like, that, this, also, allows, for, pitches, to, be, balls, which, leads, to, the, ever, so, rare, base, on, balls, hitting, is, done, by, pulling, back, on, the, ...]   \n",
              "2372                                                                                                                                                                                                                                                                                                                                                                                                                    [its, a, i, am, board, lets, kill, some, crap, type, game, i, hear, that, various, carniverous, species, come, pay, the, hunter, a, visit, every, once, and, a, while, lol, there, funny, i, would, only, buy, it, if, the, game, were, cheap]   \n",
              "234                                                                                                                                                                                                                                                                                                    [does, not, work, if, you, are, not, connected, to, the, internet, i, repeat, does, not, work, if, you, are, not, connected, to, the, internet, no, you, cannot, play, if, your, xbox, fails, to, connect, to, the, internet, why, do, you, need, to, be, connected, to, the, internet, to, play, by, yourself, who, needs, to, know, my, progress, in, mordor]   \n",
              "\n",
              "                                                                                                                                                                                                                                                                                                                                                                                                                                                                                                                                                                                                                                                             tb_tokens  \n",
              "1298  [lousy, manager, mode, playing, in, manager, mode, is, just, a, full, screen, graphic, quite, honestly, playing, on, my, commodore, 64, was, more, fun, i, remember, apple, computer, released, a, game, in, the, 80s, that, had, a, manager, mode, that, had, graphics, and, todays, game, makers, cant, achieve, this, graphics, average, pitching, is, fairly, accurate, when, your, pitcher, gets, tired, or, rattled, the, aim, gets, shakey, and, harder, to, hit, your, mark, i, like, that, this, also, allows, for, pitches, to, be, balls, which, leads, to, the, ever, so, rare, base, on, balls, hitting, is, done, by, pulling, back, on, the, ...]  \n",
              "2372                                                                                                                                                                                                                                                                                                                                                                                                                    [its, a, i, am, board, lets, kill, some, crap, type, game, i, hear, that, various, carniverous, species, come, pay, the, hunter, a, visit, every, once, and, a, while, lol, there, funny, i, would, only, buy, it, if, the, game, were, cheap]  \n",
              "234                                                                                                                                                                                                                                                                                                  [does, not, work, if, you, are, not, connected, to, the, internet, i, repeat, does, not, work, if, you, are, not, connected, to, the, internet, no, you, can, not, play, if, your, xbox, fails, to, connect, to, the, internet, why, do, you, need, to, be, connected, to, the, internet, to, play, by, yourself, who, needs, to, know, my, progress, in, mordor]  "
            ],
            "text/html": [
              "\n",
              "  <div id=\"df-066da251-ed22-4795-9a35-eb0bf43fb9ea\">\n",
              "    <div class=\"colab-df-container\">\n",
              "      <div>\n",
              "<style scoped>\n",
              "    .dataframe tbody tr th:only-of-type {\n",
              "        vertical-align: middle;\n",
              "    }\n",
              "\n",
              "    .dataframe tbody tr th {\n",
              "        vertical-align: top;\n",
              "    }\n",
              "\n",
              "    .dataframe thead th {\n",
              "        text-align: right;\n",
              "    }\n",
              "</style>\n",
              "<table border=\"1\" class=\"dataframe\">\n",
              "  <thead>\n",
              "    <tr style=\"text-align: right;\">\n",
              "      <th></th>\n",
              "      <th>reviewText</th>\n",
              "      <th>casual_tokens</th>\n",
              "      <th>tb_tokens</th>\n",
              "    </tr>\n",
              "  </thead>\n",
              "  <tbody>\n",
              "    <tr>\n",
              "      <th>1298</th>\n",
              "      <td>Lousy manager mode!!\\n\\nPlaying in manager mode is just a full screen graphic. Quite honestly, playing on my commodore 64 was more fun. I remember Apple computer released a game in the 80s that had a manager mode that had GRAPHICS. And today's game makers can't achieve this?\\n\\nGraphics average. Pitching is fairly accurate... when your pitcher gets tired or rattled, the aim gets shakey and harder to hit your mark... I like that. This also allows for pitches to be balls, which leads to the \"ever so rare\" BASE ON BALLS.\\n\\nHitting is done by pulling back on the R3 stick and releasing to swing. You can't aim WHERE to swing. Ultimately, it's too easy.\\n\\nAlso, controls, at times, are WAY TOO CONFUSING. I was batting one time, bumped something ???? and my RIGHT HANDED batter switched to a LEFTY!!??\\n\\nThis game is a mess.  Not to mention, after playing 4 games of a 5 game series, while loading up game 5, it locked up on me.\\n\\nBOO HISS! AND GIVE US A MANAGER MODE WITH GRAPHICS!!</td>\n",
              "      <td>[lousy, manager, mode, playing, in, manager, mode, is, just, a, full, screen, graphic, quite, honestly, playing, on, my, commodore, 64, was, more, fun, i, remember, apple, computer, released, a, game, in, the, 80s, that, had, a, manager, mode, that, had, graphics, and, todays, game, makers, cant, achieve, this, graphics, average, pitching, is, fairly, accurate, when, your, pitcher, gets, tired, or, rattled, the, aim, gets, shakey, and, harder, to, hit, your, mark, i, like, that, this, also, allows, for, pitches, to, be, balls, which, leads, to, the, ever, so, rare, base, on, balls, hitting, is, done, by, pulling, back, on, the, ...]</td>\n",
              "      <td>[lousy, manager, mode, playing, in, manager, mode, is, just, a, full, screen, graphic, quite, honestly, playing, on, my, commodore, 64, was, more, fun, i, remember, apple, computer, released, a, game, in, the, 80s, that, had, a, manager, mode, that, had, graphics, and, todays, game, makers, cant, achieve, this, graphics, average, pitching, is, fairly, accurate, when, your, pitcher, gets, tired, or, rattled, the, aim, gets, shakey, and, harder, to, hit, your, mark, i, like, that, this, also, allows, for, pitches, to, be, balls, which, leads, to, the, ever, so, rare, base, on, balls, hitting, is, done, by, pulling, back, on, the, ...]</td>\n",
              "    </tr>\n",
              "    <tr>\n",
              "      <th>2372</th>\n",
              "      <td>It's a, \"I am board lets kill some crap\" Type game. I hear that various carniverous species come pay the hunter a visit every once and a while.  LOL  there funny,  I would only buy it if the game were cheap.</td>\n",
              "      <td>[its, a, i, am, board, lets, kill, some, crap, type, game, i, hear, that, various, carniverous, species, come, pay, the, hunter, a, visit, every, once, and, a, while, lol, there, funny, i, would, only, buy, it, if, the, game, were, cheap]</td>\n",
              "      <td>[its, a, i, am, board, lets, kill, some, crap, type, game, i, hear, that, various, carniverous, species, come, pay, the, hunter, a, visit, every, once, and, a, while, lol, there, funny, i, would, only, buy, it, if, the, game, were, cheap]</td>\n",
              "    </tr>\n",
              "    <tr>\n",
              "      <th>234</th>\n",
              "      <td>Does Not work if you are not connected to the internet. I repeat! Does not work if you are not connected to the internet! No! you cannot play if your XBox fails to connect to the internet. Why do you need to be connected to the internet to play by yourself? Who needs to know my progress in Mordor?</td>\n",
              "      <td>[does, not, work, if, you, are, not, connected, to, the, internet, i, repeat, does, not, work, if, you, are, not, connected, to, the, internet, no, you, cannot, play, if, your, xbox, fails, to, connect, to, the, internet, why, do, you, need, to, be, connected, to, the, internet, to, play, by, yourself, who, needs, to, know, my, progress, in, mordor]</td>\n",
              "      <td>[does, not, work, if, you, are, not, connected, to, the, internet, i, repeat, does, not, work, if, you, are, not, connected, to, the, internet, no, you, can, not, play, if, your, xbox, fails, to, connect, to, the, internet, why, do, you, need, to, be, connected, to, the, internet, to, play, by, yourself, who, needs, to, know, my, progress, in, mordor]</td>\n",
              "    </tr>\n",
              "  </tbody>\n",
              "</table>\n",
              "</div>\n",
              "      <button class=\"colab-df-convert\" onclick=\"convertToInteractive('df-066da251-ed22-4795-9a35-eb0bf43fb9ea')\"\n",
              "              title=\"Convert this dataframe to an interactive table.\"\n",
              "              style=\"display:none;\">\n",
              "        \n",
              "  <svg xmlns=\"http://www.w3.org/2000/svg\" height=\"24px\"viewBox=\"0 0 24 24\"\n",
              "       width=\"24px\">\n",
              "    <path d=\"M0 0h24v24H0V0z\" fill=\"none\"/>\n",
              "    <path d=\"M18.56 5.44l.94 2.06.94-2.06 2.06-.94-2.06-.94-.94-2.06-.94 2.06-2.06.94zm-11 1L8.5 8.5l.94-2.06 2.06-.94-2.06-.94L8.5 2.5l-.94 2.06-2.06.94zm10 10l.94 2.06.94-2.06 2.06-.94-2.06-.94-.94-2.06-.94 2.06-2.06.94z\"/><path d=\"M17.41 7.96l-1.37-1.37c-.4-.4-.92-.59-1.43-.59-.52 0-1.04.2-1.43.59L10.3 9.45l-7.72 7.72c-.78.78-.78 2.05 0 2.83L4 21.41c.39.39.9.59 1.41.59.51 0 1.02-.2 1.41-.59l7.78-7.78 2.81-2.81c.8-.78.8-2.07 0-2.86zM5.41 20L4 18.59l7.72-7.72 1.47 1.35L5.41 20z\"/>\n",
              "  </svg>\n",
              "      </button>\n",
              "      \n",
              "  <style>\n",
              "    .colab-df-container {\n",
              "      display:flex;\n",
              "      flex-wrap:wrap;\n",
              "      gap: 12px;\n",
              "    }\n",
              "\n",
              "    .colab-df-convert {\n",
              "      background-color: #E8F0FE;\n",
              "      border: none;\n",
              "      border-radius: 50%;\n",
              "      cursor: pointer;\n",
              "      display: none;\n",
              "      fill: #1967D2;\n",
              "      height: 32px;\n",
              "      padding: 0 0 0 0;\n",
              "      width: 32px;\n",
              "    }\n",
              "\n",
              "    .colab-df-convert:hover {\n",
              "      background-color: #E2EBFA;\n",
              "      box-shadow: 0px 1px 2px rgba(60, 64, 67, 0.3), 0px 1px 3px 1px rgba(60, 64, 67, 0.15);\n",
              "      fill: #174EA6;\n",
              "    }\n",
              "\n",
              "    [theme=dark] .colab-df-convert {\n",
              "      background-color: #3B4455;\n",
              "      fill: #D2E3FC;\n",
              "    }\n",
              "\n",
              "    [theme=dark] .colab-df-convert:hover {\n",
              "      background-color: #434B5C;\n",
              "      box-shadow: 0px 1px 3px 1px rgba(0, 0, 0, 0.15);\n",
              "      filter: drop-shadow(0px 1px 2px rgba(0, 0, 0, 0.3));\n",
              "      fill: #FFFFFF;\n",
              "    }\n",
              "  </style>\n",
              "\n",
              "      <script>\n",
              "        const buttonEl =\n",
              "          document.querySelector('#df-066da251-ed22-4795-9a35-eb0bf43fb9ea button.colab-df-convert');\n",
              "        buttonEl.style.display =\n",
              "          google.colab.kernel.accessAllowed ? 'block' : 'none';\n",
              "\n",
              "        async function convertToInteractive(key) {\n",
              "          const element = document.querySelector('#df-066da251-ed22-4795-9a35-eb0bf43fb9ea');\n",
              "          const dataTable =\n",
              "            await google.colab.kernel.invokeFunction('convertToInteractive',\n",
              "                                                     [key], {});\n",
              "          if (!dataTable) return;\n",
              "\n",
              "          const docLinkHtml = 'Like what you see? Visit the ' +\n",
              "            '<a target=\"_blank\" href=https://colab.research.google.com/notebooks/data_table.ipynb>data table notebook</a>'\n",
              "            + ' to learn more about interactive tables.';\n",
              "          element.innerHTML = '';\n",
              "          dataTable['output_type'] = 'display_data';\n",
              "          await google.colab.output.renderOutput(dataTable, element);\n",
              "          const docLink = document.createElement('div');\n",
              "          docLink.innerHTML = docLinkHtml;\n",
              "          element.appendChild(docLink);\n",
              "        }\n",
              "      </script>\n",
              "    </div>\n",
              "  </div>\n",
              "  "
            ]
          },
          "metadata": {},
          "execution_count": 19
        }
      ],
      "source": [
        "reviews[['reviewText','casual_tokens','tb_tokens']].sample(3)"
      ]
    },
    {
      "cell_type": "markdown",
      "metadata": {
        "id": "c3u_g6Zq9O50"
      },
      "source": [
        "### Removing StopWords\n",
        "This part has been remvoed as removing stop words is not good for sentiment analysis at all!!"
      ]
    },
    {
      "cell_type": "code",
      "execution_count": null,
      "metadata": {
        "id": "GFlI-vBT9O51"
      },
      "outputs": [],
      "source": [
        "#nltk.download('stopwords')"
      ]
    },
    {
      "cell_type": "code",
      "execution_count": null,
      "metadata": {
        "id": "fgTQVmyA9O52"
      },
      "outputs": [],
      "source": [
        "#stop_words = nltk.corpus.stopwords.words('english')"
      ]
    },
    {
      "cell_type": "code",
      "execution_count": null,
      "metadata": {
        "id": "P_pjDpUM9O52"
      },
      "outputs": [],
      "source": [
        "#stop_words.remove(\"no\")"
      ]
    },
    {
      "cell_type": "code",
      "execution_count": null,
      "metadata": {
        "id": "fiwz3lYM9O54"
      },
      "outputs": [],
      "source": [
        "#stop_words.remove(\"not\")"
      ]
    },
    {
      "cell_type": "code",
      "execution_count": null,
      "metadata": {
        "id": "rSX88C2r9O55"
      },
      "outputs": [],
      "source": [
        "#print(stop_words)"
      ]
    },
    {
      "cell_type": "code",
      "execution_count": null,
      "metadata": {
        "id": "2zclpmcV9O56"
      },
      "outputs": [],
      "source": [
        "#\"not\" in stop_words"
      ]
    },
    {
      "cell_type": "code",
      "execution_count": null,
      "metadata": {
        "id": "pn8mmcf29O57"
      },
      "outputs": [],
      "source": [
        "#len(stop_words)"
      ]
    },
    {
      "cell_type": "code",
      "execution_count": null,
      "metadata": {
        "id": "Qe7p83bl9O57"
      },
      "outputs": [],
      "source": [
        "#from string import punctuation\n",
        "#print(punctuation)"
      ]
    },
    {
      "cell_type": "code",
      "execution_count": null,
      "metadata": {
        "id": "QlHlT6uN9O59"
      },
      "outputs": [],
      "source": [
        "#reviews['tokens_nosw'] = reviews['tb_tokens'].\\\n",
        "#    apply(lambda words: [w for w in words if w not in stop_words and w not in punctuation and w != \"\"])"
      ]
    },
    {
      "cell_type": "code",
      "execution_count": null,
      "metadata": {
        "id": "BNTaWBsr9O5-"
      },
      "outputs": [],
      "source": [
        "#reviews[['tb_tokens','tokens_nosw']].sample(3)"
      ]
    },
    {
      "cell_type": "markdown",
      "metadata": {
        "id": "2p8oe3FG9O5-"
      },
      "source": [
        "### Stemming"
      ]
    },
    {
      "cell_type": "code",
      "execution_count": 20,
      "metadata": {
        "id": "W4HU6RBC9O5_"
      },
      "outputs": [],
      "source": [
        "from nltk.stem.porter import PorterStemmer"
      ]
    },
    {
      "cell_type": "code",
      "execution_count": 21,
      "metadata": {
        "id": "0GVreoJB9O5_"
      },
      "outputs": [],
      "source": [
        "stemmer = PorterStemmer()"
      ]
    },
    {
      "cell_type": "code",
      "execution_count": 22,
      "metadata": {
        "id": "r8RIJbfY9O6U"
      },
      "outputs": [],
      "source": [
        "reviews['tokens_stemmed'] = reviews['tb_tokens'].apply(lambda words: [stemmer.stem(w) for w in words])"
      ]
    },
    {
      "cell_type": "code",
      "execution_count": 23,
      "metadata": {
        "id": "70wOyl8K9O6V",
        "outputId": "38f44f9c-64c0-4efb-c722-095c89b6e0b9",
        "colab": {
          "base_uri": "https://localhost:8080/",
          "height": 274
        }
      },
      "outputs": [
        {
          "output_type": "execute_result",
          "data": {
            "text/plain": [
              "                                                                                                                                                                                                                                                                                                                                                                                                                                                                                         tb_tokens  \\\n",
              "4311                                                                                                                                                                                                                                                                                                                        [the, game, play, is, really, smooth, graphics, are, very, nice, especially, in, cutscenes, i, loved, the, campaign, story, and, the, multiplayer, is, extremely, fun]   \n",
              "2796                                                                                                                                                                                                                                                                                                                                                                                                                                                                                       [great]   \n",
              "3342  [dont, listen, to, those, other, reviewers, there, are, no, bugs, in, this, game, securom, will, not, harm, your, computer, there, is, no, launcher, and, there, are, no, online, features, the, game, will, not, be, corrupted, by, installing, this, expansion, pack, it, does, not, lag, unless, you, have, a, computer, that, cant, handle, the, game, it, will, not, make, you, uninstall, your, previous, expansion, packs, the, game, runs, perfectly, fine, its, a, very, fun, game]   \n",
              "\n",
              "                                                                                                                                                                                                                                                                                                                                                                                                                                                    tokens_stemmed  \n",
              "4311                                                                                                                                                                                                                                                                                                     [the, game, play, is, realli, smooth, graphic, are, veri, nice, especi, in, cutscen, i, love, the, campaign, stori, and, the, multiplay, is, extrem, fun]  \n",
              "2796                                                                                                                                                                                                                                                                                                                                                                                                                                                       [great]  \n",
              "3342  [dont, listen, to, those, other, review, there, are, no, bug, in, thi, game, securom, will, not, harm, your, comput, there, is, no, launcher, and, there, are, no, onlin, featur, the, game, will, not, be, corrupt, by, instal, thi, expans, pack, it, doe, not, lag, unless, you, have, a, comput, that, cant, handl, the, game, it, will, not, make, you, uninstal, your, previou, expans, pack, the, game, run, perfectli, fine, it, a, veri, fun, game]  "
            ],
            "text/html": [
              "\n",
              "  <div id=\"df-c673ef54-99a8-4f2f-a4b0-50e626ab11ae\">\n",
              "    <div class=\"colab-df-container\">\n",
              "      <div>\n",
              "<style scoped>\n",
              "    .dataframe tbody tr th:only-of-type {\n",
              "        vertical-align: middle;\n",
              "    }\n",
              "\n",
              "    .dataframe tbody tr th {\n",
              "        vertical-align: top;\n",
              "    }\n",
              "\n",
              "    .dataframe thead th {\n",
              "        text-align: right;\n",
              "    }\n",
              "</style>\n",
              "<table border=\"1\" class=\"dataframe\">\n",
              "  <thead>\n",
              "    <tr style=\"text-align: right;\">\n",
              "      <th></th>\n",
              "      <th>tb_tokens</th>\n",
              "      <th>tokens_stemmed</th>\n",
              "    </tr>\n",
              "  </thead>\n",
              "  <tbody>\n",
              "    <tr>\n",
              "      <th>4311</th>\n",
              "      <td>[the, game, play, is, really, smooth, graphics, are, very, nice, especially, in, cutscenes, i, loved, the, campaign, story, and, the, multiplayer, is, extremely, fun]</td>\n",
              "      <td>[the, game, play, is, realli, smooth, graphic, are, veri, nice, especi, in, cutscen, i, love, the, campaign, stori, and, the, multiplay, is, extrem, fun]</td>\n",
              "    </tr>\n",
              "    <tr>\n",
              "      <th>2796</th>\n",
              "      <td>[great]</td>\n",
              "      <td>[great]</td>\n",
              "    </tr>\n",
              "    <tr>\n",
              "      <th>3342</th>\n",
              "      <td>[dont, listen, to, those, other, reviewers, there, are, no, bugs, in, this, game, securom, will, not, harm, your, computer, there, is, no, launcher, and, there, are, no, online, features, the, game, will, not, be, corrupted, by, installing, this, expansion, pack, it, does, not, lag, unless, you, have, a, computer, that, cant, handle, the, game, it, will, not, make, you, uninstall, your, previous, expansion, packs, the, game, runs, perfectly, fine, its, a, very, fun, game]</td>\n",
              "      <td>[dont, listen, to, those, other, review, there, are, no, bug, in, thi, game, securom, will, not, harm, your, comput, there, is, no, launcher, and, there, are, no, onlin, featur, the, game, will, not, be, corrupt, by, instal, thi, expans, pack, it, doe, not, lag, unless, you, have, a, comput, that, cant, handl, the, game, it, will, not, make, you, uninstal, your, previou, expans, pack, the, game, run, perfectli, fine, it, a, veri, fun, game]</td>\n",
              "    </tr>\n",
              "  </tbody>\n",
              "</table>\n",
              "</div>\n",
              "      <button class=\"colab-df-convert\" onclick=\"convertToInteractive('df-c673ef54-99a8-4f2f-a4b0-50e626ab11ae')\"\n",
              "              title=\"Convert this dataframe to an interactive table.\"\n",
              "              style=\"display:none;\">\n",
              "        \n",
              "  <svg xmlns=\"http://www.w3.org/2000/svg\" height=\"24px\"viewBox=\"0 0 24 24\"\n",
              "       width=\"24px\">\n",
              "    <path d=\"M0 0h24v24H0V0z\" fill=\"none\"/>\n",
              "    <path d=\"M18.56 5.44l.94 2.06.94-2.06 2.06-.94-2.06-.94-.94-2.06-.94 2.06-2.06.94zm-11 1L8.5 8.5l.94-2.06 2.06-.94-2.06-.94L8.5 2.5l-.94 2.06-2.06.94zm10 10l.94 2.06.94-2.06 2.06-.94-2.06-.94-.94-2.06-.94 2.06-2.06.94z\"/><path d=\"M17.41 7.96l-1.37-1.37c-.4-.4-.92-.59-1.43-.59-.52 0-1.04.2-1.43.59L10.3 9.45l-7.72 7.72c-.78.78-.78 2.05 0 2.83L4 21.41c.39.39.9.59 1.41.59.51 0 1.02-.2 1.41-.59l7.78-7.78 2.81-2.81c.8-.78.8-2.07 0-2.86zM5.41 20L4 18.59l7.72-7.72 1.47 1.35L5.41 20z\"/>\n",
              "  </svg>\n",
              "      </button>\n",
              "      \n",
              "  <style>\n",
              "    .colab-df-container {\n",
              "      display:flex;\n",
              "      flex-wrap:wrap;\n",
              "      gap: 12px;\n",
              "    }\n",
              "\n",
              "    .colab-df-convert {\n",
              "      background-color: #E8F0FE;\n",
              "      border: none;\n",
              "      border-radius: 50%;\n",
              "      cursor: pointer;\n",
              "      display: none;\n",
              "      fill: #1967D2;\n",
              "      height: 32px;\n",
              "      padding: 0 0 0 0;\n",
              "      width: 32px;\n",
              "    }\n",
              "\n",
              "    .colab-df-convert:hover {\n",
              "      background-color: #E2EBFA;\n",
              "      box-shadow: 0px 1px 2px rgba(60, 64, 67, 0.3), 0px 1px 3px 1px rgba(60, 64, 67, 0.15);\n",
              "      fill: #174EA6;\n",
              "    }\n",
              "\n",
              "    [theme=dark] .colab-df-convert {\n",
              "      background-color: #3B4455;\n",
              "      fill: #D2E3FC;\n",
              "    }\n",
              "\n",
              "    [theme=dark] .colab-df-convert:hover {\n",
              "      background-color: #434B5C;\n",
              "      box-shadow: 0px 1px 3px 1px rgba(0, 0, 0, 0.15);\n",
              "      filter: drop-shadow(0px 1px 2px rgba(0, 0, 0, 0.3));\n",
              "      fill: #FFFFFF;\n",
              "    }\n",
              "  </style>\n",
              "\n",
              "      <script>\n",
              "        const buttonEl =\n",
              "          document.querySelector('#df-c673ef54-99a8-4f2f-a4b0-50e626ab11ae button.colab-df-convert');\n",
              "        buttonEl.style.display =\n",
              "          google.colab.kernel.accessAllowed ? 'block' : 'none';\n",
              "\n",
              "        async function convertToInteractive(key) {\n",
              "          const element = document.querySelector('#df-c673ef54-99a8-4f2f-a4b0-50e626ab11ae');\n",
              "          const dataTable =\n",
              "            await google.colab.kernel.invokeFunction('convertToInteractive',\n",
              "                                                     [key], {});\n",
              "          if (!dataTable) return;\n",
              "\n",
              "          const docLinkHtml = 'Like what you see? Visit the ' +\n",
              "            '<a target=\"_blank\" href=https://colab.research.google.com/notebooks/data_table.ipynb>data table notebook</a>'\n",
              "            + ' to learn more about interactive tables.';\n",
              "          element.innerHTML = '';\n",
              "          dataTable['output_type'] = 'display_data';\n",
              "          await google.colab.output.renderOutput(dataTable, element);\n",
              "          const docLink = document.createElement('div');\n",
              "          docLink.innerHTML = docLinkHtml;\n",
              "          element.appendChild(docLink);\n",
              "        }\n",
              "      </script>\n",
              "    </div>\n",
              "  </div>\n",
              "  "
            ]
          },
          "metadata": {},
          "execution_count": 23
        }
      ],
      "source": [
        "reviews[['tb_tokens','tokens_stemmed']].sample(3)"
      ]
    },
    {
      "cell_type": "markdown",
      "metadata": {
        "id": "NbLReZg89O6W"
      },
      "source": [
        "### Lemmatisation"
      ]
    },
    {
      "cell_type": "code",
      "execution_count": 24,
      "metadata": {
        "id": "pYN3CM9V9O6W"
      },
      "outputs": [],
      "source": [
        "from nltk.stem import WordNetLemmatizer\n",
        "from nltk.corpus import wordnet as wn\n",
        "from nltk.corpus import sentiwordnet as swn\n",
        "from nltk import sent_tokenize, word_tokenize, pos_tag"
      ]
    },
    {
      "cell_type": "code",
      "execution_count": 25,
      "metadata": {
        "id": "RkLm70b29O6X"
      },
      "outputs": [],
      "source": [
        "def penn_to_wn(tag):\n",
        "    \"\"\"\n",
        "        Convert between the PennTreebank tags to simple Wordnet tags\n",
        "    \"\"\"\n",
        "    if tag.startswith('J'):\n",
        "        return wn.ADJ\n",
        "    elif tag.startswith('N'):\n",
        "        return wn.NOUN\n",
        "    elif tag.startswith('R'):\n",
        "        return wn.ADV\n",
        "    elif tag.startswith('V'):\n",
        "        return wn.VERB\n",
        "    return None"
      ]
    },
    {
      "cell_type": "code",
      "execution_count": 26,
      "metadata": {
        "id": "AYSPV7Kz9O6Y"
      },
      "outputs": [],
      "source": [
        "lemmatizer = WordNetLemmatizer()\n",
        "def get_lemas(tokens):\n",
        "    lemmas = []\n",
        "    for token in tokens:\n",
        "        pos = penn_to_wn(pos_tag([token])[0][1])\n",
        "        if pos:\n",
        "            lemma = lemmatizer.lemmatize(token, pos)\n",
        "            if lemma:\n",
        "                lemmas.append(lemma)\n",
        "    return lemmas"
      ]
    },
    {
      "cell_type": "code",
      "source": [
        "import nltk\n",
        "nltk.download('averaged_perceptron_tagger')\n",
        "nltk.download('wordnet')\n",
        "nltk.download('omw-1.4')"
      ],
      "metadata": {
        "colab": {
          "base_uri": "https://localhost:8080/"
        },
        "id": "8KI2UA_dFNb1",
        "outputId": "1b915cca-9b12-4911-e62e-cbce27270a51"
      },
      "execution_count": 33,
      "outputs": [
        {
          "output_type": "stream",
          "name": "stderr",
          "text": [
            "[nltk_data] Downloading package averaged_perceptron_tagger to\n",
            "[nltk_data]     /root/nltk_data...\n",
            "[nltk_data]   Package averaged_perceptron_tagger is already up-to-\n",
            "[nltk_data]       date!\n",
            "[nltk_data] Downloading package wordnet to /root/nltk_data...\n",
            "[nltk_data]   Package wordnet is already up-to-date!\n",
            "[nltk_data] Downloading package omw-1.4 to /root/nltk_data...\n"
          ]
        },
        {
          "output_type": "execute_result",
          "data": {
            "text/plain": [
              "True"
            ]
          },
          "metadata": {},
          "execution_count": 33
        }
      ]
    },
    {
      "cell_type": "code",
      "execution_count": 34,
      "metadata": {
        "id": "TM8-Ken99O6Z"
      },
      "outputs": [],
      "source": [
        "reviews['lemmas'] = reviews['tb_tokens'].apply(lambda tokens: get_lemas(tokens))"
      ]
    },
    {
      "cell_type": "code",
      "source": [
        "reviews[['reviewText','tokens_stemmed','lemmas']].sample(2)"
      ],
      "metadata": {
        "colab": {
          "base_uri": "https://localhost:8080/",
          "height": 521
        },
        "id": "Ne1GJAyrFoQC",
        "outputId": "c37ad633-dffc-42ce-fd0a-361e5bae79e3"
      },
      "execution_count": 35,
      "outputs": [
        {
          "output_type": "execute_result",
          "data": {
            "text/plain": [
              "                                                                                                                                                                                                                                                                                                                                                                                                                                                                                                                                                                                                                                                                                                                                                                                                                                                                                                                                                                                                                                                                                                                                                                                                                                                                                                                                                                                                                                                                                                                                                                                                                                                                                                                                                                                                                    reviewText  \\\n",
              "3725                                                                                                                                                                                                                                                                                                                                                                                                                                                                                                                                                                                                                                                                                                                                                                                                                                                                                                                                                                                                                                                                                                                                                                                                                                                                                                                                                                                                                                                                                                                                                                                                                                                                                                         Definitely one of the best games ever made. All the crash games are the awesome! Ps1 and Ps2 have the best games.   \n",
              "154   Ordered the digital code.  I keep getting this message when I enter the code: \" The code you entered may not be correct or may no longer be valid. Please check your entry.\"  Amazon says I need to contact Sony.  Sony phone says wait is 40 minutes and recommends using online chat.  Every few minutes Sony chat updates the screen with \"Verification expired. Check the checkbox again.\" followed by the message \"Cannot contact reCAPTCHA. Check your connection and try again.\"  There is absolutely no problem with my connection!  Meanwhile my grandson is expecting to be able to play this game tomorrow and right now it seems like I'll have to kiss this $21.44 goodbye and purchase this item again from a brick-and-mortar store.\\n\\nUPDATE:  Before shutting down my computer for the night I checked my email and found a message from Sony thanking me for my purchase.  I checked my download library and found \"Need for Speed\" was already there -- even though I never was able to enter the code.  Not sure I like how that happened, and it would have been nice if instead of the invalid code message they would have informed me that it was already in my library.  Anyway, it is downloading now and hopefully my grandson will be happy when he sees it on his PS4 tomorrow.\\n\\nUPDATE 2:  My grandson continues to have connection problems with EA and NFS servers, both at startup and with run-time network errors.  He is downstairs crying now because 1) just after he bought a car he was kicked off with a network error, 2) he just tried repeatedly for more than half an hour to get back on, and 3) when he got back on the car he purchased was gone along with the money he used to purchase it.  Between his experience with this game and GW2 he is disgusted with EA.   \n",
              "\n",
              "                                                                                                                                                                                                                                                                                                                                                                                                                                                                                                                                                                                                                                   tokens_stemmed  \\\n",
              "3725                                                                                                                                                                                                                                                                                                                                                                                                                                                                                                               [definit, one, of, the, best, game, ever, made, all, the, crash, game, are, the, awesom, ps1, and, ps2, have, the, best, game]   \n",
              "154   [order, the, digit, code, i, keep, get, thi, messag, when, i, enter, the, code, the, code, you, enter, may, not, be, correct, or, may, no, longer, be, valid, pleas, check, your, entri, amazon, say, i, need, to, contact, soni, soni, phone, say, wait, is, 40, minut, and, recommend, use, onlin, chat, everi, few, minut, soni, chat, updat, the, screen, with, verif, expir, check, the, checkbox, again, follow, by, the, messag, can, not, contact, recaptcha, check, your, connect, and, tri, again, there, is, absolut, no, problem, with, my, connect, meanwhil, my, grandson, is, expect, to, be, abl, to, play, thi, game, ...]   \n",
              "\n",
              "                                                                                                                                                                                                                                                                                                                                                                                                                                                                                                                                                                                                                                                                                                                                                       lemmas  \n",
              "3725                                                                                                                                                                                                                                                                                                                                                                                                                                                                                                                                                                                                                                                               [definitely, best, game, ever, make, crash, game, be, awesome, ps1, ps2, have, best, game]  \n",
              "154   [order, digital, code, i, keep, get, message, i, enter, code, code, enter, not, be, correct, longer, be, valid, please, check, entry, amazon, say, i, need, contact, sony, sony, phone, say, wait, be, minute, recommends, use, online, chat, few, minute, sony, chat, update, screen, verification, expire, check, checkbox, again, follow, message, not, contact, recaptcha, check, connection, try, again, there, be, absolutely, problem, connection, meanwhile, grandson, be, expect, be, able, play, game, tomorrow, right, now, seem, ill, have, kiss, goodbye, purchase, item, again, brickandmortar, store, update, shut, down, computer, night, i, checked, email, found, message, sony, thank, purchase, i, checked, download, library, ...]  "
            ],
            "text/html": [
              "\n",
              "  <div id=\"df-07b2888f-17c1-4c03-8ce8-41049df93459\">\n",
              "    <div class=\"colab-df-container\">\n",
              "      <div>\n",
              "<style scoped>\n",
              "    .dataframe tbody tr th:only-of-type {\n",
              "        vertical-align: middle;\n",
              "    }\n",
              "\n",
              "    .dataframe tbody tr th {\n",
              "        vertical-align: top;\n",
              "    }\n",
              "\n",
              "    .dataframe thead th {\n",
              "        text-align: right;\n",
              "    }\n",
              "</style>\n",
              "<table border=\"1\" class=\"dataframe\">\n",
              "  <thead>\n",
              "    <tr style=\"text-align: right;\">\n",
              "      <th></th>\n",
              "      <th>reviewText</th>\n",
              "      <th>tokens_stemmed</th>\n",
              "      <th>lemmas</th>\n",
              "    </tr>\n",
              "  </thead>\n",
              "  <tbody>\n",
              "    <tr>\n",
              "      <th>3725</th>\n",
              "      <td>Definitely one of the best games ever made. All the crash games are the awesome! Ps1 and Ps2 have the best games.</td>\n",
              "      <td>[definit, one, of, the, best, game, ever, made, all, the, crash, game, are, the, awesom, ps1, and, ps2, have, the, best, game]</td>\n",
              "      <td>[definitely, best, game, ever, make, crash, game, be, awesome, ps1, ps2, have, best, game]</td>\n",
              "    </tr>\n",
              "    <tr>\n",
              "      <th>154</th>\n",
              "      <td>Ordered the digital code.  I keep getting this message when I enter the code: \" The code you entered may not be correct or may no longer be valid. Please check your entry.\"  Amazon says I need to contact Sony.  Sony phone says wait is 40 minutes and recommends using online chat.  Every few minutes Sony chat updates the screen with \"Verification expired. Check the checkbox again.\" followed by the message \"Cannot contact reCAPTCHA. Check your connection and try again.\"  There is absolutely no problem with my connection!  Meanwhile my grandson is expecting to be able to play this game tomorrow and right now it seems like I'll have to kiss this $21.44 goodbye and purchase this item again from a brick-and-mortar store.\\n\\nUPDATE:  Before shutting down my computer for the night I checked my email and found a message from Sony thanking me for my purchase.  I checked my download library and found \"Need for Speed\" was already there -- even though I never was able to enter the code.  Not sure I like how that happened, and it would have been nice if instead of the invalid code message they would have informed me that it was already in my library.  Anyway, it is downloading now and hopefully my grandson will be happy when he sees it on his PS4 tomorrow.\\n\\nUPDATE 2:  My grandson continues to have connection problems with EA and NFS servers, both at startup and with run-time network errors.  He is downstairs crying now because 1) just after he bought a car he was kicked off with a network error, 2) he just tried repeatedly for more than half an hour to get back on, and 3) when he got back on the car he purchased was gone along with the money he used to purchase it.  Between his experience with this game and GW2 he is disgusted with EA.</td>\n",
              "      <td>[order, the, digit, code, i, keep, get, thi, messag, when, i, enter, the, code, the, code, you, enter, may, not, be, correct, or, may, no, longer, be, valid, pleas, check, your, entri, amazon, say, i, need, to, contact, soni, soni, phone, say, wait, is, 40, minut, and, recommend, use, onlin, chat, everi, few, minut, soni, chat, updat, the, screen, with, verif, expir, check, the, checkbox, again, follow, by, the, messag, can, not, contact, recaptcha, check, your, connect, and, tri, again, there, is, absolut, no, problem, with, my, connect, meanwhil, my, grandson, is, expect, to, be, abl, to, play, thi, game, ...]</td>\n",
              "      <td>[order, digital, code, i, keep, get, message, i, enter, code, code, enter, not, be, correct, longer, be, valid, please, check, entry, amazon, say, i, need, contact, sony, sony, phone, say, wait, be, minute, recommends, use, online, chat, few, minute, sony, chat, update, screen, verification, expire, check, checkbox, again, follow, message, not, contact, recaptcha, check, connection, try, again, there, be, absolutely, problem, connection, meanwhile, grandson, be, expect, be, able, play, game, tomorrow, right, now, seem, ill, have, kiss, goodbye, purchase, item, again, brickandmortar, store, update, shut, down, computer, night, i, checked, email, found, message, sony, thank, purchase, i, checked, download, library, ...]</td>\n",
              "    </tr>\n",
              "  </tbody>\n",
              "</table>\n",
              "</div>\n",
              "      <button class=\"colab-df-convert\" onclick=\"convertToInteractive('df-07b2888f-17c1-4c03-8ce8-41049df93459')\"\n",
              "              title=\"Convert this dataframe to an interactive table.\"\n",
              "              style=\"display:none;\">\n",
              "        \n",
              "  <svg xmlns=\"http://www.w3.org/2000/svg\" height=\"24px\"viewBox=\"0 0 24 24\"\n",
              "       width=\"24px\">\n",
              "    <path d=\"M0 0h24v24H0V0z\" fill=\"none\"/>\n",
              "    <path d=\"M18.56 5.44l.94 2.06.94-2.06 2.06-.94-2.06-.94-.94-2.06-.94 2.06-2.06.94zm-11 1L8.5 8.5l.94-2.06 2.06-.94-2.06-.94L8.5 2.5l-.94 2.06-2.06.94zm10 10l.94 2.06.94-2.06 2.06-.94-2.06-.94-.94-2.06-.94 2.06-2.06.94z\"/><path d=\"M17.41 7.96l-1.37-1.37c-.4-.4-.92-.59-1.43-.59-.52 0-1.04.2-1.43.59L10.3 9.45l-7.72 7.72c-.78.78-.78 2.05 0 2.83L4 21.41c.39.39.9.59 1.41.59.51 0 1.02-.2 1.41-.59l7.78-7.78 2.81-2.81c.8-.78.8-2.07 0-2.86zM5.41 20L4 18.59l7.72-7.72 1.47 1.35L5.41 20z\"/>\n",
              "  </svg>\n",
              "      </button>\n",
              "      \n",
              "  <style>\n",
              "    .colab-df-container {\n",
              "      display:flex;\n",
              "      flex-wrap:wrap;\n",
              "      gap: 12px;\n",
              "    }\n",
              "\n",
              "    .colab-df-convert {\n",
              "      background-color: #E8F0FE;\n",
              "      border: none;\n",
              "      border-radius: 50%;\n",
              "      cursor: pointer;\n",
              "      display: none;\n",
              "      fill: #1967D2;\n",
              "      height: 32px;\n",
              "      padding: 0 0 0 0;\n",
              "      width: 32px;\n",
              "    }\n",
              "\n",
              "    .colab-df-convert:hover {\n",
              "      background-color: #E2EBFA;\n",
              "      box-shadow: 0px 1px 2px rgba(60, 64, 67, 0.3), 0px 1px 3px 1px rgba(60, 64, 67, 0.15);\n",
              "      fill: #174EA6;\n",
              "    }\n",
              "\n",
              "    [theme=dark] .colab-df-convert {\n",
              "      background-color: #3B4455;\n",
              "      fill: #D2E3FC;\n",
              "    }\n",
              "\n",
              "    [theme=dark] .colab-df-convert:hover {\n",
              "      background-color: #434B5C;\n",
              "      box-shadow: 0px 1px 3px 1px rgba(0, 0, 0, 0.15);\n",
              "      filter: drop-shadow(0px 1px 2px rgba(0, 0, 0, 0.3));\n",
              "      fill: #FFFFFF;\n",
              "    }\n",
              "  </style>\n",
              "\n",
              "      <script>\n",
              "        const buttonEl =\n",
              "          document.querySelector('#df-07b2888f-17c1-4c03-8ce8-41049df93459 button.colab-df-convert');\n",
              "        buttonEl.style.display =\n",
              "          google.colab.kernel.accessAllowed ? 'block' : 'none';\n",
              "\n",
              "        async function convertToInteractive(key) {\n",
              "          const element = document.querySelector('#df-07b2888f-17c1-4c03-8ce8-41049df93459');\n",
              "          const dataTable =\n",
              "            await google.colab.kernel.invokeFunction('convertToInteractive',\n",
              "                                                     [key], {});\n",
              "          if (!dataTable) return;\n",
              "\n",
              "          const docLinkHtml = 'Like what you see? Visit the ' +\n",
              "            '<a target=\"_blank\" href=https://colab.research.google.com/notebooks/data_table.ipynb>data table notebook</a>'\n",
              "            + ' to learn more about interactive tables.';\n",
              "          element.innerHTML = '';\n",
              "          dataTable['output_type'] = 'display_data';\n",
              "          await google.colab.output.renderOutput(dataTable, element);\n",
              "          const docLink = document.createElement('div');\n",
              "          docLink.innerHTML = docLinkHtml;\n",
              "          element.appendChild(docLink);\n",
              "        }\n",
              "      </script>\n",
              "    </div>\n",
              "  </div>\n",
              "  "
            ]
          },
          "metadata": {},
          "execution_count": 35
        }
      ]
    },
    {
      "cell_type": "markdown",
      "source": [
        "### Sentiment Predictor Baseline Model"
      ],
      "metadata": {
        "id": "uOUoTKb7FyPL"
      }
    },
    {
      "cell_type": "code",
      "source": [
        "def get_sentiment_score(tokens):\n",
        "    score = 0\n",
        "    tags = pos_tag(tokens)\n",
        "    for word, tag in tags:\n",
        "        wn_tag = penn_to_wn(tag)\n",
        "        if not wn_tag:\n",
        "            continue\n",
        "        synsets = wn.synsets(word, pos=wn_tag)\n",
        "        if not synsets:\n",
        "            continue\n",
        "        \n",
        "        #most common set:\n",
        "        synset = synsets[0]\n",
        "        swn_synset = swn.senti_synset(synset.name())\n",
        "        \n",
        "        score += (swn_synset.pos_score() - swn_synset.neg_score())\n",
        "        \n",
        "    return score"
      ],
      "metadata": {
        "id": "sue-3wfvF0GQ"
      },
      "execution_count": 36,
      "outputs": []
    },
    {
      "cell_type": "code",
      "source": [
        "  import nltk\n",
        "  nltk.download('sentiwordnet')\n"
      ],
      "metadata": {
        "colab": {
          "base_uri": "https://localhost:8080/"
        },
        "id": "GJVmXBMKF-IM",
        "outputId": "788c447e-1bbf-4607-c400-b73cf638f93a"
      },
      "execution_count": 46,
      "outputs": [
        {
          "output_type": "stream",
          "name": "stderr",
          "text": [
            "[nltk_data] Downloading package sentiwordnet to /root/nltk_data...\n",
            "[nltk_data]   Package sentiwordnet is already up-to-date!\n"
          ]
        },
        {
          "output_type": "execute_result",
          "data": {
            "text/plain": [
              "True"
            ]
          },
          "metadata": {},
          "execution_count": 46
        }
      ]
    },
    {
      "cell_type": "code",
      "source": [
        "## test\n",
        "swn.senti_synset(wn.synsets(\"perfect\", wn.ADJ)[0].name()).pos_score()"
      ],
      "metadata": {
        "colab": {
          "base_uri": "https://localhost:8080/"
        },
        "id": "JyPvL82dF5EX",
        "outputId": "c994bb01-12c9-4e67-b3ac-0af1dd6cba8b"
      },
      "execution_count": 47,
      "outputs": [
        {
          "output_type": "execute_result",
          "data": {
            "text/plain": [
              "0.625"
            ]
          },
          "metadata": {},
          "execution_count": 47
        }
      ]
    },
    {
      "cell_type": "code",
      "source": [
        "reviews['sentiment_score'] = reviews['lemmas'].apply(lambda tokens: get_sentiment_score(tokens))"
      ],
      "metadata": {
        "id": "1LeiqovWGDlw"
      },
      "execution_count": 48,
      "outputs": []
    },
    {
      "cell_type": "code",
      "source": [
        "reviews[['reviewText','lemmas','sentiment_score']].sample(5)"
      ],
      "metadata": {
        "colab": {
          "base_uri": "https://localhost:8080/",
          "height": 476
        },
        "id": "6aednnAnGMau",
        "outputId": "8528d19c-90e7-44f8-cec3-ba37ef1fb618"
      },
      "execution_count": 49,
      "outputs": [
        {
          "output_type": "execute_result",
          "data": {
            "text/plain": [
              "                                                                                                                                                                                                                                                                                                                                                                                                                                                                                                                                                                                                                                                                                                                                                                                                                                                                         reviewText  \\\n",
              "29    Purchased from Rexflo.  I really want to love this mouse, since it fits comfortably in my hand.  I currently own an FK1+, EC1A, Logitech G403 Wireless, Nixeus Revel, HyperX Pulsefire FPS, and Pluggable 3360 mouse.  Unfortunately within a month the middle scroll button from the White EC2A started to fail with inconsistent clicks and getting stuck.\\n\\nI applied for an RMA with Zowie direct which took about Two weeks and reaching out to their social channels for a response.  Totally disappointing initial service.\\n\\nFortunately the replacement took three days total for a replacement, much faster than a response which helped ease the frustration of the service. A product is only as good as the provided service for a whole experience.\\n\\nLet's see how the replacement turns out.  Rexflo: A+, Zowie Support Intial Response: F-, Zowie RMA: A+   \n",
              "2799                                                                                                                                                                                                                                                                                                                                                                                                                                                                                                                                                                                                                                                                                                                                                                                                                                Works great. Exactly what it was suppose to be.   \n",
              "1271                                                                                                                                                                                                                                                                                                                                                                                                                                                                                                                                                                                                   As a longtime player of the cod series I am really disappointed in this game.  I tried to enjoy it but something is missing. The weapons aren't the best, the maps are of poor construction, and in general the graphics aren't as appealing as the trailers led to believe.   \n",
              "1083                                                                                                                                                                                                                                                                                                                                                                                                                                                                                                                                                                                                                                                                                      I love zelda but this game only stayed in my collection for a day. :/\\nDidn't really capture my attention the way other zelda games have.\\nLinks awakening dx is still the best zelda Imo   \n",
              "1285                                                                                                                                                                                                                                                                                                                                                                                                                                                                                                                                                                                                                                                                                                                                                                                                                                                                            :-)   \n",
              "\n",
              "                                                                                                                                                                                                                                                                                                                                                                                                                                                                                                                                                                                                                                                                                            lemmas  \\\n",
              "29    [purchase, rexflo, i, really, want, love, mouse, fit, comfortably, hand, i, currently, own, fk1, ec1a, logitech, g403, wireless, nixeus, revel, hyperx, pulsefire, fps, pluggable, mouse, unfortunately, month, middle, scroll, button, white, ec2a, start, fail, inconsistent, click, get, stuck, i, apply, rma, zowie, direct, take, week, reach, social, channel, response, totally, disappoint, initial, service, fortunately, replacement, take, day, total, replacement, much, faster, response, help, ease, frustration, service, product, be, only, good, provide, service, whole, experience, let, see, replacement, turn, rexflo, zowie, support, intial, response, f, zowie, rma]   \n",
              "2799                                                                                                                                                                                                                                                                                                                                                                                                                                                                                                                                                                                                                                                       [work, great, exactly, be, suppose, be]   \n",
              "1271                                                                                                                                                                                                                                                                                                                                                                                                                                                                             [longtime, player, cod, series, i, be, really, disappointed, game, i, try, enjoy, something, be, miss, weapon, arent, best, map, be, poor, construction, general, graphic, arent, appeal, trailer, lead, believe]   \n",
              "1083                                                                                                                                                                                                                                                                                                                                                                                                                                                                                                                        [i, love, zelda, game, only, stayed, collection, day, didnt, really, capture, attention, way, other, zelda, game, have, link, awaken, dx, be, still, best, zelda, imo]   \n",
              "1285                                                                                                                                                                                                                                                                                                                                                                                                                                                                                                                                                                                                                                                                                            []   \n",
              "\n",
              "      sentiment_score  \n",
              "29              2.875  \n",
              "2799            0.375  \n",
              "1271            0.875  \n",
              "1083            1.875  \n",
              "1285            0.000  "
            ],
            "text/html": [
              "\n",
              "  <div id=\"df-6edec561-331f-482a-b471-4f028c251df9\">\n",
              "    <div class=\"colab-df-container\">\n",
              "      <div>\n",
              "<style scoped>\n",
              "    .dataframe tbody tr th:only-of-type {\n",
              "        vertical-align: middle;\n",
              "    }\n",
              "\n",
              "    .dataframe tbody tr th {\n",
              "        vertical-align: top;\n",
              "    }\n",
              "\n",
              "    .dataframe thead th {\n",
              "        text-align: right;\n",
              "    }\n",
              "</style>\n",
              "<table border=\"1\" class=\"dataframe\">\n",
              "  <thead>\n",
              "    <tr style=\"text-align: right;\">\n",
              "      <th></th>\n",
              "      <th>reviewText</th>\n",
              "      <th>lemmas</th>\n",
              "      <th>sentiment_score</th>\n",
              "    </tr>\n",
              "  </thead>\n",
              "  <tbody>\n",
              "    <tr>\n",
              "      <th>29</th>\n",
              "      <td>Purchased from Rexflo.  I really want to love this mouse, since it fits comfortably in my hand.  I currently own an FK1+, EC1A, Logitech G403 Wireless, Nixeus Revel, HyperX Pulsefire FPS, and Pluggable 3360 mouse.  Unfortunately within a month the middle scroll button from the White EC2A started to fail with inconsistent clicks and getting stuck.\\n\\nI applied for an RMA with Zowie direct which took about Two weeks and reaching out to their social channels for a response.  Totally disappointing initial service.\\n\\nFortunately the replacement took three days total for a replacement, much faster than a response which helped ease the frustration of the service. A product is only as good as the provided service for a whole experience.\\n\\nLet's see how the replacement turns out.  Rexflo: A+, Zowie Support Intial Response: F-, Zowie RMA: A+</td>\n",
              "      <td>[purchase, rexflo, i, really, want, love, mouse, fit, comfortably, hand, i, currently, own, fk1, ec1a, logitech, g403, wireless, nixeus, revel, hyperx, pulsefire, fps, pluggable, mouse, unfortunately, month, middle, scroll, button, white, ec2a, start, fail, inconsistent, click, get, stuck, i, apply, rma, zowie, direct, take, week, reach, social, channel, response, totally, disappoint, initial, service, fortunately, replacement, take, day, total, replacement, much, faster, response, help, ease, frustration, service, product, be, only, good, provide, service, whole, experience, let, see, replacement, turn, rexflo, zowie, support, intial, response, f, zowie, rma]</td>\n",
              "      <td>2.875</td>\n",
              "    </tr>\n",
              "    <tr>\n",
              "      <th>2799</th>\n",
              "      <td>Works great. Exactly what it was suppose to be.</td>\n",
              "      <td>[work, great, exactly, be, suppose, be]</td>\n",
              "      <td>0.375</td>\n",
              "    </tr>\n",
              "    <tr>\n",
              "      <th>1271</th>\n",
              "      <td>As a longtime player of the cod series I am really disappointed in this game.  I tried to enjoy it but something is missing. The weapons aren't the best, the maps are of poor construction, and in general the graphics aren't as appealing as the trailers led to believe.</td>\n",
              "      <td>[longtime, player, cod, series, i, be, really, disappointed, game, i, try, enjoy, something, be, miss, weapon, arent, best, map, be, poor, construction, general, graphic, arent, appeal, trailer, lead, believe]</td>\n",
              "      <td>0.875</td>\n",
              "    </tr>\n",
              "    <tr>\n",
              "      <th>1083</th>\n",
              "      <td>I love zelda but this game only stayed in my collection for a day. :/\\nDidn't really capture my attention the way other zelda games have.\\nLinks awakening dx is still the best zelda Imo</td>\n",
              "      <td>[i, love, zelda, game, only, stayed, collection, day, didnt, really, capture, attention, way, other, zelda, game, have, link, awaken, dx, be, still, best, zelda, imo]</td>\n",
              "      <td>1.875</td>\n",
              "    </tr>\n",
              "    <tr>\n",
              "      <th>1285</th>\n",
              "      <td>:-)</td>\n",
              "      <td>[]</td>\n",
              "      <td>0.000</td>\n",
              "    </tr>\n",
              "  </tbody>\n",
              "</table>\n",
              "</div>\n",
              "      <button class=\"colab-df-convert\" onclick=\"convertToInteractive('df-6edec561-331f-482a-b471-4f028c251df9')\"\n",
              "              title=\"Convert this dataframe to an interactive table.\"\n",
              "              style=\"display:none;\">\n",
              "        \n",
              "  <svg xmlns=\"http://www.w3.org/2000/svg\" height=\"24px\"viewBox=\"0 0 24 24\"\n",
              "       width=\"24px\">\n",
              "    <path d=\"M0 0h24v24H0V0z\" fill=\"none\"/>\n",
              "    <path d=\"M18.56 5.44l.94 2.06.94-2.06 2.06-.94-2.06-.94-.94-2.06-.94 2.06-2.06.94zm-11 1L8.5 8.5l.94-2.06 2.06-.94-2.06-.94L8.5 2.5l-.94 2.06-2.06.94zm10 10l.94 2.06.94-2.06 2.06-.94-2.06-.94-.94-2.06-.94 2.06-2.06.94z\"/><path d=\"M17.41 7.96l-1.37-1.37c-.4-.4-.92-.59-1.43-.59-.52 0-1.04.2-1.43.59L10.3 9.45l-7.72 7.72c-.78.78-.78 2.05 0 2.83L4 21.41c.39.39.9.59 1.41.59.51 0 1.02-.2 1.41-.59l7.78-7.78 2.81-2.81c.8-.78.8-2.07 0-2.86zM5.41 20L4 18.59l7.72-7.72 1.47 1.35L5.41 20z\"/>\n",
              "  </svg>\n",
              "      </button>\n",
              "      \n",
              "  <style>\n",
              "    .colab-df-container {\n",
              "      display:flex;\n",
              "      flex-wrap:wrap;\n",
              "      gap: 12px;\n",
              "    }\n",
              "\n",
              "    .colab-df-convert {\n",
              "      background-color: #E8F0FE;\n",
              "      border: none;\n",
              "      border-radius: 50%;\n",
              "      cursor: pointer;\n",
              "      display: none;\n",
              "      fill: #1967D2;\n",
              "      height: 32px;\n",
              "      padding: 0 0 0 0;\n",
              "      width: 32px;\n",
              "    }\n",
              "\n",
              "    .colab-df-convert:hover {\n",
              "      background-color: #E2EBFA;\n",
              "      box-shadow: 0px 1px 2px rgba(60, 64, 67, 0.3), 0px 1px 3px 1px rgba(60, 64, 67, 0.15);\n",
              "      fill: #174EA6;\n",
              "    }\n",
              "\n",
              "    [theme=dark] .colab-df-convert {\n",
              "      background-color: #3B4455;\n",
              "      fill: #D2E3FC;\n",
              "    }\n",
              "\n",
              "    [theme=dark] .colab-df-convert:hover {\n",
              "      background-color: #434B5C;\n",
              "      box-shadow: 0px 1px 3px 1px rgba(0, 0, 0, 0.15);\n",
              "      filter: drop-shadow(0px 1px 2px rgba(0, 0, 0, 0.3));\n",
              "      fill: #FFFFFF;\n",
              "    }\n",
              "  </style>\n",
              "\n",
              "      <script>\n",
              "        const buttonEl =\n",
              "          document.querySelector('#df-6edec561-331f-482a-b471-4f028c251df9 button.colab-df-convert');\n",
              "        buttonEl.style.display =\n",
              "          google.colab.kernel.accessAllowed ? 'block' : 'none';\n",
              "\n",
              "        async function convertToInteractive(key) {\n",
              "          const element = document.querySelector('#df-6edec561-331f-482a-b471-4f028c251df9');\n",
              "          const dataTable =\n",
              "            await google.colab.kernel.invokeFunction('convertToInteractive',\n",
              "                                                     [key], {});\n",
              "          if (!dataTable) return;\n",
              "\n",
              "          const docLinkHtml = 'Like what you see? Visit the ' +\n",
              "            '<a target=\"_blank\" href=https://colab.research.google.com/notebooks/data_table.ipynb>data table notebook</a>'\n",
              "            + ' to learn more about interactive tables.';\n",
              "          element.innerHTML = '';\n",
              "          dataTable['output_type'] = 'display_data';\n",
              "          await google.colab.output.renderOutput(dataTable, element);\n",
              "          const docLink = document.createElement('div');\n",
              "          docLink.innerHTML = docLinkHtml;\n",
              "          element.appendChild(docLink);\n",
              "        }\n",
              "      </script>\n",
              "    </div>\n",
              "  </div>\n",
              "  "
            ]
          },
          "metadata": {},
          "execution_count": 49
        }
      ]
    }
  ],
  "metadata": {
    "kernelspec": {
      "display_name": "Python 3",
      "name": "python3"
    },
    "language_info": {
      "name": "python"
    },
    "orig_nbformat": 4,
    "vscode": {
      "interpreter": {
        "hash": "916dbcbb3f70747c44a77c7bcd40155683ae19c65e1c03b4aa3499c5328201f1"
      }
    },
    "colab": {
      "provenance": [],
      "include_colab_link": true
    },
    "gpuClass": "standard",
    "accelerator": "GPU"
  },
  "nbformat": 4,
  "nbformat_minor": 0
}