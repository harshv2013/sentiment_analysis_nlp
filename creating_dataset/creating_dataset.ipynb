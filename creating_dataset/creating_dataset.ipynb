{
 "cells": [
  {
   "cell_type": "markdown",
   "metadata": {},
   "source": [
    "## Objective\n",
    "* __Create your own dataset that contains a random sample of reviews__\n",
    "\n",
    "## Workflow\n",
    "\n",
    "1. Read the video game review data. Take a look at the text of the reviews and the ratings, which you will work with in this milestone.Note that your data is not pure JSON, but new line delimited JSON. To be able to read it, install and import  <span style=\"color:red\">ndjson</span>.\n",
    "2. Create a plot of the ratings of the product. Study the distribution of the five categories.\n",
    "3. Take a random sample of the reviews by selecting 1500 reviews with rating 1, 500-500-500 reviews with ratings 2, 3, 4, and 1500 reviews with rating 5. This way you get a smaller __balanced__ corpus, on which you will during Milestones 2-4. \n",
    "4. Take a random sample of the reviews by selecting 100,000 reviews. This way you get a bigger representative corpus, on which you will work in Milestones 4 and 5.\n",
    "    * If you want to get identical results that are provided as a sample solution, use 42 as a random state.\n",
    "5. Export your corpora to two separate .csv files. Both of your tables should contain a column for the reviews and a column for the ratings. From now on we call the review text of the JSON key “reviews” and the overall key “ratings.” Name your corpora small_corpus and big_corpus.\n"
   ]
  },
  {
   "cell_type": "code",
   "execution_count": 2,
   "metadata": {},
   "outputs": [],
   "source": [
    "import ndjson\n",
    "import pandas as pd\n",
    "import numpy as np\n",
    "import seaborn as sns"
   ]
  },
  {
   "cell_type": "code",
   "execution_count": 3,
   "metadata": {},
   "outputs": [],
   "source": [
    "# reading reviews from json file\n",
    "with open('../data/Video_Games_5.json') as f:\n",
    "    data = ndjson.load(f)"
   ]
  },
  {
   "cell_type": "code",
   "execution_count": 5,
   "metadata": {},
   "outputs": [],
   "source": [
    "reviews_df = pd.DataFrame(data)"
   ]
  },
  {
   "cell_type": "code",
   "execution_count": 6,
   "metadata": {},
   "outputs": [
    {
     "data": {
      "text/html": [
       "<div>\n",
       "<style scoped>\n",
       "    .dataframe tbody tr th:only-of-type {\n",
       "        vertical-align: middle;\n",
       "    }\n",
       "\n",
       "    .dataframe tbody tr th {\n",
       "        vertical-align: top;\n",
       "    }\n",
       "\n",
       "    .dataframe thead th {\n",
       "        text-align: right;\n",
       "    }\n",
       "</style>\n",
       "<table border=\"1\" class=\"dataframe\">\n",
       "  <thead>\n",
       "    <tr style=\"text-align: right;\">\n",
       "      <th></th>\n",
       "      <th>overall</th>\n",
       "      <th>verified</th>\n",
       "      <th>reviewTime</th>\n",
       "      <th>reviewerID</th>\n",
       "      <th>asin</th>\n",
       "      <th>reviewerName</th>\n",
       "      <th>reviewText</th>\n",
       "      <th>summary</th>\n",
       "      <th>unixReviewTime</th>\n",
       "      <th>vote</th>\n",
       "      <th>style</th>\n",
       "      <th>image</th>\n",
       "    </tr>\n",
       "  </thead>\n",
       "  <tbody>\n",
       "    <tr>\n",
       "      <th>0</th>\n",
       "      <td>5.0</td>\n",
       "      <td>True</td>\n",
       "      <td>10 17, 2015</td>\n",
       "      <td>A1HP7NVNPFMA4N</td>\n",
       "      <td>0700026657</td>\n",
       "      <td>Ambrosia075</td>\n",
       "      <td>This game is a bit hard to get the hang of, bu...</td>\n",
       "      <td>but when you do it's great.</td>\n",
       "      <td>1445040000</td>\n",
       "      <td>NaN</td>\n",
       "      <td>NaN</td>\n",
       "      <td>NaN</td>\n",
       "    </tr>\n",
       "    <tr>\n",
       "      <th>1</th>\n",
       "      <td>4.0</td>\n",
       "      <td>False</td>\n",
       "      <td>07 27, 2015</td>\n",
       "      <td>A1JGAP0185YJI6</td>\n",
       "      <td>0700026657</td>\n",
       "      <td>travis</td>\n",
       "      <td>I played it a while but it was alright. The st...</td>\n",
       "      <td>But in spite of that it was fun, I liked it</td>\n",
       "      <td>1437955200</td>\n",
       "      <td>NaN</td>\n",
       "      <td>NaN</td>\n",
       "      <td>NaN</td>\n",
       "    </tr>\n",
       "    <tr>\n",
       "      <th>2</th>\n",
       "      <td>3.0</td>\n",
       "      <td>True</td>\n",
       "      <td>02 23, 2015</td>\n",
       "      <td>A1YJWEXHQBWK2B</td>\n",
       "      <td>0700026657</td>\n",
       "      <td>Vincent G. Mezera</td>\n",
       "      <td>ok game.</td>\n",
       "      <td>Three Stars</td>\n",
       "      <td>1424649600</td>\n",
       "      <td>NaN</td>\n",
       "      <td>NaN</td>\n",
       "      <td>NaN</td>\n",
       "    </tr>\n",
       "    <tr>\n",
       "      <th>3</th>\n",
       "      <td>2.0</td>\n",
       "      <td>True</td>\n",
       "      <td>02 20, 2015</td>\n",
       "      <td>A2204E1TH211HT</td>\n",
       "      <td>0700026657</td>\n",
       "      <td>Grandma KR</td>\n",
       "      <td>found the game a bit too complicated, not what...</td>\n",
       "      <td>Two Stars</td>\n",
       "      <td>1424390400</td>\n",
       "      <td>NaN</td>\n",
       "      <td>NaN</td>\n",
       "      <td>NaN</td>\n",
       "    </tr>\n",
       "    <tr>\n",
       "      <th>4</th>\n",
       "      <td>5.0</td>\n",
       "      <td>True</td>\n",
       "      <td>12 25, 2014</td>\n",
       "      <td>A2RF5B5H74JLPE</td>\n",
       "      <td>0700026657</td>\n",
       "      <td>jon</td>\n",
       "      <td>great game, I love it and have played it since...</td>\n",
       "      <td>love this game</td>\n",
       "      <td>1419465600</td>\n",
       "      <td>NaN</td>\n",
       "      <td>NaN</td>\n",
       "      <td>NaN</td>\n",
       "    </tr>\n",
       "  </tbody>\n",
       "</table>\n",
       "</div>"
      ],
      "text/plain": [
       "   overall  verified   reviewTime      reviewerID        asin  \\\n",
       "0      5.0      True  10 17, 2015  A1HP7NVNPFMA4N  0700026657   \n",
       "1      4.0     False  07 27, 2015  A1JGAP0185YJI6  0700026657   \n",
       "2      3.0      True  02 23, 2015  A1YJWEXHQBWK2B  0700026657   \n",
       "3      2.0      True  02 20, 2015  A2204E1TH211HT  0700026657   \n",
       "4      5.0      True  12 25, 2014  A2RF5B5H74JLPE  0700026657   \n",
       "\n",
       "        reviewerName                                         reviewText  \\\n",
       "0        Ambrosia075  This game is a bit hard to get the hang of, bu...   \n",
       "1             travis  I played it a while but it was alright. The st...   \n",
       "2  Vincent G. Mezera                                           ok game.   \n",
       "3         Grandma KR  found the game a bit too complicated, not what...   \n",
       "4                jon  great game, I love it and have played it since...   \n",
       "\n",
       "                                       summary  unixReviewTime vote style  \\\n",
       "0                  but when you do it's great.      1445040000  NaN   NaN   \n",
       "1  But in spite of that it was fun, I liked it      1437955200  NaN   NaN   \n",
       "2                                  Three Stars      1424649600  NaN   NaN   \n",
       "3                                    Two Stars      1424390400  NaN   NaN   \n",
       "4                               love this game      1419465600  NaN   NaN   \n",
       "\n",
       "  image  \n",
       "0   NaN  \n",
       "1   NaN  \n",
       "2   NaN  \n",
       "3   NaN  \n",
       "4   NaN  "
      ]
     },
     "execution_count": 6,
     "metadata": {},
     "output_type": "execute_result"
    }
   ],
   "source": [
    "reviews_df.head()"
   ]
  },
  {
   "cell_type": "markdown",
   "metadata": {},
   "source": [
    "### Data Dictionry\n",
    "   * __reviewerID__ - ID of the reviewer, e.g. A2SUAM1J3GNN3B\n",
    "   * __asin__ - ID of the product, e.g. 0000013714\n",
    "   * **reviewerName** - name of the reviewer\n",
    "   * **vote** - helpful votes of the review\n",
    "   * **style** - a disctionary of the product metadata, e.g., \"Format\" is \"Hardcover\"\n",
    "   * **reviewText** - text of the review\n",
    "   * **overall** - rating of the product\n",
    "   * **summary** - summary of the review\n",
    "   * **unixReviewTime** - time of the review (unix time)\n",
    "   * **reviewTime** - time of the review (raw)\n",
    "   * **image** - images that users post after they have received the product"
   ]
  },
  {
   "cell_type": "code",
   "execution_count": 7,
   "metadata": {},
   "outputs": [
    {
     "data": {
      "text/plain": [
       "(497577, 12)"
      ]
     },
     "execution_count": 7,
     "metadata": {},
     "output_type": "execute_result"
    }
   ],
   "source": [
    "reviews_df.shape"
   ]
  },
  {
   "cell_type": "code",
   "execution_count": 8,
   "metadata": {},
   "outputs": [
    {
     "name": "stdout",
     "output_type": "stream",
     "text": [
      "<class 'pandas.core.frame.DataFrame'>\n",
      "RangeIndex: 497577 entries, 0 to 497576\n",
      "Data columns (total 12 columns):\n",
      " #   Column          Non-Null Count   Dtype  \n",
      "---  ------          --------------   -----  \n",
      " 0   overall         497577 non-null  float64\n",
      " 1   verified        497577 non-null  bool   \n",
      " 2   reviewTime      497577 non-null  object \n",
      " 3   reviewerID      497577 non-null  object \n",
      " 4   asin            497577 non-null  object \n",
      " 5   reviewerName    497501 non-null  object \n",
      " 6   reviewText      497419 non-null  object \n",
      " 7   summary         497468 non-null  object \n",
      " 8   unixReviewTime  497577 non-null  int64  \n",
      " 9   vote            107793 non-null  object \n",
      " 10  style           289237 non-null  object \n",
      " 11  image           3634 non-null    object \n",
      "dtypes: bool(1), float64(1), int64(1), object(9)\n",
      "memory usage: 42.2+ MB\n"
     ]
    }
   ],
   "source": [
    "reviews_df.info()"
   ]
  },
  {
   "cell_type": "code",
   "execution_count": 9,
   "metadata": {},
   "outputs": [
    {
     "data": {
      "text/plain": [
       "<AxesSubplot:xlabel='overall', ylabel='count'>"
      ]
     },
     "execution_count": 9,
     "metadata": {},
     "output_type": "execute_result"
    },
    {
     "data": {
      "image/png": "[encoded data removed]",
      "text/plain": [
       "<Figure size 432x288 with 1 Axes>"
      ]
     },
     "metadata": {
      "needs_background": "light"
     },
     "output_type": "display_data"
    }
   ],
   "source": [
    "sns.countplot(data = reviews_df, x='overall')"
   ]
  },
  {
   "cell_type": "code",
   "execution_count": 12,
   "metadata": {},
   "outputs": [
    {
     "data": {
      "text/plain": [
       "17408"
      ]
     },
     "execution_count": 12,
     "metadata": {},
     "output_type": "execute_result"
    }
   ],
   "source": [
    "len(reviews_df['asin'].value_counts(dropna=False))"
   ]
  },
  {
   "cell_type": "markdown",
   "metadata": {},
   "source": [
    "### Undersampling of Reviews\n",
    "Taking a random sample of the reviews by selecting 1500 reviews with rating 1, 500-500-500 reviews with ratings 2, 3, 4, and 1500 reviews with rating 5. This way you get a smaller balanced corpus, on which you will during Milestones 2-4."
   ]
  },
  {
   "cell_type": "code",
   "execution_count": 13,
   "metadata": {},
   "outputs": [],
   "source": [
    "one_1500 = reviews_df[reviews_df['overall']==1.0].sample(n=1500)\n",
    "two_500 = reviews_df[reviews_df['overall']==2.0].sample(n=500)\n",
    "three_500 = reviews_df[reviews_df['overall']==3.0].sample(n=500)\n",
    "four_500 = reviews_df[reviews_df['overall']==4.0].sample(n=500)\n",
    "five_1500 = reviews_df[reviews_df['overall']==5.0].sample(n=1500)"
   ]
  },
  {
   "cell_type": "code",
   "execution_count": 14,
   "metadata": {},
   "outputs": [],
   "source": [
    "undersampled_reviews = pd.concat([one_1500, two_500, three_500, four_500, five_1500], axis=0)"
   ]
  },
  {
   "cell_type": "code",
   "execution_count": 15,
   "metadata": {},
   "outputs": [
    {
     "data": {
      "text/html": [
       "<div>\n",
       "<style scoped>\n",
       "    .dataframe tbody tr th:only-of-type {\n",
       "        vertical-align: middle;\n",
       "    }\n",
       "\n",
       "    .dataframe tbody tr th {\n",
       "        vertical-align: top;\n",
       "    }\n",
       "\n",
       "    .dataframe thead th {\n",
       "        text-align: right;\n",
       "    }\n",
       "</style>\n",
       "<table border=\"1\" class=\"dataframe\">\n",
       "  <thead>\n",
       "    <tr style=\"text-align: right;\">\n",
       "      <th></th>\n",
       "      <th>overall</th>\n",
       "      <th>verified</th>\n",
       "      <th>reviewTime</th>\n",
       "      <th>reviewerID</th>\n",
       "      <th>asin</th>\n",
       "      <th>reviewerName</th>\n",
       "      <th>reviewText</th>\n",
       "      <th>summary</th>\n",
       "      <th>unixReviewTime</th>\n",
       "      <th>vote</th>\n",
       "      <th>style</th>\n",
       "      <th>image</th>\n",
       "    </tr>\n",
       "  </thead>\n",
       "  <tbody>\n",
       "    <tr>\n",
       "      <th>307726</th>\n",
       "      <td>1.0</td>\n",
       "      <td>False</td>\n",
       "      <td>06 16, 2015</td>\n",
       "      <td>A3159IXLXZHW9U</td>\n",
       "      <td>B00D2ZK1IG</td>\n",
       "      <td>Andrew Willette</td>\n",
       "      <td>bad controls. I felt like this game was a resi...</td>\n",
       "      <td>Resident Evil rip off</td>\n",
       "      <td>1434412800</td>\n",
       "      <td>NaN</td>\n",
       "      <td>{'Format:': ' Video Game'}</td>\n",
       "      <td>NaN</td>\n",
       "    </tr>\n",
       "    <tr>\n",
       "      <th>259230</th>\n",
       "      <td>1.0</td>\n",
       "      <td>True</td>\n",
       "      <td>07 7, 2012</td>\n",
       "      <td>A1TD2E11JK79I8</td>\n",
       "      <td>B005VKRGXI</td>\n",
       "      <td>M.K.</td>\n",
       "      <td>Update (July 10th 2012) - Condensed my review ...</td>\n",
       "      <td>Advertised but not delivered</td>\n",
       "      <td>1341619200</td>\n",
       "      <td>4</td>\n",
       "      <td>{'Platform:': ' PlayStation 3'}</td>\n",
       "      <td>NaN</td>\n",
       "    </tr>\n",
       "    <tr>\n",
       "      <th>483177</th>\n",
       "      <td>1.0</td>\n",
       "      <td>True</td>\n",
       "      <td>10 5, 2016</td>\n",
       "      <td>A1OMFWV9NZ7NIZ</td>\n",
       "      <td>B005DVAB1E</td>\n",
       "      <td>Christian Buehler</td>\n",
       "      <td>Achievement hunters only need apply.</td>\n",
       "      <td>One Star</td>\n",
       "      <td>1475625600</td>\n",
       "      <td>NaN</td>\n",
       "      <td>{'Platform:': ' Xbox 360'}</td>\n",
       "      <td>NaN</td>\n",
       "    </tr>\n",
       "    <tr>\n",
       "      <th>461294</th>\n",
       "      <td>1.0</td>\n",
       "      <td>True</td>\n",
       "      <td>10 17, 2017</td>\n",
       "      <td>A1NBZBNEBU3U3X</td>\n",
       "      <td>B0009350CQ</td>\n",
       "      <td>nana</td>\n",
       "      <td>ok</td>\n",
       "      <td>One Star</td>\n",
       "      <td>1508198400</td>\n",
       "      <td>NaN</td>\n",
       "      <td>{'Format:': ' Video Game'}</td>\n",
       "      <td>NaN</td>\n",
       "    </tr>\n",
       "    <tr>\n",
       "      <th>7309</th>\n",
       "      <td>1.0</td>\n",
       "      <td>False</td>\n",
       "      <td>06 19, 2012</td>\n",
       "      <td>A3J8ABVGK7ZL6H</td>\n",
       "      <td>B00002ST7X</td>\n",
       "      <td>Ishmael</td>\n",
       "      <td>Eternal Champions is an awesome game....for Se...</td>\n",
       "      <td>Sega CD version blows this one away!</td>\n",
       "      <td>1340064000</td>\n",
       "      <td>NaN</td>\n",
       "      <td>NaN</td>\n",
       "      <td>NaN</td>\n",
       "    </tr>\n",
       "  </tbody>\n",
       "</table>\n",
       "</div>"
      ],
      "text/plain": [
       "        overall  verified   reviewTime      reviewerID        asin  \\\n",
       "307726      1.0     False  06 16, 2015  A3159IXLXZHW9U  B00D2ZK1IG   \n",
       "259230      1.0      True   07 7, 2012  A1TD2E11JK79I8  B005VKRGXI   \n",
       "483177      1.0      True   10 5, 2016  A1OMFWV9NZ7NIZ  B005DVAB1E   \n",
       "461294      1.0      True  10 17, 2017  A1NBZBNEBU3U3X  B0009350CQ   \n",
       "7309        1.0     False  06 19, 2012  A3J8ABVGK7ZL6H  B00002ST7X   \n",
       "\n",
       "             reviewerName                                         reviewText  \\\n",
       "307726    Andrew Willette  bad controls. I felt like this game was a resi...   \n",
       "259230               M.K.  Update (July 10th 2012) - Condensed my review ...   \n",
       "483177  Christian Buehler               Achievement hunters only need apply.   \n",
       "461294               nana                                                 ok   \n",
       "7309              Ishmael  Eternal Champions is an awesome game....for Se...   \n",
       "\n",
       "                                     summary  unixReviewTime vote  \\\n",
       "307726                 Resident Evil rip off      1434412800  NaN   \n",
       "259230          Advertised but not delivered      1341619200    4   \n",
       "483177                              One Star      1475625600  NaN   \n",
       "461294                              One Star      1508198400  NaN   \n",
       "7309    Sega CD version blows this one away!      1340064000  NaN   \n",
       "\n",
       "                                  style image  \n",
       "307726       {'Format:': ' Video Game'}   NaN  \n",
       "259230  {'Platform:': ' PlayStation 3'}   NaN  \n",
       "483177       {'Platform:': ' Xbox 360'}   NaN  \n",
       "461294       {'Format:': ' Video Game'}   NaN  \n",
       "7309                                NaN   NaN  "
      ]
     },
     "execution_count": 15,
     "metadata": {},
     "output_type": "execute_result"
    }
   ],
   "source": [
    "undersampled_reviews.head()"
   ]
  },
  {
   "cell_type": "code",
   "execution_count": 16,
   "metadata": {},
   "outputs": [
    {
     "data": {
      "text/plain": [
       "1.0    1500\n",
       "5.0    1500\n",
       "2.0     500\n",
       "3.0     500\n",
       "4.0     500\n",
       "Name: overall, dtype: int64"
      ]
     },
     "execution_count": 16,
     "metadata": {},
     "output_type": "execute_result"
    }
   ],
   "source": [
    "undersampled_reviews['overall'].value_counts(dropna=False)"
   ]
  },
  {
   "cell_type": "code",
   "execution_count": 17,
   "metadata": {},
   "outputs": [
    {
     "data": {
      "text/plain": [
       "<AxesSubplot:xlabel='overall', ylabel='count'>"
      ]
     },
     "execution_count": 17,
     "metadata": {},
     "output_type": "execute_result"
    },
    {
     "data": {
      "image/png": "[encoded data removed]",
      "text/plain": [
       "<Figure size 432x288 with 1 Axes>"
      ]
     },
     "metadata": {
      "needs_background": "light"
     },
     "output_type": "display_data"
    }
   ],
   "source": [
    "sns.countplot(data=undersampled_reviews, x='overall')"
   ]
  },
  {
   "cell_type": "markdown",
   "metadata": {},
   "source": [
    "### Random Sampling of 100K Reviews"
   ]
  },
  {
   "cell_type": "code",
   "execution_count": 18,
   "metadata": {},
   "outputs": [],
   "source": [
    "sample_100K_revs = reviews_df.sample(n=100000, random_state=42)"
   ]
  },
  {
   "cell_type": "code",
   "execution_count": 19,
   "metadata": {},
   "outputs": [
    {
     "data": {
      "text/html": [
       "<div>\n",
       "<style scoped>\n",
       "    .dataframe tbody tr th:only-of-type {\n",
       "        vertical-align: middle;\n",
       "    }\n",
       "\n",
       "    .dataframe tbody tr th {\n",
       "        vertical-align: top;\n",
       "    }\n",
       "\n",
       "    .dataframe thead th {\n",
       "        text-align: right;\n",
       "    }\n",
       "</style>\n",
       "<table border=\"1\" class=\"dataframe\">\n",
       "  <thead>\n",
       "    <tr style=\"text-align: right;\">\n",
       "      <th></th>\n",
       "      <th>overall</th>\n",
       "      <th>verified</th>\n",
       "      <th>reviewTime</th>\n",
       "      <th>reviewerID</th>\n",
       "      <th>asin</th>\n",
       "      <th>reviewerName</th>\n",
       "      <th>reviewText</th>\n",
       "      <th>summary</th>\n",
       "      <th>unixReviewTime</th>\n",
       "      <th>vote</th>\n",
       "      <th>style</th>\n",
       "      <th>image</th>\n",
       "    </tr>\n",
       "  </thead>\n",
       "  <tbody>\n",
       "    <tr>\n",
       "      <th>364850</th>\n",
       "      <td>5.0</td>\n",
       "      <td>True</td>\n",
       "      <td>12 17, 2015</td>\n",
       "      <td>A2DABQ8D1XJT05</td>\n",
       "      <td>B00KWEH61U</td>\n",
       "      <td>Maryann</td>\n",
       "      <td>Love this 3ds game. I made a zombie Togepi wit...</td>\n",
       "      <td>Love this 3ds game</td>\n",
       "      <td>1450310400</td>\n",
       "      <td>NaN</td>\n",
       "      <td>NaN</td>\n",
       "      <td>NaN</td>\n",
       "    </tr>\n",
       "    <tr>\n",
       "      <th>216628</th>\n",
       "      <td>5.0</td>\n",
       "      <td>True</td>\n",
       "      <td>12 28, 2014</td>\n",
       "      <td>ANALWGWPY8HEA</td>\n",
       "      <td>B003S2JI82</td>\n",
       "      <td>John</td>\n",
       "      <td>Fun game</td>\n",
       "      <td>fun game</td>\n",
       "      <td>1419724800</td>\n",
       "      <td>NaN</td>\n",
       "      <td>{'Platform:': ' Nintendo Wii'}</td>\n",
       "      <td>NaN</td>\n",
       "    </tr>\n",
       "    <tr>\n",
       "      <th>319038</th>\n",
       "      <td>5.0</td>\n",
       "      <td>True</td>\n",
       "      <td>09 2, 2013</td>\n",
       "      <td>AZC9D5RVK7GR6</td>\n",
       "      <td>B00DTWES6I</td>\n",
       "      <td>Tye D. Reed</td>\n",
       "      <td>This game is so fun.  I think it is the best S...</td>\n",
       "      <td>Wow sooooo awsome</td>\n",
       "      <td>1378080000</td>\n",
       "      <td>NaN</td>\n",
       "      <td>{'Edition:': ' Deluxe', 'Platform:': ' PC Down...</td>\n",
       "      <td>NaN</td>\n",
       "    </tr>\n",
       "    <tr>\n",
       "      <th>440696</th>\n",
       "      <td>5.0</td>\n",
       "      <td>False</td>\n",
       "      <td>01 15, 2018</td>\n",
       "      <td>A9SIXGGYKDBD</td>\n",
       "      <td>B01GKF7T9S</td>\n",
       "      <td>Jaguar 10</td>\n",
       "      <td>I hated the first game but absolutely love thi...</td>\n",
       "      <td>Don't let Watchdogs 1 Deter You - this game is...</td>\n",
       "      <td>1515974400</td>\n",
       "      <td>NaN</td>\n",
       "      <td>{'Edition:': ' Standard', 'Platform:': ' PlayS...</td>\n",
       "      <td>NaN</td>\n",
       "    </tr>\n",
       "    <tr>\n",
       "      <th>287513</th>\n",
       "      <td>5.0</td>\n",
       "      <td>True</td>\n",
       "      <td>04 9, 2015</td>\n",
       "      <td>A1WDH8O30ZC16S</td>\n",
       "      <td>B00B67ZTUW</td>\n",
       "      <td>Atomic Kitty</td>\n",
       "      <td>Love the Tales games. Glad I purchased this one.</td>\n",
       "      <td>Great game, interactive for two players as well.</td>\n",
       "      <td>1428537600</td>\n",
       "      <td>NaN</td>\n",
       "      <td>{'Color:': ' Playstation 3'}</td>\n",
       "      <td>NaN</td>\n",
       "    </tr>\n",
       "    <tr>\n",
       "      <th>...</th>\n",
       "      <td>...</td>\n",
       "      <td>...</td>\n",
       "      <td>...</td>\n",
       "      <td>...</td>\n",
       "      <td>...</td>\n",
       "      <td>...</td>\n",
       "      <td>...</td>\n",
       "      <td>...</td>\n",
       "      <td>...</td>\n",
       "      <td>...</td>\n",
       "      <td>...</td>\n",
       "      <td>...</td>\n",
       "    </tr>\n",
       "    <tr>\n",
       "      <th>25721</th>\n",
       "      <td>4.0</td>\n",
       "      <td>True</td>\n",
       "      <td>01 28, 2015</td>\n",
       "      <td>A1J1F06GHQY2F7</td>\n",
       "      <td>B00005NECC</td>\n",
       "      <td>Michael Curtiss</td>\n",
       "      <td>This is a good game though my son was too youn...</td>\n",
       "      <td>GOOD GAME</td>\n",
       "      <td>1422403200</td>\n",
       "      <td>NaN</td>\n",
       "      <td>{'Edition:': ' Standard', 'Platform:': ' Game ...</td>\n",
       "      <td>NaN</td>\n",
       "    </tr>\n",
       "    <tr>\n",
       "      <th>250120</th>\n",
       "      <td>5.0</td>\n",
       "      <td>True</td>\n",
       "      <td>09 7, 2011</td>\n",
       "      <td>A33GG85KTMLDSW</td>\n",
       "      <td>B0053OLY9O</td>\n",
       "      <td>OJ Silk</td>\n",
       "      <td>I am very pleased with this headset. The sound...</td>\n",
       "      <td>Kudos to Sony -- excellent headset for PS3 &amp; PC</td>\n",
       "      <td>1315353600</td>\n",
       "      <td>4</td>\n",
       "      <td>NaN</td>\n",
       "      <td>NaN</td>\n",
       "    </tr>\n",
       "    <tr>\n",
       "      <th>394578</th>\n",
       "      <td>5.0</td>\n",
       "      <td>True</td>\n",
       "      <td>01 23, 2017</td>\n",
       "      <td>A2S9KXJ24VRD5S</td>\n",
       "      <td>B00VHWMK44</td>\n",
       "      <td>Vince</td>\n",
       "      <td>kids love them</td>\n",
       "      <td>worth the pice</td>\n",
       "      <td>1485129600</td>\n",
       "      <td>NaN</td>\n",
       "      <td>{'Color:': ' Splatoon 3-pack', 'Edition:': ' U...</td>\n",
       "      <td>NaN</td>\n",
       "    </tr>\n",
       "    <tr>\n",
       "      <th>472515</th>\n",
       "      <td>5.0</td>\n",
       "      <td>True</td>\n",
       "      <td>06 11, 2013</td>\n",
       "      <td>A1Q671HPKJ50KD</td>\n",
       "      <td>B0018C1MF6</td>\n",
       "      <td>MAJIORLEAGUE</td>\n",
       "      <td>I read some of the reviews on this bag and the...</td>\n",
       "      <td>BETTER THAN I EXPECTED!</td>\n",
       "      <td>1370908800</td>\n",
       "      <td>NaN</td>\n",
       "      <td>NaN</td>\n",
       "      <td>NaN</td>\n",
       "    </tr>\n",
       "    <tr>\n",
       "      <th>290075</th>\n",
       "      <td>5.0</td>\n",
       "      <td>False</td>\n",
       "      <td>10 25, 2013</td>\n",
       "      <td>A3K43UM7TWLC6K</td>\n",
       "      <td>B00BGA9V2Q</td>\n",
       "      <td>Gc</td>\n",
       "      <td>I go way back to the original Diablo when that...</td>\n",
       "      <td>I was one of those haters</td>\n",
       "      <td>1382659200</td>\n",
       "      <td>2</td>\n",
       "      <td>{'Format:': ' Video Game'}</td>\n",
       "      <td>NaN</td>\n",
       "    </tr>\n",
       "  </tbody>\n",
       "</table>\n",
       "<p>100000 rows × 12 columns</p>\n",
       "</div>"
      ],
      "text/plain": [
       "        overall  verified   reviewTime      reviewerID        asin  \\\n",
       "364850      5.0      True  12 17, 2015  A2DABQ8D1XJT05  B00KWEH61U   \n",
       "216628      5.0      True  12 28, 2014   ANALWGWPY8HEA  B003S2JI82   \n",
       "319038      5.0      True   09 2, 2013   AZC9D5RVK7GR6  B00DTWES6I   \n",
       "440696      5.0     False  01 15, 2018    A9SIXGGYKDBD  B01GKF7T9S   \n",
       "287513      5.0      True   04 9, 2015  A1WDH8O30ZC16S  B00B67ZTUW   \n",
       "...         ...       ...          ...             ...         ...   \n",
       "25721       4.0      True  01 28, 2015  A1J1F06GHQY2F7  B00005NECC   \n",
       "250120      5.0      True   09 7, 2011  A33GG85KTMLDSW  B0053OLY9O   \n",
       "394578      5.0      True  01 23, 2017  A2S9KXJ24VRD5S  B00VHWMK44   \n",
       "472515      5.0      True  06 11, 2013  A1Q671HPKJ50KD  B0018C1MF6   \n",
       "290075      5.0     False  10 25, 2013  A3K43UM7TWLC6K  B00BGA9V2Q   \n",
       "\n",
       "           reviewerName                                         reviewText  \\\n",
       "364850          Maryann  Love this 3ds game. I made a zombie Togepi wit...   \n",
       "216628             John                                           Fun game   \n",
       "319038      Tye D. Reed  This game is so fun.  I think it is the best S...   \n",
       "440696        Jaguar 10  I hated the first game but absolutely love thi...   \n",
       "287513     Atomic Kitty   Love the Tales games. Glad I purchased this one.   \n",
       "...                 ...                                                ...   \n",
       "25721   Michael Curtiss  This is a good game though my son was too youn...   \n",
       "250120          OJ Silk  I am very pleased with this headset. The sound...   \n",
       "394578            Vince                                     kids love them   \n",
       "472515     MAJIORLEAGUE  I read some of the reviews on this bag and the...   \n",
       "290075               Gc  I go way back to the original Diablo when that...   \n",
       "\n",
       "                                                  summary  unixReviewTime  \\\n",
       "364850                                 Love this 3ds game      1450310400   \n",
       "216628                                           fun game      1419724800   \n",
       "319038                                  Wow sooooo awsome      1378080000   \n",
       "440696  Don't let Watchdogs 1 Deter You - this game is...      1515974400   \n",
       "287513   Great game, interactive for two players as well.      1428537600   \n",
       "...                                                   ...             ...   \n",
       "25721                                           GOOD GAME      1422403200   \n",
       "250120    Kudos to Sony -- excellent headset for PS3 & PC      1315353600   \n",
       "394578                                     worth the pice      1485129600   \n",
       "472515                            BETTER THAN I EXPECTED!      1370908800   \n",
       "290075                          I was one of those haters      1382659200   \n",
       "\n",
       "       vote                                              style image  \n",
       "364850  NaN                                                NaN   NaN  \n",
       "216628  NaN                     {'Platform:': ' Nintendo Wii'}   NaN  \n",
       "319038  NaN  {'Edition:': ' Deluxe', 'Platform:': ' PC Down...   NaN  \n",
       "440696  NaN  {'Edition:': ' Standard', 'Platform:': ' PlayS...   NaN  \n",
       "287513  NaN                       {'Color:': ' Playstation 3'}   NaN  \n",
       "...     ...                                                ...   ...  \n",
       "25721   NaN  {'Edition:': ' Standard', 'Platform:': ' Game ...   NaN  \n",
       "250120    4                                                NaN   NaN  \n",
       "394578  NaN  {'Color:': ' Splatoon 3-pack', 'Edition:': ' U...   NaN  \n",
       "472515  NaN                                                NaN   NaN  \n",
       "290075    2                         {'Format:': ' Video Game'}   NaN  \n",
       "\n",
       "[100000 rows x 12 columns]"
      ]
     },
     "execution_count": 19,
     "metadata": {},
     "output_type": "execute_result"
    }
   ],
   "source": [
    "sample_100K_revs"
   ]
  },
  {
   "cell_type": "code",
   "execution_count": 20,
   "metadata": {},
   "outputs": [],
   "source": [
    "undersampled_reviews.to_csv(\"../data/small_corpus.csv\", index=False)"
   ]
  },
  {
   "cell_type": "code",
   "execution_count": 21,
   "metadata": {},
   "outputs": [],
   "source": [
    "sample_100K_revs.to_csv(\"../data/big_corpus.csv\", index=False)"
   ]
  },
  {
   "cell_type": "markdown",
   "metadata": {},
   "source": [
    "Writing Corpora"
   ]
  }
 ],
 "metadata": {
  "kernelspec": {
   "display_name": "vn",
   "language": "python",
   "name": "vn"
  },
  "language_info": {
   "codemirror_mode": {
    "name": "ipython",
    "version": 3
   },
   "file_extension": ".py",
   "mimetype": "text/x-python",
   "name": "python",
   "nbconvert_exporter": "python",
   "pygments_lexer": "ipython3",
   "version": "3.8.10"
  },
  "orig_nbformat": 4
 },
 "nbformat": 4,
 "nbformat_minor": 2
}
