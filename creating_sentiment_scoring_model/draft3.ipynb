{
  "cells": [
    {
      "cell_type": "markdown",
      "metadata": {
        "id": "view-in-github",
        "colab_type": "text"
      },
      "source": [
        "<a href=\"https://colab.research.google.com/github/harshv2013/sentiment_analysis_nlp/blob/main/creating_sentiment_scoring_model/draft3.ipynb\" target=\"_parent\"><img src=\"https://colab.research.google.com/assets/colab-badge.svg\" alt=\"Open In Colab\"/></a>"
      ]
    },
    {
      "cell_type": "code",
      "execution_count": 1,
      "metadata": {
        "id": "TTZWfhQQLgtk"
      },
      "outputs": [],
      "source": [
        "import pandas as pd\n",
        "import nltk\n",
        "from IPython.display import display\n",
        "pd.set_option('display.max_columns', None)"
      ]
    },
    {
      "cell_type": "markdown",
      "metadata": {
        "id": "M-co6TqQLgtn"
      },
      "source": [
        "### Step 1: Loading in the small_corpus .csv file created in the \"creating_dataset\" milestone."
      ]
    },
    {
      "cell_type": "code",
      "source": [
        "from google.colab import drive\n",
        "drive.mount('/content/drive')"
      ],
      "metadata": {
        "id": "CY8zanlKMSm9",
        "outputId": "0b6d81b1-04dc-42fc-8680-239fb06e817c",
        "colab": {
          "base_uri": "https://localhost:8080/"
        }
      },
      "execution_count": 4,
      "outputs": [
        {
          "output_type": "stream",
          "name": "stdout",
          "text": [
            "Mounted at /content/drive\n"
          ]
        }
      ]
    },
    {
      "cell_type": "code",
      "execution_count": 5,
      "metadata": {
        "id": "TcJCLXmqLgtp"
      },
      "outputs": [],
      "source": [
        "# reviews = pd.read_csv(\"../data/small_corpus.csv\")\n",
        "reviews = pd.read_csv(\"/content/drive/MyDrive/Colab Notebooks/sentiment_analysis_nlp/Sentiment_Analysis_NLP_for_Marketting/data/small_corpus.csv\")"
      ]
    },
    {
      "cell_type": "code",
      "execution_count": null,
      "metadata": {
        "id": "ITHUyd0CLgtp",
        "outputId": "540d09d9-350f-47f6-bdfb-369787604726"
      },
      "outputs": [
        {
          "data": {
            "text/html": [
              "<div>\n",
              "<style scoped>\n",
              "    .dataframe tbody tr th:only-of-type {\n",
              "        vertical-align: middle;\n",
              "    }\n",
              "\n",
              "    .dataframe tbody tr th {\n",
              "        vertical-align: top;\n",
              "    }\n",
              "\n",
              "    .dataframe thead th {\n",
              "        text-align: right;\n",
              "    }\n",
              "</style>\n",
              "<table border=\"1\" class=\"dataframe\">\n",
              "  <thead>\n",
              "    <tr style=\"text-align: right;\">\n",
              "      <th></th>\n",
              "      <th>overall</th>\n",
              "      <th>verified</th>\n",
              "      <th>reviewTime</th>\n",
              "      <th>reviewerID</th>\n",
              "      <th>asin</th>\n",
              "      <th>reviewerName</th>\n",
              "      <th>reviewText</th>\n",
              "      <th>summary</th>\n",
              "      <th>unixReviewTime</th>\n",
              "      <th>vote</th>\n",
              "      <th>style</th>\n",
              "      <th>image</th>\n",
              "    </tr>\n",
              "  </thead>\n",
              "  <tbody>\n",
              "    <tr>\n",
              "      <th>0</th>\n",
              "      <td>1.0</td>\n",
              "      <td>False</td>\n",
              "      <td>06 16, 2015</td>\n",
              "      <td>A3159IXLXZHW9U</td>\n",
              "      <td>B00D2ZK1IG</td>\n",
              "      <td>Andrew Willette</td>\n",
              "      <td>bad controls. I felt like this game was a resi...</td>\n",
              "      <td>Resident Evil rip off</td>\n",
              "      <td>1434412800</td>\n",
              "      <td>NaN</td>\n",
              "      <td>{'Format:': ' Video Game'}</td>\n",
              "      <td>NaN</td>\n",
              "    </tr>\n",
              "    <tr>\n",
              "      <th>1</th>\n",
              "      <td>1.0</td>\n",
              "      <td>True</td>\n",
              "      <td>07 7, 2012</td>\n",
              "      <td>A1TD2E11JK79I8</td>\n",
              "      <td>B005VKRGXI</td>\n",
              "      <td>M.K.</td>\n",
              "      <td>Update (July 10th 2012) - Condensed my review ...</td>\n",
              "      <td>Advertised but not delivered</td>\n",
              "      <td>1341619200</td>\n",
              "      <td>4.0</td>\n",
              "      <td>{'Platform:': ' PlayStation 3'}</td>\n",
              "      <td>NaN</td>\n",
              "    </tr>\n",
              "    <tr>\n",
              "      <th>2</th>\n",
              "      <td>1.0</td>\n",
              "      <td>True</td>\n",
              "      <td>10 5, 2016</td>\n",
              "      <td>A1OMFWV9NZ7NIZ</td>\n",
              "      <td>B005DVAB1E</td>\n",
              "      <td>Christian Buehler</td>\n",
              "      <td>Achievement hunters only need apply.</td>\n",
              "      <td>One Star</td>\n",
              "      <td>1475625600</td>\n",
              "      <td>NaN</td>\n",
              "      <td>{'Platform:': ' Xbox 360'}</td>\n",
              "      <td>NaN</td>\n",
              "    </tr>\n",
              "    <tr>\n",
              "      <th>3</th>\n",
              "      <td>1.0</td>\n",
              "      <td>True</td>\n",
              "      <td>10 17, 2017</td>\n",
              "      <td>A1NBZBNEBU3U3X</td>\n",
              "      <td>B0009350CQ</td>\n",
              "      <td>nana</td>\n",
              "      <td>ok</td>\n",
              "      <td>One Star</td>\n",
              "      <td>1508198400</td>\n",
              "      <td>NaN</td>\n",
              "      <td>{'Format:': ' Video Game'}</td>\n",
              "      <td>NaN</td>\n",
              "    </tr>\n",
              "    <tr>\n",
              "      <th>4</th>\n",
              "      <td>1.0</td>\n",
              "      <td>False</td>\n",
              "      <td>06 19, 2012</td>\n",
              "      <td>A3J8ABVGK7ZL6H</td>\n",
              "      <td>B00002ST7X</td>\n",
              "      <td>Ishmael</td>\n",
              "      <td>Eternal Champions is an awesome game....for Se...</td>\n",
              "      <td>Sega CD version blows this one away!</td>\n",
              "      <td>1340064000</td>\n",
              "      <td>NaN</td>\n",
              "      <td>NaN</td>\n",
              "      <td>NaN</td>\n",
              "    </tr>\n",
              "    <tr>\n",
              "      <th>...</th>\n",
              "      <td>...</td>\n",
              "      <td>...</td>\n",
              "      <td>...</td>\n",
              "      <td>...</td>\n",
              "      <td>...</td>\n",
              "      <td>...</td>\n",
              "      <td>...</td>\n",
              "      <td>...</td>\n",
              "      <td>...</td>\n",
              "      <td>...</td>\n",
              "      <td>...</td>\n",
              "      <td>...</td>\n",
              "    </tr>\n",
              "    <tr>\n",
              "      <th>4495</th>\n",
              "      <td>5.0</td>\n",
              "      <td>True</td>\n",
              "      <td>06 1, 2016</td>\n",
              "      <td>A34WUZN0IGAXIZ</td>\n",
              "      <td>B00CHRNOPW</td>\n",
              "      <td>Emily</td>\n",
              "      <td>Perfect!</td>\n",
              "      <td>Five Stars</td>\n",
              "      <td>1464739200</td>\n",
              "      <td>NaN</td>\n",
              "      <td>NaN</td>\n",
              "      <td>NaN</td>\n",
              "    </tr>\n",
              "    <tr>\n",
              "      <th>4496</th>\n",
              "      <td>5.0</td>\n",
              "      <td>False</td>\n",
              "      <td>03 3, 2003</td>\n",
              "      <td>AQI2CW6UKF1ES</td>\n",
              "      <td>B00005BW7Q</td>\n",
              "      <td>Samario C. Oliver</td>\n",
              "      <td>The bosses were hard as... but when I leveld u...</td>\n",
              "      <td>Yes, I finally beat it!</td>\n",
              "      <td>1046649600</td>\n",
              "      <td>NaN</td>\n",
              "      <td>NaN</td>\n",
              "      <td>NaN</td>\n",
              "    </tr>\n",
              "    <tr>\n",
              "      <th>4497</th>\n",
              "      <td>5.0</td>\n",
              "      <td>True</td>\n",
              "      <td>10 26, 2016</td>\n",
              "      <td>A1XCGLCKMKP84S</td>\n",
              "      <td>B00GV4V8XC</td>\n",
              "      <td>juanvolvoturbo</td>\n",
              "      <td>Excellent price and fast shipping!</td>\n",
              "      <td>Five Stars</td>\n",
              "      <td>1477440000</td>\n",
              "      <td>NaN</td>\n",
              "      <td>{'Edition:': ' Standard', 'Platform:': ' Ninte...</td>\n",
              "      <td>NaN</td>\n",
              "    </tr>\n",
              "    <tr>\n",
              "      <th>4498</th>\n",
              "      <td>5.0</td>\n",
              "      <td>False</td>\n",
              "      <td>03 26, 2016</td>\n",
              "      <td>AYVSX8W94ZDDU</td>\n",
              "      <td>B00EDOVNFU</td>\n",
              "      <td>supernintendosp</td>\n",
              "      <td>These go great with the other covers, and prev...</td>\n",
              "      <td>Global Game Gear is super trustworthy!</td>\n",
              "      <td>1458950400</td>\n",
              "      <td>NaN</td>\n",
              "      <td>NaN</td>\n",
              "      <td>NaN</td>\n",
              "    </tr>\n",
              "    <tr>\n",
              "      <th>4499</th>\n",
              "      <td>5.0</td>\n",
              "      <td>True</td>\n",
              "      <td>04 7, 2017</td>\n",
              "      <td>A361F6TKS68T28</td>\n",
              "      <td>B0050SYBL6</td>\n",
              "      <td>Caitlin Parker</td>\n",
              "      <td>I bought the trilogy twice, once for Playstati...</td>\n",
              "      <td>Tragically Beautiful</td>\n",
              "      <td>1491523200</td>\n",
              "      <td>6.0</td>\n",
              "      <td>{'Format:': ' Video Game'}</td>\n",
              "      <td>NaN</td>\n",
              "    </tr>\n",
              "  </tbody>\n",
              "</table>\n",
              "<p>4500 rows × 12 columns</p>\n",
              "</div>"
            ],
            "text/plain": [
              "      overall  verified   reviewTime      reviewerID        asin  \\\n",
              "0         1.0     False  06 16, 2015  A3159IXLXZHW9U  B00D2ZK1IG   \n",
              "1         1.0      True   07 7, 2012  A1TD2E11JK79I8  B005VKRGXI   \n",
              "2         1.0      True   10 5, 2016  A1OMFWV9NZ7NIZ  B005DVAB1E   \n",
              "3         1.0      True  10 17, 2017  A1NBZBNEBU3U3X  B0009350CQ   \n",
              "4         1.0     False  06 19, 2012  A3J8ABVGK7ZL6H  B00002ST7X   \n",
              "...       ...       ...          ...             ...         ...   \n",
              "4495      5.0      True   06 1, 2016  A34WUZN0IGAXIZ  B00CHRNOPW   \n",
              "4496      5.0     False   03 3, 2003   AQI2CW6UKF1ES  B00005BW7Q   \n",
              "4497      5.0      True  10 26, 2016  A1XCGLCKMKP84S  B00GV4V8XC   \n",
              "4498      5.0     False  03 26, 2016   AYVSX8W94ZDDU  B00EDOVNFU   \n",
              "4499      5.0      True   04 7, 2017  A361F6TKS68T28  B0050SYBL6   \n",
              "\n",
              "           reviewerName                                         reviewText  \\\n",
              "0       Andrew Willette  bad controls. I felt like this game was a resi...   \n",
              "1                  M.K.  Update (July 10th 2012) - Condensed my review ...   \n",
              "2     Christian Buehler               Achievement hunters only need apply.   \n",
              "3                  nana                                                 ok   \n",
              "4               Ishmael  Eternal Champions is an awesome game....for Se...   \n",
              "...                 ...                                                ...   \n",
              "4495              Emily                                           Perfect!   \n",
              "4496  Samario C. Oliver  The bosses were hard as... but when I leveld u...   \n",
              "4497     juanvolvoturbo                 Excellent price and fast shipping!   \n",
              "4498    supernintendosp  These go great with the other covers, and prev...   \n",
              "4499     Caitlin Parker  I bought the trilogy twice, once for Playstati...   \n",
              "\n",
              "                                     summary  unixReviewTime  vote  \\\n",
              "0                      Resident Evil rip off      1434412800   NaN   \n",
              "1               Advertised but not delivered      1341619200   4.0   \n",
              "2                                   One Star      1475625600   NaN   \n",
              "3                                   One Star      1508198400   NaN   \n",
              "4       Sega CD version blows this one away!      1340064000   NaN   \n",
              "...                                      ...             ...   ...   \n",
              "4495                              Five Stars      1464739200   NaN   \n",
              "4496                 Yes, I finally beat it!      1046649600   NaN   \n",
              "4497                              Five Stars      1477440000   NaN   \n",
              "4498  Global Game Gear is super trustworthy!      1458950400   NaN   \n",
              "4499                    Tragically Beautiful      1491523200   6.0   \n",
              "\n",
              "                                                  style image  \n",
              "0                            {'Format:': ' Video Game'}   NaN  \n",
              "1                       {'Platform:': ' PlayStation 3'}   NaN  \n",
              "2                            {'Platform:': ' Xbox 360'}   NaN  \n",
              "3                            {'Format:': ' Video Game'}   NaN  \n",
              "4                                                   NaN   NaN  \n",
              "...                                                 ...   ...  \n",
              "4495                                                NaN   NaN  \n",
              "4496                                                NaN   NaN  \n",
              "4497  {'Edition:': ' Standard', 'Platform:': ' Ninte...   NaN  \n",
              "4498                                                NaN   NaN  \n",
              "4499                         {'Format:': ' Video Game'}   NaN  \n",
              "\n",
              "[4500 rows x 12 columns]"
            ]
          },
          "execution_count": 3,
          "metadata": {},
          "output_type": "execute_result"
        }
      ],
      "source": [
        "reviews"
      ]
    },
    {
      "cell_type": "code",
      "execution_count": null,
      "metadata": {
        "id": "Qu2VBeR5Lgtr",
        "outputId": "21202da8-f4f8-4c79-b8bb-6ce431338710"
      },
      "outputs": [
        {
          "data": {
            "text/html": [
              "<div>\n",
              "<style scoped>\n",
              "    .dataframe tbody tr th:only-of-type {\n",
              "        vertical-align: middle;\n",
              "    }\n",
              "\n",
              "    .dataframe tbody tr th {\n",
              "        vertical-align: top;\n",
              "    }\n",
              "\n",
              "    .dataframe thead th {\n",
              "        text-align: right;\n",
              "    }\n",
              "</style>\n",
              "<table border=\"1\" class=\"dataframe\">\n",
              "  <thead>\n",
              "    <tr style=\"text-align: right;\">\n",
              "      <th></th>\n",
              "      <th>overall</th>\n",
              "      <th>verified</th>\n",
              "      <th>reviewTime</th>\n",
              "      <th>reviewerID</th>\n",
              "      <th>asin</th>\n",
              "      <th>reviewerName</th>\n",
              "      <th>reviewText</th>\n",
              "      <th>summary</th>\n",
              "      <th>unixReviewTime</th>\n",
              "      <th>vote</th>\n",
              "      <th>style</th>\n",
              "      <th>image</th>\n",
              "    </tr>\n",
              "  </thead>\n",
              "  <tbody>\n",
              "    <tr>\n",
              "      <th>0</th>\n",
              "      <td>1.0</td>\n",
              "      <td>False</td>\n",
              "      <td>06 16, 2015</td>\n",
              "      <td>A3159IXLXZHW9U</td>\n",
              "      <td>B00D2ZK1IG</td>\n",
              "      <td>Andrew Willette</td>\n",
              "      <td>bad controls. I felt like this game was a resi...</td>\n",
              "      <td>Resident Evil rip off</td>\n",
              "      <td>1434412800</td>\n",
              "      <td>NaN</td>\n",
              "      <td>{'Format:': ' Video Game'}</td>\n",
              "      <td>NaN</td>\n",
              "    </tr>\n",
              "    <tr>\n",
              "      <th>1</th>\n",
              "      <td>1.0</td>\n",
              "      <td>True</td>\n",
              "      <td>07 7, 2012</td>\n",
              "      <td>A1TD2E11JK79I8</td>\n",
              "      <td>B005VKRGXI</td>\n",
              "      <td>M.K.</td>\n",
              "      <td>Update (July 10th 2012) - Condensed my review ...</td>\n",
              "      <td>Advertised but not delivered</td>\n",
              "      <td>1341619200</td>\n",
              "      <td>4.0</td>\n",
              "      <td>{'Platform:': ' PlayStation 3'}</td>\n",
              "      <td>NaN</td>\n",
              "    </tr>\n",
              "    <tr>\n",
              "      <th>2</th>\n",
              "      <td>1.0</td>\n",
              "      <td>True</td>\n",
              "      <td>10 5, 2016</td>\n",
              "      <td>A1OMFWV9NZ7NIZ</td>\n",
              "      <td>B005DVAB1E</td>\n",
              "      <td>Christian Buehler</td>\n",
              "      <td>Achievement hunters only need apply.</td>\n",
              "      <td>One Star</td>\n",
              "      <td>1475625600</td>\n",
              "      <td>NaN</td>\n",
              "      <td>{'Platform:': ' Xbox 360'}</td>\n",
              "      <td>NaN</td>\n",
              "    </tr>\n",
              "    <tr>\n",
              "      <th>3</th>\n",
              "      <td>1.0</td>\n",
              "      <td>True</td>\n",
              "      <td>10 17, 2017</td>\n",
              "      <td>A1NBZBNEBU3U3X</td>\n",
              "      <td>B0009350CQ</td>\n",
              "      <td>nana</td>\n",
              "      <td>ok</td>\n",
              "      <td>One Star</td>\n",
              "      <td>1508198400</td>\n",
              "      <td>NaN</td>\n",
              "      <td>{'Format:': ' Video Game'}</td>\n",
              "      <td>NaN</td>\n",
              "    </tr>\n",
              "    <tr>\n",
              "      <th>4</th>\n",
              "      <td>1.0</td>\n",
              "      <td>False</td>\n",
              "      <td>06 19, 2012</td>\n",
              "      <td>A3J8ABVGK7ZL6H</td>\n",
              "      <td>B00002ST7X</td>\n",
              "      <td>Ishmael</td>\n",
              "      <td>Eternal Champions is an awesome game....for Se...</td>\n",
              "      <td>Sega CD version blows this one away!</td>\n",
              "      <td>1340064000</td>\n",
              "      <td>NaN</td>\n",
              "      <td>NaN</td>\n",
              "      <td>NaN</td>\n",
              "    </tr>\n",
              "  </tbody>\n",
              "</table>\n",
              "</div>"
            ],
            "text/plain": [
              "   overall  verified   reviewTime      reviewerID        asin  \\\n",
              "0      1.0     False  06 16, 2015  A3159IXLXZHW9U  B00D2ZK1IG   \n",
              "1      1.0      True   07 7, 2012  A1TD2E11JK79I8  B005VKRGXI   \n",
              "2      1.0      True   10 5, 2016  A1OMFWV9NZ7NIZ  B005DVAB1E   \n",
              "3      1.0      True  10 17, 2017  A1NBZBNEBU3U3X  B0009350CQ   \n",
              "4      1.0     False  06 19, 2012  A3J8ABVGK7ZL6H  B00002ST7X   \n",
              "\n",
              "        reviewerName                                         reviewText  \\\n",
              "0    Andrew Willette  bad controls. I felt like this game was a resi...   \n",
              "1               M.K.  Update (July 10th 2012) - Condensed my review ...   \n",
              "2  Christian Buehler               Achievement hunters only need apply.   \n",
              "3               nana                                                 ok   \n",
              "4            Ishmael  Eternal Champions is an awesome game....for Se...   \n",
              "\n",
              "                                summary  unixReviewTime  vote  \\\n",
              "0                 Resident Evil rip off      1434412800   NaN   \n",
              "1          Advertised but not delivered      1341619200   4.0   \n",
              "2                              One Star      1475625600   NaN   \n",
              "3                              One Star      1508198400   NaN   \n",
              "4  Sega CD version blows this one away!      1340064000   NaN   \n",
              "\n",
              "                             style image  \n",
              "0       {'Format:': ' Video Game'}   NaN  \n",
              "1  {'Platform:': ' PlayStation 3'}   NaN  \n",
              "2       {'Platform:': ' Xbox 360'}   NaN  \n",
              "3       {'Format:': ' Video Game'}   NaN  \n",
              "4                              NaN   NaN  "
            ]
          },
          "execution_count": 4,
          "metadata": {},
          "output_type": "execute_result"
        }
      ],
      "source": [
        "reviews.head()"
      ]
    },
    {
      "cell_type": "markdown",
      "metadata": {
        "id": "g51GtoDqLgts"
      },
      "source": [
        "### Step 2: Tokenizing the sentences and words of the reviews\n",
        "Here, We're going to test different versions of word tokenizer on reviews. We'll then decide which tokenizer might be better to use."
      ]
    },
    {
      "cell_type": "code",
      "execution_count": null,
      "metadata": {
        "id": "kvkVX5coLgts"
      },
      "outputs": [],
      "source": [
        "from nltk.tokenize import TreebankWordTokenizer\n",
        "from string import punctuation\n",
        "import string"
      ]
    },
    {
      "cell_type": "code",
      "execution_count": null,
      "metadata": {
        "id": "ZRQBS-CaLgtt"
      },
      "outputs": [],
      "source": [
        "tb_tokenizer = TreebankWordTokenizer()"
      ]
    },
    {
      "cell_type": "code",
      "execution_count": null,
      "metadata": {
        "id": "FMsDaxxELgtt",
        "outputId": "8b9324c4-4914-480a-d9db-7490b921eab2"
      },
      "outputs": [
        {
          "data": {
            "text/plain": [
              "['Good',\n",
              " 'muffins',\n",
              " 'cost',\n",
              " '$',\n",
              " '3.88',\n",
              " 'in',\n",
              " 'New',\n",
              " 'York.',\n",
              " 'Please',\n",
              " 'buy',\n",
              " 'me',\n",
              " 'two',\n",
              " 'of',\n",
              " 'them.',\n",
              " 'Thanks',\n",
              " '.']"
            ]
          },
          "execution_count": 7,
          "metadata": {},
          "output_type": "execute_result"
        }
      ],
      "source": [
        "s = '''Good muffins cost $3.88\\nin New York.  Please buy me\\ntwo of them.\\nThanks.'''\n",
        "TreebankWordTokenizer().tokenize(s)"
      ]
    },
    {
      "cell_type": "code",
      "execution_count": null,
      "metadata": {
        "id": "LsKumANeLgtu",
        "outputId": "3e30d818-c20f-49f9-9707-2f4a67b31d66"
      },
      "outputs": [
        {
          "data": {
            "text/plain": [
              "'!\"#$%&\\'()*+,-./:;<=>?@[\\\\]^_`{|}~'"
            ]
          },
          "execution_count": 8,
          "metadata": {},
          "output_type": "execute_result"
        }
      ],
      "source": [
        "punctuation"
      ]
    },
    {
      "cell_type": "code",
      "execution_count": null,
      "metadata": {
        "id": "HzqWCFDFLgtv"
      },
      "outputs": [],
      "source": [
        "reviews[\"rev_text_lower\"] = reviews['reviewText'].apply(lambda rev: str(rev)\\\n",
        "                                                        .translate(str.maketrans('', '', punctuation))\\\n",
        "                                                        .replace(\"<br />\", \" \")\\\n",
        "                                                        .lower())"
      ]
    },
    {
      "cell_type": "code",
      "execution_count": null,
      "metadata": {
        "id": "e99Xd3HMLgtv",
        "outputId": "825cf7f1-c85c-4f49-dfcb-aef0c96b838a"
      },
      "outputs": [
        {
          "data": {
            "text/plain": [
              "0       bad controls i felt like this game was a resid...\n",
              "1       update july 10th 2012  condensed my review to ...\n",
              "2                     achievement hunters only need apply\n",
              "3                                                      ok\n",
              "4       eternal champions is an awesome gamefor sega c...\n",
              "                              ...                        \n",
              "4495                                              perfect\n",
              "4496    the bosses were hard as but when i leveld up b...\n",
              "4497                    excellent price and fast shipping\n",
              "4498    these go great with the other covers and preve...\n",
              "4499    i bought the trilogy twice once for playstatio...\n",
              "Name: rev_text_lower, Length: 4500, dtype: object"
            ]
          },
          "execution_count": 10,
          "metadata": {},
          "output_type": "execute_result"
        }
      ],
      "source": [
        "reviews[\"rev_text_lower\"]"
      ]
    },
    {
      "cell_type": "code",
      "execution_count": null,
      "metadata": {
        "id": "WZrm3MGiLgtw",
        "outputId": "8a1617c4-f06b-4af1-d592-6f76b90f1756"
      },
      "outputs": [
        {
          "data": {
            "text/html": [
              "<div>\n",
              "<style scoped>\n",
              "    .dataframe tbody tr th:only-of-type {\n",
              "        vertical-align: middle;\n",
              "    }\n",
              "\n",
              "    .dataframe tbody tr th {\n",
              "        vertical-align: top;\n",
              "    }\n",
              "\n",
              "    .dataframe thead th {\n",
              "        text-align: right;\n",
              "    }\n",
              "</style>\n",
              "<table border=\"1\" class=\"dataframe\">\n",
              "  <thead>\n",
              "    <tr style=\"text-align: right;\">\n",
              "      <th></th>\n",
              "      <th>reviewText</th>\n",
              "      <th>rev_text_lower</th>\n",
              "    </tr>\n",
              "  </thead>\n",
              "  <tbody>\n",
              "    <tr>\n",
              "      <th>4299</th>\n",
              "      <td>This is one hard game, not for those who lose ...</td>\n",
              "      <td>this is one hard game not for those who lose c...</td>\n",
              "    </tr>\n",
              "    <tr>\n",
              "      <th>1974</th>\n",
              "      <td>Not for me, but an OK game</td>\n",
              "      <td>not for me but an ok game</td>\n",
              "    </tr>\n",
              "  </tbody>\n",
              "</table>\n",
              "</div>"
            ],
            "text/plain": [
              "                                             reviewText  \\\n",
              "4299  This is one hard game, not for those who lose ...   \n",
              "1974                         Not for me, but an OK game   \n",
              "\n",
              "                                         rev_text_lower  \n",
              "4299  this is one hard game not for those who lose c...  \n",
              "1974                          not for me but an ok game  "
            ]
          },
          "execution_count": 12,
          "metadata": {},
          "output_type": "execute_result"
        }
      ],
      "source": [
        "reviews[['reviewText','rev_text_lower']].sample(2)"
      ]
    },
    {
      "cell_type": "code",
      "execution_count": null,
      "metadata": {
        "id": "PFNHqnu9Lgtx"
      },
      "outputs": [],
      "source": [
        "reviews[\"tb_tokens\"] = reviews['rev_text_lower'].apply(lambda rev: tb_tokenizer.tokenize(str(rev)))"
      ]
    },
    {
      "cell_type": "code",
      "execution_count": null,
      "metadata": {
        "id": "rpJAZB03Lgtx"
      },
      "outputs": [],
      "source": [
        "pd.set_option('display.max_colwidth', None)"
      ]
    },
    {
      "cell_type": "code",
      "execution_count": null,
      "metadata": {
        "id": "UkSqsF23Lgty",
        "outputId": "9173ee91-2d57-469d-a6d0-c2cc3ce01811"
      },
      "outputs": [
        {
          "data": {
            "text/html": [
              "<div>\n",
              "<style scoped>\n",
              "    .dataframe tbody tr th:only-of-type {\n",
              "        vertical-align: middle;\n",
              "    }\n",
              "\n",
              "    .dataframe tbody tr th {\n",
              "        vertical-align: top;\n",
              "    }\n",
              "\n",
              "    .dataframe thead th {\n",
              "        text-align: right;\n",
              "    }\n",
              "</style>\n",
              "<table border=\"1\" class=\"dataframe\">\n",
              "  <thead>\n",
              "    <tr style=\"text-align: right;\">\n",
              "      <th></th>\n",
              "      <th>reviewText</th>\n",
              "      <th>tb_tokens</th>\n",
              "    </tr>\n",
              "  </thead>\n",
              "  <tbody>\n",
              "    <tr>\n",
              "      <th>3046</th>\n",
              "      <td>NOT MUCH TO SAY THEIR MADE OF METAL AND YOU LIFT THEM . WEIGHTS WERE ACCURATE TO LISTED WEIGHT. GOOD DEAL</td>\n",
              "      <td>[not, much, to, say, their, made, of, metal, and, you, lift, them, weights, were, accurate, to, listed, weight, good, deal]</td>\n",
              "    </tr>\n",
              "    <tr>\n",
              "      <th>683</th>\n",
              "      <td>Let me start by stating that I do not write reviews often and typically only do so when a product falls at either end of the 5 star spectrum. I have been playing this game since it was released in September and it has been the most problematic game I have ever played.\\n\\nI understand that games tend to have bugs and defects, and updates tend to fix that. However, there has never been a game like Civilization V that has produced bugs so horrendous that I can no longer enjoy the game. I have also been playing Fallout: New Vegas, which suffers from numerous bugs, but does not render the game unplayable. Yes, at times a glitch will keep you from advancing properly, but that can be easily resolved by saving and reloading frequently. While this can be tedious, at least it is an option.\\n\\nIn Civilization V, saving and reloading doesn't quite help. This game can be enjoyed in quick sessions with different victory styles, map sizes, and number of opponents. Unfortunately, the ideal settings limit the options; domination victory in a huge map with a large number of opponents is practically impossible (I'll go into the details in a moment). Prior to the first update, capturing the 69/70th city would crash the game. Attempting to reload a save with this number of cities was also impossible. This continued until the second update, which resolved the issue. However, this second update kept older save files from being loadable. You either had to have the 2K fellows \"fix\" your save file by posting it on the forums, or start all over again (I chose the latter).\\n\\nIf you prefer the domination victory, as you progress, the game will become less and less playable. The larger territory you have, the more prone the game is to crashing. The larger number of turns you have, the more prone the game is to crashing. Crashing isn't resolved by setting the graphics to the lowest possible setting or the use of DirectX 9 (which actually makes the crashes worse and more frequent on my computer). Sure, you save frequently to play it safe from these constant crashes... But it takes 10-15 minutes to load a saved game, which can also crash mid-load. So you waste half an hour loading a game you can play for 10 minutes before crashing. Currently, I cannot get past Turn 778, nor can I load a save with Turn 778. Even if this is fixed in the future, it ruins the game. Why should I have to worry constantly about the game failing to continue based on some number of cities or turns defect?\\n\\nYes, I understand that not everyone plays by the aforementioned playing style... However, if a company chooses to make the option available, it should be playable. If this game was not designed for huge maps, then don't include them. If long, drawn out games cause the game to crash, then don't include that option.\\n\\nGameplay: This is the only redeeming quality of a defective game. The gameplay is enjoyable and I like the new tile set-up and the unit to unit combat. Of course, this is as long as you don't mind idiotic AI. Yes, I will trade some Ivory with your country... BAM! Three turns later, they're declaring war on you, making the trade defunct. Yes, Bismarck is a jerk and a threat to the stability of the world, let's do what we can. BAM! They sign an open boarders agreement with the tyrant, who then marches his troops through their territory into yours to declare war. GREAT.\\n\\nCity-States: Good concept, worthless in game. The amount of money and time it takes to develop a lasting relationship with a City-State is far too costly. The cost do not outweigh the benefits an independent City-State gives you over time. The best thing to do is just take them over or leave them alone, the former causes everyone in the world to view you as power hungry and start attacking you.\\n\\nGraphics: Fantastic, if they load properly. I have the constant problem of farm tiles missing the \"farm\" texture as well as square pieces of land appearing in the middle of the ocean. Ghost enemy units pop up every now and then, and I have to constantly double check to make sure I'm actually attacking something. If you're trying to keep up with your resources, good luck, as the yield icons tend to be wrong 40% of the time. I just built a farm and the map tells me it is producing 4 Production and 3 Gold, but mousing over it shows 3 Food and 1 Production. Some areas are correct, but then others are offset by 1 tile in any direction. If you have a beast computer, you'll still experience a lot of graphical problems. I'm running a 3.2 Quad Core, 1 GB Radeon HD5770, 8 GB RAM... The graphics can be quite stunning at times and the unit close-ups are amazingly detailed. However, slow loading tiles often cause the game to crash, especially when the map skips from one unit to another across the world.\\n\\nThis game can be great. It can be amazing if you limit your gameplay style and if you're willing to constantly be fighting the game itself. I've been playing Civilization since Civilization III and I will say now, that this will be the last Civilization game I will buy/play. I can't imagine the headache the next game will become given the exponential increase in problems from Civilization IV (my favorite game thus far).\\n\\nBuy this game if you don't mind the trouble. It's a lemon.\\n\\nUPDATE (11/03/21): I continue to play this game, regardless of the troublesome errors that still occur. Even after the latest and greatest patch a few weeks ago, the game continues to crash on Huge and Large maps. This typically occurs when the map moves from one unit to another and spans a long distance. Typically, when it loads the tiles, this can cause hang ups with your system. I consider my computer relatively \"awesome\" and it still has problems, even at the lowest settings. As a precaution, you can \"preload\" tiles by scrolling over the entire map to the unit... Which doesn't make the game very enjoyable.\\n\\nAdditional quirks include the game crashing if a group of Civs decide to declare war on another Civ, but you happen to kill one of them or be at war with one of them. Specifically, in one game, I was at war with Alexander and at turn 452 he (along with Wu Zetian, Gandhi, Genghis Khan, and Elizabeth) were going to declare war on Bismarck (I have no idea why, since he only had three cities). If I conquered his Civilization at turn 451, the game would crash at 452. If I was still at war with him, but hadn't conquered him yet, the game would crash also. The solution (after several attempts) was to make peace at 451, then re-declare war via Nuclear Missile at turn 453, surpassing the unusual bug that crashed the game at turn 452. You can see the problem here, a game that is designed to have massive proportions of \"choice\" will have equally as massive of \"bugs.\" While Civilization IV was an amazing game that had fewer issues, this is not that game.\\n\\nI've come to the conclusion this game will never be \"perfect.\" Is it worth buying? Sure, if you're crazy enough to suffer through some weird issues here and there. Maybe on sale.</td>\n",
              "      <td>[let, me, start, by, stating, that, i, do, not, write, reviews, often, and, typically, only, do, so, when, a, product, falls, at, either, end, of, the, 5, star, spectrum, i, have, been, playing, this, game, since, it, was, released, in, september, and, it, has, been, the, most, problematic, game, i, have, ever, played, i, understand, that, games, tend, to, have, bugs, and, defects, and, updates, tend, to, fix, that, however, there, has, never, been, a, game, like, civilization, v, that, has, produced, bugs, so, horrendous, that, i, can, no, longer, enjoy, the, game, i, have, also, been, playing, fallout, new, ...]</td>\n",
              "    </tr>\n",
              "    <tr>\n",
              "      <th>3454</th>\n",
              "      <td>I have played every version of half-life there is. If you haven't orange box throws them in the box (play them 1st!). Nice mix of puzzles and first person shooter and a complex and interesting story. Plays well on Vista.</td>\n",
              "      <td>[i, have, played, every, version, of, halflife, there, is, if, you, havent, orange, box, throws, them, in, the, box, play, them, 1st, nice, mix, of, puzzles, and, first, person, shooter, and, a, complex, and, interesting, story, plays, well, on, vista]</td>\n",
              "    </tr>\n",
              "  </tbody>\n",
              "</table>\n",
              "</div>"
            ],
            "text/plain": [
              "                                                                                                                                                                                                                                                                                                                                                                                                                                                                                                                                                                                                                                                                                                                                                                                                                                                                                                                                                                                                                                                                                                                                                                                                                                                                                                                                                                                                                                                                                                                                                                                                                                                                                                                                                                                                                                                                                                                                                                                                                                                                                                                                                                                                                                                                                                                                                                                                                                                                                                                                                                                                                                                                                                                                                                                                                                                                                                                                                                                                                                                                                                                                                                                                                                                                                                                                                                                                                                                                                                                                                                                                                                                                                                                                                                                                                                                                                                                                                                                                                                                                                                                                                                                                                                                                                                                                                                                                                                                                                                                                                                                                                                                                                                                                                                                                                                                                                                                                                                                                                                                                                                                                                                                                                                                                                                                                                                                                                                                                                                                                                                                                                                                                                                                                                                                                                                                                                                                                                                                                                                                                                                                                                                                                                                                                                                                                                                                                                                                                                                                                                                                                                                                                                                                                                                                                                                                                                                                                                                                                                                                                                                                                                                                                                                                                                                                                      reviewText  \\\n",
              "3046                                                                                                                                                                                                                                                                                                                                                                                                                                                                                                                                                                                                                                                                                                                                                                                                                                                                                                                                                                                                                                                                                                                                                                                                                                                                                                                                                                                                                                                                                                                                                                                                                                                                                                                                                                                                                                                                                                                                                                                                                                                                                                                                                                                                                                                                                                                                                                                                                                                                                                                                                                                                                                                                                                                                                                                                                                                                                                                                                                                                                                                                                                                                                                                                                                                                                                                                                                                                                                                                                                                                                                                                                                                                                                                                                                                                                                                                                                                                                                                                                                                                                                                                                                                                                                                                                                                                                                                                                                                                                                                                                                                                                                                                                                                                                                                                                                                                                                                                                                                                                                                                                                                                                                                                                                                                                                                                                                                                                                                                                                                                                                                                                                                                                                                                                                                                                                                                                                                                                                                                                                                                                                                                                                                                                                                                                                                                                                                                                                                                                                                                                                                                                                                                                                                                                                                                                                                                                                                                                                                                                                                                                                                                                                                                                                   NOT MUCH TO SAY THEIR MADE OF METAL AND YOU LIFT THEM . WEIGHTS WERE ACCURATE TO LISTED WEIGHT. GOOD DEAL   \n",
              "683   Let me start by stating that I do not write reviews often and typically only do so when a product falls at either end of the 5 star spectrum. I have been playing this game since it was released in September and it has been the most problematic game I have ever played.\\n\\nI understand that games tend to have bugs and defects, and updates tend to fix that. However, there has never been a game like Civilization V that has produced bugs so horrendous that I can no longer enjoy the game. I have also been playing Fallout: New Vegas, which suffers from numerous bugs, but does not render the game unplayable. Yes, at times a glitch will keep you from advancing properly, but that can be easily resolved by saving and reloading frequently. While this can be tedious, at least it is an option.\\n\\nIn Civilization V, saving and reloading doesn't quite help. This game can be enjoyed in quick sessions with different victory styles, map sizes, and number of opponents. Unfortunately, the ideal settings limit the options; domination victory in a huge map with a large number of opponents is practically impossible (I'll go into the details in a moment). Prior to the first update, capturing the 69/70th city would crash the game. Attempting to reload a save with this number of cities was also impossible. This continued until the second update, which resolved the issue. However, this second update kept older save files from being loadable. You either had to have the 2K fellows \"fix\" your save file by posting it on the forums, or start all over again (I chose the latter).\\n\\nIf you prefer the domination victory, as you progress, the game will become less and less playable. The larger territory you have, the more prone the game is to crashing. The larger number of turns you have, the more prone the game is to crashing. Crashing isn't resolved by setting the graphics to the lowest possible setting or the use of DirectX 9 (which actually makes the crashes worse and more frequent on my computer). Sure, you save frequently to play it safe from these constant crashes... But it takes 10-15 minutes to load a saved game, which can also crash mid-load. So you waste half an hour loading a game you can play for 10 minutes before crashing. Currently, I cannot get past Turn 778, nor can I load a save with Turn 778. Even if this is fixed in the future, it ruins the game. Why should I have to worry constantly about the game failing to continue based on some number of cities or turns defect?\\n\\nYes, I understand that not everyone plays by the aforementioned playing style... However, if a company chooses to make the option available, it should be playable. If this game was not designed for huge maps, then don't include them. If long, drawn out games cause the game to crash, then don't include that option.\\n\\nGameplay: This is the only redeeming quality of a defective game. The gameplay is enjoyable and I like the new tile set-up and the unit to unit combat. Of course, this is as long as you don't mind idiotic AI. Yes, I will trade some Ivory with your country... BAM! Three turns later, they're declaring war on you, making the trade defunct. Yes, Bismarck is a jerk and a threat to the stability of the world, let's do what we can. BAM! They sign an open boarders agreement with the tyrant, who then marches his troops through their territory into yours to declare war. GREAT.\\n\\nCity-States: Good concept, worthless in game. The amount of money and time it takes to develop a lasting relationship with a City-State is far too costly. The cost do not outweigh the benefits an independent City-State gives you over time. The best thing to do is just take them over or leave them alone, the former causes everyone in the world to view you as power hungry and start attacking you.\\n\\nGraphics: Fantastic, if they load properly. I have the constant problem of farm tiles missing the \"farm\" texture as well as square pieces of land appearing in the middle of the ocean. Ghost enemy units pop up every now and then, and I have to constantly double check to make sure I'm actually attacking something. If you're trying to keep up with your resources, good luck, as the yield icons tend to be wrong 40% of the time. I just built a farm and the map tells me it is producing 4 Production and 3 Gold, but mousing over it shows 3 Food and 1 Production. Some areas are correct, but then others are offset by 1 tile in any direction. If you have a beast computer, you'll still experience a lot of graphical problems. I'm running a 3.2 Quad Core, 1 GB Radeon HD5770, 8 GB RAM... The graphics can be quite stunning at times and the unit close-ups are amazingly detailed. However, slow loading tiles often cause the game to crash, especially when the map skips from one unit to another across the world.\\n\\nThis game can be great. It can be amazing if you limit your gameplay style and if you're willing to constantly be fighting the game itself. I've been playing Civilization since Civilization III and I will say now, that this will be the last Civilization game I will buy/play. I can't imagine the headache the next game will become given the exponential increase in problems from Civilization IV (my favorite game thus far).\\n\\nBuy this game if you don't mind the trouble. It's a lemon.\\n\\nUPDATE (11/03/21): I continue to play this game, regardless of the troublesome errors that still occur. Even after the latest and greatest patch a few weeks ago, the game continues to crash on Huge and Large maps. This typically occurs when the map moves from one unit to another and spans a long distance. Typically, when it loads the tiles, this can cause hang ups with your system. I consider my computer relatively \"awesome\" and it still has problems, even at the lowest settings. As a precaution, you can \"preload\" tiles by scrolling over the entire map to the unit... Which doesn't make the game very enjoyable.\\n\\nAdditional quirks include the game crashing if a group of Civs decide to declare war on another Civ, but you happen to kill one of them or be at war with one of them. Specifically, in one game, I was at war with Alexander and at turn 452 he (along with Wu Zetian, Gandhi, Genghis Khan, and Elizabeth) were going to declare war on Bismarck (I have no idea why, since he only had three cities). If I conquered his Civilization at turn 451, the game would crash at 452. If I was still at war with him, but hadn't conquered him yet, the game would crash also. The solution (after several attempts) was to make peace at 451, then re-declare war via Nuclear Missile at turn 453, surpassing the unusual bug that crashed the game at turn 452. You can see the problem here, a game that is designed to have massive proportions of \"choice\" will have equally as massive of \"bugs.\" While Civilization IV was an amazing game that had fewer issues, this is not that game.\\n\\nI've come to the conclusion this game will never be \"perfect.\" Is it worth buying? Sure, if you're crazy enough to suffer through some weird issues here and there. Maybe on sale.   \n",
              "3454                                                                                                                                                                                                                                                                                                                                                                                                                                                                                                                                                                                                                                                                                                                                                                                                                                                                                                                                                                                                                                                                                                                                                                                                                                                                                                                                                                                                                                                                                                                                                                                                                                                                                                                                                                                                                                                                                                                                                                                                                                                                                                                                                                                                                                                                                                                                                                                                                                                                                                                                                                                                                                                                                                                                                                                                                                                                                                                                                                                                                                                                                                                                                                                                                                                                                                                                                                                                                                                                                                                                                                                                                                                                                                                                                                                                                                                                                                                                                                                                                                                                                                                                                                                                                                                                                                                                                                                                                                                                                                                                                                                                                                                                                                                                                                                                                                                                                                                                                                                                                                                                                                                                                                                                                                                                                                                                                                                                                                                                                                                                                                                                                                                                                                                                                                                                                                                                                                                                                                                                                                                                                                                                                                                                                                                                                                                                                                                                                                                                                                                                                                                                                                                                                                                                                                                                                                                                                                                                                                                                                                                                                                                I have played every version of half-life there is. If you haven't orange box throws them in the box (play them 1st!). Nice mix of puzzles and first person shooter and a complex and interesting story. Plays well on Vista.   \n",
              "\n",
              "                                                                                                                                                                                                                                                                                                                                                                                                                                                                                                                                                                                                                                          tb_tokens  \n",
              "3046                                                                                                                                                                                                                                                                                                                                                                                                                                                                                                                    [not, much, to, say, their, made, of, metal, and, you, lift, them, weights, were, accurate, to, listed, weight, good, deal]  \n",
              "683   [let, me, start, by, stating, that, i, do, not, write, reviews, often, and, typically, only, do, so, when, a, product, falls, at, either, end, of, the, 5, star, spectrum, i, have, been, playing, this, game, since, it, was, released, in, september, and, it, has, been, the, most, problematic, game, i, have, ever, played, i, understand, that, games, tend, to, have, bugs, and, defects, and, updates, tend, to, fix, that, however, there, has, never, been, a, game, like, civilization, v, that, has, produced, bugs, so, horrendous, that, i, can, no, longer, enjoy, the, game, i, have, also, been, playing, fallout, new, ...]  \n",
              "3454                                                                                                                                                                                                                                                                                                                                                                                   [i, have, played, every, version, of, halflife, there, is, if, you, havent, orange, box, throws, them, in, the, box, play, them, 1st, nice, mix, of, puzzles, and, first, person, shooter, and, a, complex, and, interesting, story, plays, well, on, vista]  "
            ]
          },
          "execution_count": 15,
          "metadata": {},
          "output_type": "execute_result"
        }
      ],
      "source": [
        "reviews[['reviewText','tb_tokens']].sample(3)"
      ]
    },
    {
      "cell_type": "markdown",
      "metadata": {
        "id": "hXlJXm6OLgty"
      },
      "source": [
        "### Casual Tokenizer"
      ]
    },
    {
      "cell_type": "code",
      "execution_count": null,
      "metadata": {
        "id": "U9o7yXytLgtz"
      },
      "outputs": [],
      "source": [
        "from nltk.tokenize.casual import casual_tokenize"
      ]
    },
    {
      "cell_type": "code",
      "execution_count": null,
      "metadata": {
        "id": "z4FGscykLgtz"
      },
      "outputs": [],
      "source": [
        "reviews['casual_tokens'] = reviews['rev_text_lower'].apply(lambda rev: casual_tokenize(str(rev)))"
      ]
    },
    {
      "cell_type": "code",
      "execution_count": null,
      "metadata": {
        "id": "o7D5KivqLgtz",
        "outputId": "071965de-8dde-4a40-fffe-da576366cc0e"
      },
      "outputs": [
        {
          "data": {
            "text/html": [
              "<div>\n",
              "<style scoped>\n",
              "    .dataframe tbody tr th:only-of-type {\n",
              "        vertical-align: middle;\n",
              "    }\n",
              "\n",
              "    .dataframe tbody tr th {\n",
              "        vertical-align: top;\n",
              "    }\n",
              "\n",
              "    .dataframe thead th {\n",
              "        text-align: right;\n",
              "    }\n",
              "</style>\n",
              "<table border=\"1\" class=\"dataframe\">\n",
              "  <thead>\n",
              "    <tr style=\"text-align: right;\">\n",
              "      <th></th>\n",
              "      <th>reviewText</th>\n",
              "      <th>casual_tokens</th>\n",
              "      <th>tb_tokens</th>\n",
              "    </tr>\n",
              "  </thead>\n",
              "  <tbody>\n",
              "    <tr>\n",
              "      <th>2939</th>\n",
              "      <td>Ever since I herd that Mario Kart was coming to the wii I was thrilled, I couldn't wait to play/buy it! Then as time pasted more information came out that it was going to come with a wheel that you could use during the game to give it the real driving experiance. It looked and sounded like it would  be 100x better then Double Dash!\\n\\nNow, I am a die hard Double Dash fan. I love the game! Buy if I had to choose between Mario Kart Wii vs. Mario Kart Double Dash I would pick Double Dash. Why? To me Dash is way better and funner to play. In the NEW game a lot of things of been changed and or deleted! For example: For all die hard GC fans who love using GC controller, in Mario Kart Wii... you won't! The controls are completely differnt and you can't even change them, WTF! Also, I don't know about you bit my friends and I always loved to play bombs. But guess what, its gone! Remember Baby Park aka Carnage Park, its gone too!\\n\\nOverall the game is really cool and fun to play. It just would be nice if it had some of the old things that Double Dash had, at least they kept Peach Beach!\\n\\nThe graphics are great in the game. The music is great. Its tons of fun for the family and friends! Plus you get a FREE $20.00 wheel - you can't beat that! I would recommend all Wii gamers to go pick it up!</td>\n",
              "      <td>[ever, since, i, herd, that, mario, kart, was, coming, to, the, wii, i, was, thrilled, i, couldnt, wait, to, playbuy, it, then, as, time, pasted, more, information, came, out, that, it, was, going, to, come, with, a, wheel, that, you, could, use, during, the, game, to, give, it, the, real, driving, experiance, it, looked, and, sounded, like, it, would, be, 100x, better, then, double, dash, now, i, am, a, die, hard, double, dash, fan, i, love, the, game, buy, if, i, had, to, choose, between, mario, kart, wii, vs, mario, kart, double, dash, i, would, pick, double, dash, why, to, ...]</td>\n",
              "      <td>[ever, since, i, herd, that, mario, kart, was, coming, to, the, wii, i, was, thrilled, i, couldnt, wait, to, playbuy, it, then, as, time, pasted, more, information, came, out, that, it, was, going, to, come, with, a, wheel, that, you, could, use, during, the, game, to, give, it, the, real, driving, experiance, it, looked, and, sounded, like, it, would, be, 100x, better, then, double, dash, now, i, am, a, die, hard, double, dash, fan, i, love, the, game, buy, if, i, had, to, choose, between, mario, kart, wii, vs, mario, kart, double, dash, i, would, pick, double, dash, why, to, ...]</td>\n",
              "    </tr>\n",
              "    <tr>\n",
              "      <th>3791</th>\n",
              "      <td>The game was literally brand new. I checked the disc and didn't see a scratch. You can only see extremely small scratches if your eye is very close to the disc like your looking through a microscope. The seller is amazing! He or She takes really good with his or her products. He or she really care about their customers and want them to be happy with their purchases. I got the game a little early then expected which made me really happy being able to play the game sooner. If you need products that this specific person is selling, BUY IT! Not only you save money compared to stores, you also get them like its brand new.</td>\n",
              "      <td>[the, game, was, literally, brand, new, i, checked, the, disc, and, didnt, see, a, scratch, you, can, only, see, extremely, small, scratches, if, your, eye, is, very, close, to, the, disc, like, your, looking, through, a, microscope, the, seller, is, amazing, he, or, she, takes, really, good, with, his, or, her, products, he, or, she, really, care, about, their, customers, and, want, them, to, be, happy, with, their, purchases, i, got, the, game, a, little, early, then, expected, which, made, me, really, happy, being, able, to, play, the, game, sooner, if, you, need, products, that, this, specific, person, is, selling, ...]</td>\n",
              "      <td>[the, game, was, literally, brand, new, i, checked, the, disc, and, didnt, see, a, scratch, you, can, only, see, extremely, small, scratches, if, your, eye, is, very, close, to, the, disc, like, your, looking, through, a, microscope, the, seller, is, amazing, he, or, she, takes, really, good, with, his, or, her, products, he, or, she, really, care, about, their, customers, and, want, them, to, be, happy, with, their, purchases, i, got, the, game, a, little, early, then, expected, which, made, me, really, happy, being, able, to, play, the, game, sooner, if, you, need, products, that, this, specific, person, is, selling, ...]</td>\n",
              "    </tr>\n",
              "    <tr>\n",
              "      <th>3401</th>\n",
              "      <td>For the time these games came out and the console that they are for, these are great games. I liked the Socom story line better, but the controls and logistics fit better together on syphon filiter, including a more set in stone story</td>\n",
              "      <td>[for, the, time, these, games, came, out, and, the, console, that, they, are, for, these, are, great, games, i, liked, the, socom, story, line, better, but, the, controls, and, logistics, fit, better, together, on, syphon, filiter, including, a, more, set, in, stone, story]</td>\n",
              "      <td>[for, the, time, these, games, came, out, and, the, console, that, they, are, for, these, are, great, games, i, liked, the, socom, story, line, better, but, the, controls, and, logistics, fit, better, together, on, syphon, filiter, including, a, more, set, in, stone, story]</td>\n",
              "    </tr>\n",
              "  </tbody>\n",
              "</table>\n",
              "</div>"
            ],
            "text/plain": [
              "                                                                                                                                                                                                                                                                                                                                                                                                                                                                                                                                                                                                                                                                                                                                                                                                                                                                                                                                                                                                                                                                                                                                                                                                                                                                                                                                                    reviewText  \\\n",
              "2939  Ever since I herd that Mario Kart was coming to the wii I was thrilled, I couldn't wait to play/buy it! Then as time pasted more information came out that it was going to come with a wheel that you could use during the game to give it the real driving experiance. It looked and sounded like it would  be 100x better then Double Dash!\\n\\nNow, I am a die hard Double Dash fan. I love the game! Buy if I had to choose between Mario Kart Wii vs. Mario Kart Double Dash I would pick Double Dash. Why? To me Dash is way better and funner to play. In the NEW game a lot of things of been changed and or deleted! For example: For all die hard GC fans who love using GC controller, in Mario Kart Wii... you won't! The controls are completely differnt and you can't even change them, WTF! Also, I don't know about you bit my friends and I always loved to play bombs. But guess what, its gone! Remember Baby Park aka Carnage Park, its gone too!\\n\\nOverall the game is really cool and fun to play. It just would be nice if it had some of the old things that Double Dash had, at least they kept Peach Beach!\\n\\nThe graphics are great in the game. The music is great. Its tons of fun for the family and friends! Plus you get a FREE $20.00 wheel - you can't beat that! I would recommend all Wii gamers to go pick it up!   \n",
              "3791                                                                                                                                                                                                                                                                                                                                                                                                                                                                                                                                                                                                                                                                                                          The game was literally brand new. I checked the disc and didn't see a scratch. You can only see extremely small scratches if your eye is very close to the disc like your looking through a microscope. The seller is amazing! He or She takes really good with his or her products. He or she really care about their customers and want them to be happy with their purchases. I got the game a little early then expected which made me really happy being able to play the game sooner. If you need products that this specific person is selling, BUY IT! Not only you save money compared to stores, you also get them like its brand new.   \n",
              "3401                                                                                                                                                                                                                                                                                                                                                                                                                                                                                                                                                                                                                                                                                                                                                                                                                                                                                                                                                                                                                                                                                                                For the time these games came out and the console that they are for, these are great games. I liked the Socom story line better, but the controls and logistics fit better together on syphon filiter, including a more set in stone story   \n",
              "\n",
              "                                                                                                                                                                                                                                                                                                                                                                                                                                                                                                                                                                                                                                                casual_tokens  \\\n",
              "2939                                             [ever, since, i, herd, that, mario, kart, was, coming, to, the, wii, i, was, thrilled, i, couldnt, wait, to, playbuy, it, then, as, time, pasted, more, information, came, out, that, it, was, going, to, come, with, a, wheel, that, you, could, use, during, the, game, to, give, it, the, real, driving, experiance, it, looked, and, sounded, like, it, would, be, 100x, better, then, double, dash, now, i, am, a, die, hard, double, dash, fan, i, love, the, game, buy, if, i, had, to, choose, between, mario, kart, wii, vs, mario, kart, double, dash, i, would, pick, double, dash, why, to, ...]   \n",
              "3791  [the, game, was, literally, brand, new, i, checked, the, disc, and, didnt, see, a, scratch, you, can, only, see, extremely, small, scratches, if, your, eye, is, very, close, to, the, disc, like, your, looking, through, a, microscope, the, seller, is, amazing, he, or, she, takes, really, good, with, his, or, her, products, he, or, she, really, care, about, their, customers, and, want, them, to, be, happy, with, their, purchases, i, got, the, game, a, little, early, then, expected, which, made, me, really, happy, being, able, to, play, the, game, sooner, if, you, need, products, that, this, specific, person, is, selling, ...]   \n",
              "3401                                                                                                                                                                                                                                                                                                                                                                       [for, the, time, these, games, came, out, and, the, console, that, they, are, for, these, are, great, games, i, liked, the, socom, story, line, better, but, the, controls, and, logistics, fit, better, together, on, syphon, filiter, including, a, more, set, in, stone, story]   \n",
              "\n",
              "                                                                                                                                                                                                                                                                                                                                                                                                                                                                                                                                                                                                                                                    tb_tokens  \n",
              "2939                                             [ever, since, i, herd, that, mario, kart, was, coming, to, the, wii, i, was, thrilled, i, couldnt, wait, to, playbuy, it, then, as, time, pasted, more, information, came, out, that, it, was, going, to, come, with, a, wheel, that, you, could, use, during, the, game, to, give, it, the, real, driving, experiance, it, looked, and, sounded, like, it, would, be, 100x, better, then, double, dash, now, i, am, a, die, hard, double, dash, fan, i, love, the, game, buy, if, i, had, to, choose, between, mario, kart, wii, vs, mario, kart, double, dash, i, would, pick, double, dash, why, to, ...]  \n",
              "3791  [the, game, was, literally, brand, new, i, checked, the, disc, and, didnt, see, a, scratch, you, can, only, see, extremely, small, scratches, if, your, eye, is, very, close, to, the, disc, like, your, looking, through, a, microscope, the, seller, is, amazing, he, or, she, takes, really, good, with, his, or, her, products, he, or, she, really, care, about, their, customers, and, want, them, to, be, happy, with, their, purchases, i, got, the, game, a, little, early, then, expected, which, made, me, really, happy, being, able, to, play, the, game, sooner, if, you, need, products, that, this, specific, person, is, selling, ...]  \n",
              "3401                                                                                                                                                                                                                                                                                                                                                                       [for, the, time, these, games, came, out, and, the, console, that, they, are, for, these, are, great, games, i, liked, the, socom, story, line, better, but, the, controls, and, logistics, fit, better, together, on, syphon, filiter, including, a, more, set, in, stone, story]  "
            ]
          },
          "execution_count": 22,
          "metadata": {},
          "output_type": "execute_result"
        }
      ],
      "source": [
        "reviews[['reviewText','casual_tokens','tb_tokens']].sample(3)"
      ]
    },
    {
      "cell_type": "markdown",
      "metadata": {
        "id": "aKvlrBX4Lgt0"
      },
      "source": [
        "### Removing StopWords\n",
        "This part has been remvoed as removing stop words is not good for sentiment analysis at all!!"
      ]
    },
    {
      "cell_type": "code",
      "execution_count": null,
      "metadata": {
        "id": "zX-9VLBrLgt0"
      },
      "outputs": [],
      "source": [
        "#nltk.download('stopwords')"
      ]
    },
    {
      "cell_type": "code",
      "execution_count": null,
      "metadata": {
        "id": "oAQW-N6qLgt2"
      },
      "outputs": [],
      "source": [
        "#stop_words = nltk.corpus.stopwords.words('english')"
      ]
    },
    {
      "cell_type": "code",
      "execution_count": null,
      "metadata": {
        "id": "nFXPebSVLgt2"
      },
      "outputs": [],
      "source": [
        "#stop_words.remove(\"no\")"
      ]
    },
    {
      "cell_type": "code",
      "execution_count": null,
      "metadata": {
        "id": "ntB-R4jqLgt2"
      },
      "outputs": [],
      "source": [
        "#stop_words.remove(\"not\")"
      ]
    },
    {
      "cell_type": "code",
      "execution_count": null,
      "metadata": {
        "id": "orJzAy2eLgt3"
      },
      "outputs": [],
      "source": [
        "#print(stop_words)"
      ]
    },
    {
      "cell_type": "code",
      "execution_count": null,
      "metadata": {
        "id": "wqTcjStPLgt3"
      },
      "outputs": [],
      "source": [
        "#\"not\" in stop_words"
      ]
    },
    {
      "cell_type": "code",
      "execution_count": null,
      "metadata": {
        "id": "LHx-pbEuLgt3"
      },
      "outputs": [],
      "source": [
        "#len(stop_words)"
      ]
    },
    {
      "cell_type": "code",
      "execution_count": null,
      "metadata": {
        "id": "RdG4LYM9Lgt4"
      },
      "outputs": [],
      "source": [
        "#from string import punctuation\n",
        "#print(punctuation)"
      ]
    },
    {
      "cell_type": "code",
      "execution_count": null,
      "metadata": {
        "id": "9lCnMF4sLgt4"
      },
      "outputs": [],
      "source": [
        "#reviews['tokens_nosw'] = reviews['tb_tokens'].\\\n",
        "#    apply(lambda words: [w for w in words if w not in stop_words and w not in punctuation and w != \"\"])"
      ]
    },
    {
      "cell_type": "code",
      "execution_count": null,
      "metadata": {
        "id": "eaFqHY--Lgt4"
      },
      "outputs": [],
      "source": [
        "#reviews[['tb_tokens','tokens_nosw']].sample(3)"
      ]
    },
    {
      "cell_type": "markdown",
      "metadata": {
        "id": "Dqma1LX2Lgt5"
      },
      "source": [
        "### Stemming"
      ]
    },
    {
      "cell_type": "code",
      "execution_count": null,
      "metadata": {
        "id": "hHnq4-SeLgt5"
      },
      "outputs": [],
      "source": [
        "from nltk.stem.porter import PorterStemmer"
      ]
    },
    {
      "cell_type": "code",
      "execution_count": null,
      "metadata": {
        "id": "u3Sd9s-GLgt5"
      },
      "outputs": [],
      "source": [
        "stemmer = PorterStemmer()"
      ]
    },
    {
      "cell_type": "code",
      "execution_count": null,
      "metadata": {
        "id": "TaJz71p-Lgt6"
      },
      "outputs": [],
      "source": [
        "reviews['tokens_stemmed'] = reviews['tb_tokens'].apply(lambda words: [stemmer.stem(w) for w in words])"
      ]
    },
    {
      "cell_type": "code",
      "execution_count": null,
      "metadata": {
        "id": "k6fYR9BILgt6",
        "outputId": "eefc7981-d4a9-4283-d0c4-de901a6f1ad5"
      },
      "outputs": [
        {
          "data": {
            "text/html": [
              "<div>\n",
              "<style scoped>\n",
              "    .dataframe tbody tr th:only-of-type {\n",
              "        vertical-align: middle;\n",
              "    }\n",
              "\n",
              "    .dataframe tbody tr th {\n",
              "        vertical-align: top;\n",
              "    }\n",
              "\n",
              "    .dataframe thead th {\n",
              "        text-align: right;\n",
              "    }\n",
              "</style>\n",
              "<table border=\"1\" class=\"dataframe\">\n",
              "  <thead>\n",
              "    <tr style=\"text-align: right;\">\n",
              "      <th></th>\n",
              "      <th>tb_tokens</th>\n",
              "      <th>tokens_stemmed</th>\n",
              "    </tr>\n",
              "  </thead>\n",
              "  <tbody>\n",
              "    <tr>\n",
              "      <th>759</th>\n",
              "      <td>[we, are, looking, to, play, golf, game, online, since, my, buddys, graphic, card, on, his, computer, is, old, so, this, game, only, the, latest, golf, works, on, his, computer, but, the, ea, online, server, is, no, longer, working, we, are, so, disappointed, now, we, have, to, play, 2d, graphics, free, golf, game, online]</td>\n",
              "      <td>[we, are, look, to, play, golf, game, onlin, sinc, my, buddi, graphic, card, on, hi, comput, is, old, so, thi, game, onli, the, latest, golf, work, on, hi, comput, but, the, ea, onlin, server, is, no, longer, work, we, are, so, disappoint, now, we, have, to, play, 2d, graphic, free, golf, game, onlin]</td>\n",
              "    </tr>\n",
              "    <tr>\n",
              "      <th>1924</th>\n",
              "      <td>[i, am, not, a, fan, of, this, charging, system, my, dislike, for, it, is, not, entirely, energizers, fault, they, are, limited, by, the, design, of, the, ds4, controller, but, still, its, their, product, that, i, find, problematic, here, the, issue, is, that, theres, no, way, to, mount, a, battery, pack, on, a, ds4, its, a, smooth, curvy, body, build, without, a, removable, battery, pack, so, the, best, solution, energizer, could, engineer, is, to, mount, a, battery, pack, that, attaches, only, though, the, microusb, charging, port, the, hope, is, that, it, will, fit, snug, in, the, port, hug, the, body, of, ...]</td>\n",
              "      <td>[i, am, not, a, fan, of, thi, charg, system, my, dislik, for, it, is, not, entir, energ, fault, they, are, limit, by, the, design, of, the, ds4, control, but, still, it, their, product, that, i, find, problemat, here, the, issu, is, that, there, no, way, to, mount, a, batteri, pack, on, a, ds4, it, a, smooth, curvi, bodi, build, without, a, remov, batteri, pack, so, the, best, solut, energ, could, engin, is, to, mount, a, batteri, pack, that, attach, onli, though, the, microusb, charg, port, the, hope, is, that, it, will, fit, snug, in, the, port, hug, the, bodi, of, ...]</td>\n",
              "    </tr>\n",
              "    <tr>\n",
              "      <th>3850</th>\n",
              "      <td>[i, actually, really, liked, this, article, is, excellent, and, is, of, good, quality, and, i, recommend, others, to, buy, it]</td>\n",
              "      <td>[i, actual, realli, like, thi, articl, is, excel, and, is, of, good, qualiti, and, i, recommend, other, to, buy, it]</td>\n",
              "    </tr>\n",
              "  </tbody>\n",
              "</table>\n",
              "</div>"
            ],
            "text/plain": [
              "                                                                                                                                                                                                                                                                                                                                                                                                                                                                                                                                                                                                                                          tb_tokens  \\\n",
              "759                                                                                                                                                                                                                                                                                                            [we, are, looking, to, play, golf, game, online, since, my, buddys, graphic, card, on, his, computer, is, old, so, this, game, only, the, latest, golf, works, on, his, computer, but, the, ea, online, server, is, no, longer, working, we, are, so, disappointed, now, we, have, to, play, 2d, graphics, free, golf, game, online]   \n",
              "1924  [i, am, not, a, fan, of, this, charging, system, my, dislike, for, it, is, not, entirely, energizers, fault, they, are, limited, by, the, design, of, the, ds4, controller, but, still, its, their, product, that, i, find, problematic, here, the, issue, is, that, theres, no, way, to, mount, a, battery, pack, on, a, ds4, its, a, smooth, curvy, body, build, without, a, removable, battery, pack, so, the, best, solution, energizer, could, engineer, is, to, mount, a, battery, pack, that, attaches, only, though, the, microusb, charging, port, the, hope, is, that, it, will, fit, snug, in, the, port, hug, the, body, of, ...]   \n",
              "3850                                                                                                                                                                                                                                                                                                                                                                                                                                                                                                                 [i, actually, really, liked, this, article, is, excellent, and, is, of, good, quality, and, i, recommend, others, to, buy, it]   \n",
              "\n",
              "                                                                                                                                                                                                                                                                                                                                                                                                                                                                                                                                                                                          tokens_stemmed  \n",
              "759                                                                                                                                                                                                                                                                                       [we, are, look, to, play, golf, game, onlin, sinc, my, buddi, graphic, card, on, hi, comput, is, old, so, thi, game, onli, the, latest, golf, work, on, hi, comput, but, the, ea, onlin, server, is, no, longer, work, we, are, so, disappoint, now, we, have, to, play, 2d, graphic, free, golf, game, onlin]  \n",
              "1924  [i, am, not, a, fan, of, thi, charg, system, my, dislik, for, it, is, not, entir, energ, fault, they, are, limit, by, the, design, of, the, ds4, control, but, still, it, their, product, that, i, find, problemat, here, the, issu, is, that, there, no, way, to, mount, a, batteri, pack, on, a, ds4, it, a, smooth, curvi, bodi, build, without, a, remov, batteri, pack, so, the, best, solut, energ, could, engin, is, to, mount, a, batteri, pack, that, attach, onli, though, the, microusb, charg, port, the, hope, is, that, it, will, fit, snug, in, the, port, hug, the, bodi, of, ...]  \n",
              "3850                                                                                                                                                                                                                                                                                                                                                                                                                                                                                [i, actual, realli, like, thi, articl, is, excel, and, is, of, good, qualiti, and, i, recommend, other, to, buy, it]  "
            ]
          },
          "execution_count": 36,
          "metadata": {},
          "output_type": "execute_result"
        }
      ],
      "source": [
        "reviews[['tb_tokens','tokens_stemmed']].sample(3)"
      ]
    },
    {
      "cell_type": "markdown",
      "metadata": {
        "id": "Jfe7Ka9QLgt6"
      },
      "source": [
        "### Lemmatisation"
      ]
    },
    {
      "cell_type": "code",
      "execution_count": null,
      "metadata": {
        "id": "51SIltRFLgt7"
      },
      "outputs": [],
      "source": [
        "from nltk.stem import WordNetLemmatizer\n",
        "from nltk.corpus import wordnet as wn\n",
        "from nltk.corpus import sentiwordnet as swn\n",
        "from nltk import sent_tokenize, word_tokenize, pos_tag"
      ]
    },
    {
      "cell_type": "code",
      "execution_count": null,
      "metadata": {
        "id": "HgihAjI2Lgt7"
      },
      "outputs": [],
      "source": [
        "def penn_to_wn(tag):\n",
        "    \"\"\"\n",
        "        Convert between the PennTreebank tags to simple Wordnet tags\n",
        "    \"\"\"\n",
        "    if tag.startswith('J'):\n",
        "        return wn.ADJ\n",
        "    elif tag.startswith('N'):\n",
        "        return wn.NOUN\n",
        "    elif tag.startswith('R'):\n",
        "        return wn.ADV\n",
        "    elif tag.startswith('V'):\n",
        "        return wn.VERB\n",
        "    return None"
      ]
    },
    {
      "cell_type": "code",
      "execution_count": null,
      "metadata": {
        "id": "4G7llv1FLgt8"
      },
      "outputs": [],
      "source": [
        "lemmatizer = WordNetLemmatizer()\n",
        "def get_lemas(tokens):\n",
        "    lemmas = []\n",
        "    for token in tokens:\n",
        "        pos = penn_to_wn(pos_tag([token])[0][1])\n",
        "        if pos:\n",
        "            lemma = lemmatizer.lemmatize(token, pos)\n",
        "            if lemma:\n",
        "                lemmas.append(lemma)\n",
        "    return lemmas"
      ]
    },
    {
      "cell_type": "code",
      "execution_count": null,
      "metadata": {
        "id": "D50BoHvdLgt-"
      },
      "outputs": [],
      "source": [
        "reviews['lemmas'] = reviews['tb_tokens'].apply(lambda tokens: get_lemas(tokens))"
      ]
    }
  ],
  "metadata": {
    "kernelspec": {
      "display_name": "Python 3",
      "name": "python3"
    },
    "language_info": {
      "name": "python"
    },
    "orig_nbformat": 4,
    "vscode": {
      "interpreter": {
        "hash": "916dbcbb3f70747c44a77c7bcd40155683ae19c65e1c03b4aa3499c5328201f1"
      }
    },
    "colab": {
      "provenance": [],
      "include_colab_link": true
    },
    "accelerator": "GPU",
    "gpuClass": "standard"
  },
  "nbformat": 4,
  "nbformat_minor": 0
}