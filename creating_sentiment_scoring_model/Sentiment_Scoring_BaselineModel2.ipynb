{
  "cells": [
    {
      "cell_type": "code",
      "execution_count": 1,
      "metadata": {
        "id": "WXaFiy1YqTr1"
      },
      "outputs": [],
      "source": [
        "from nltk import sent_tokenize, pos_tag\n",
        "from nltk.tokenize import TreebankWordTokenizer\n",
        "from nltk.stem import WordNetLemmatizer\n",
        "from nltk.corpus import wordnet as wn\n",
        "from nltk.corpus import sentiwordnet as swn\n",
        "from nltk.sentiment.util import mark_negation\n",
        "from string import punctuation\n",
        "from IPython.display import display\n",
        "import pandas as pd\n",
        "import numpy as np\n",
        "import seaborn as sns\n",
        "import matplotlib.pyplot as plt\n",
        "pd.set_option('display.max_columns', None)\n",
        "pd.set_option('display.max_colwidth', None)"
      ]
    },
    {
      "cell_type": "markdown",
      "metadata": {
        "id": "THcS9Xo1qTr6"
      },
      "source": [
        "### Sentiment Scoring Using SentiWordNet"
      ]
    },
    {
      "cell_type": "code",
      "execution_count": 2,
      "metadata": {
        "id": "igXW-MCTqTr9"
      },
      "outputs": [],
      "source": [
        "def penn_to_wn(tag):\n",
        "    \"\"\"\n",
        "        Convert between the PennTreebank tags to simple Wordnet tags\n",
        "    \"\"\"\n",
        "    if tag.startswith('J'):\n",
        "        return wn.ADJ\n",
        "    elif tag.startswith('N'):\n",
        "        return wn.NOUN\n",
        "    elif tag.startswith('R'):\n",
        "        return wn.ADV\n",
        "    elif tag.startswith('V'):\n",
        "        return wn.VERB\n",
        "    return None"
      ]
    },
    {
      "cell_type": "code",
      "execution_count": 3,
      "metadata": {
        "id": "ieAK_bvkqTr-"
      },
      "outputs": [],
      "source": [
        "def get_sentiment_score(text):\n",
        "    \n",
        "    \"\"\"\n",
        "        This method returns the sentiment score of a given text using SentiWordNet sentiment scores.\n",
        "        input: text\n",
        "        output: numeric (double) score, >0 means positive sentiment and <0 means negative sentiment.\n",
        "    \"\"\"    \n",
        "    total_score = 0\n",
        "    #print(text)\n",
        "    raw_sentences = sent_tokenize(text)\n",
        "    #print(raw_sentences)\n",
        "    \n",
        "    for sentence in raw_sentences:\n",
        "\n",
        "        sent_score = 0     \n",
        "        sentence = str(sentence)\n",
        "        #print(sentence)\n",
        "        sentence = sentence.replace(\"<br />\",\" \").translate(str.maketrans('','',punctuation)).lower()\n",
        "        tokens = TreebankWordTokenizer().tokenize(text)\n",
        "        tags = pos_tag(tokens)\n",
        "        for word, tag in tags:\n",
        "            wn_tag = penn_to_wn(tag)\n",
        "            if not wn_tag:\n",
        "                continue\n",
        "            lemma = WordNetLemmatizer().lemmatize(word, pos=wn_tag)\n",
        "            if not lemma:\n",
        "                continue\n",
        "            synsets = wn.synsets(lemma, pos=wn_tag)\n",
        "            if not synsets:\n",
        "                continue\n",
        "            synset = synsets[0]\n",
        "            swn_synset = swn.senti_synset(synset.name())\n",
        "            sent_score += swn_synset.pos_score() - swn_synset.neg_score()\n",
        "\n",
        "        total_score = total_score + (sent_score / len(tokens))\n",
        "\n",
        "    \n",
        "    return (total_score / len(raw_sentences)) * 100"
      ]
    },
    {
      "cell_type": "code",
      "source": [
        "from google.colab import drive\n",
        "drive.mount('/content/drive/')\n"
      ],
      "metadata": {
        "id": "4PFwl2ryqoIJ",
        "outputId": "c4c78e9e-0bf1-4a86-8be2-77d6db04796c",
        "colab": {
          "base_uri": "https://localhost:8080/"
        }
      },
      "execution_count": 4,
      "outputs": [
        {
          "output_type": "stream",
          "name": "stdout",
          "text": [
            "Mounted at /content/drive/\n"
          ]
        }
      ]
    },
    {
      "cell_type": "code",
      "execution_count": 17,
      "metadata": {
        "id": "DeqH4hFbqTsA"
      },
      "outputs": [],
      "source": [
        "# reviews = pd.read_csv(\"../data/small_corpus.csv\")\n",
        "reviews = pd.read_csv(\"/content/drive/MyDrive/Colab Notebooks/sentiment_analysis_nlp/Sentiment_Analysis_NLP_for_Marketting/data/small_corpus.csv\")"
      ]
    },
    {
      "cell_type": "code",
      "execution_count": 18,
      "metadata": {
        "id": "lsbahE6bqTsB",
        "outputId": "c86eb6f6-9d7b-4623-83e7-fa88020d6e06",
        "colab": {
          "base_uri": "https://localhost:8080/"
        }
      },
      "outputs": [
        {
          "output_type": "execute_result",
          "data": {
            "text/plain": [
              "(4500, 12)"
            ]
          },
          "metadata": {},
          "execution_count": 18
        }
      ],
      "source": [
        "reviews.shape"
      ]
    },
    {
      "cell_type": "code",
      "execution_count": null,
      "metadata": {
        "id": "RmYEGzoLqTsE"
      },
      "outputs": [],
      "source": [
        "reviews.head()"
      ]
    },
    {
      "cell_type": "code",
      "execution_count": 20,
      "metadata": {
        "id": "zBlC0ieVqTsF"
      },
      "outputs": [],
      "source": [
        "reviews.dropna(subset=['reviewText'], inplace=True)"
      ]
    },
    {
      "cell_type": "code",
      "execution_count": 19,
      "metadata": {
        "id": "p7JJBsSFqTsF",
        "outputId": "e748a450-5a86-49f0-c575-6c1f4927706d",
        "colab": {
          "base_uri": "https://localhost:8080/"
        }
      },
      "outputs": [
        {
          "output_type": "execute_result",
          "data": {
            "text/plain": [
              "(4500, 12)"
            ]
          },
          "metadata": {},
          "execution_count": 19
        }
      ],
      "source": [
        "reviews.shape"
      ]
    },
    {
      "cell_type": "code",
      "source": [
        "import nltk\n",
        "nltk.download('punkt')\n",
        "nltk.download('averaged_perceptron_tagger')\n",
        "nltk.download('wordnet')\n",
        "nltk.download('omw-1.4')\n",
        "nltk.download('sentiwordnet')"
      ],
      "metadata": {
        "id": "G7HOdlTLrHt5",
        "outputId": "6dc8acaf-28bf-4e92-81e7-a85b2cd19e75",
        "colab": {
          "base_uri": "https://localhost:8080/"
        }
      },
      "execution_count": 21,
      "outputs": [
        {
          "output_type": "stream",
          "name": "stderr",
          "text": [
            "[nltk_data] Downloading package punkt to /root/nltk_data...\n",
            "[nltk_data]   Package punkt is already up-to-date!\n",
            "[nltk_data] Downloading package averaged_perceptron_tagger to\n",
            "[nltk_data]     /root/nltk_data...\n",
            "[nltk_data]   Package averaged_perceptron_tagger is already up-to-\n",
            "[nltk_data]       date!\n",
            "[nltk_data] Downloading package wordnet to /root/nltk_data...\n",
            "[nltk_data]   Package wordnet is already up-to-date!\n",
            "[nltk_data] Downloading package omw-1.4 to /root/nltk_data...\n",
            "[nltk_data]   Package omw-1.4 is already up-to-date!\n",
            "[nltk_data] Downloading package sentiwordnet to /root/nltk_data...\n",
            "[nltk_data]   Package sentiwordnet is already up-to-date!\n"
          ]
        },
        {
          "output_type": "execute_result",
          "data": {
            "text/plain": [
              "True"
            ]
          },
          "metadata": {},
          "execution_count": 21
        }
      ]
    },
    {
      "cell_type": "code",
      "execution_count": 22,
      "metadata": {
        "id": "-dmuUx2QqTsG"
      },
      "outputs": [],
      "source": [
        "reviews['swn_score'] = reviews['reviewText'].apply(lambda text : get_sentiment_score(text))"
      ]
    },
    {
      "cell_type": "code",
      "execution_count": 23,
      "metadata": {
        "id": "A5Xyrx7AqTsH",
        "outputId": "f4373c51-e255-43ae-8e9e-291875b24d89",
        "colab": {
          "base_uri": "https://localhost:8080/",
          "height": 208
        }
      },
      "outputs": [
        {
          "output_type": "execute_result",
          "data": {
            "text/plain": [
              "                                                                                                                                                                                                                                                                                                                                                                                                         reviewText  \\\n",
              "4318  Pros:\\n>macro/custom bind functionality is fantastic\\n>good tactile feedback\\n>very durable; does not bow/bend much\\n>good cord length\\n\\nCons:\\n>the num-Enter key has two contacts beneath it, yet only one works. The key is functional, but you have to press the TOP of the key for it to work\\n>I personally don't like blue lighting, but this product specifically advertised it, so I can't complain   \n",
              "1593                                                                                                                                                                                                                                                                                                              Definitely offers protection but it fits too tightly to the Vita.  May have ruined my left stick.   \n",
              "\n",
              "      swn_score  \n",
              "4318   4.218750  \n",
              "1593   2.777778  "
            ],
            "text/html": [
              "\n",
              "  <div id=\"df-b2c7558f-b6f2-46d0-a551-0d585599978f\">\n",
              "    <div class=\"colab-df-container\">\n",
              "      <div>\n",
              "<style scoped>\n",
              "    .dataframe tbody tr th:only-of-type {\n",
              "        vertical-align: middle;\n",
              "    }\n",
              "\n",
              "    .dataframe tbody tr th {\n",
              "        vertical-align: top;\n",
              "    }\n",
              "\n",
              "    .dataframe thead th {\n",
              "        text-align: right;\n",
              "    }\n",
              "</style>\n",
              "<table border=\"1\" class=\"dataframe\">\n",
              "  <thead>\n",
              "    <tr style=\"text-align: right;\">\n",
              "      <th></th>\n",
              "      <th>reviewText</th>\n",
              "      <th>swn_score</th>\n",
              "    </tr>\n",
              "  </thead>\n",
              "  <tbody>\n",
              "    <tr>\n",
              "      <th>4318</th>\n",
              "      <td>Pros:\\n&gt;macro/custom bind functionality is fantastic\\n&gt;good tactile feedback\\n&gt;very durable; does not bow/bend much\\n&gt;good cord length\\n\\nCons:\\n&gt;the num-Enter key has two contacts beneath it, yet only one works. The key is functional, but you have to press the TOP of the key for it to work\\n&gt;I personally don't like blue lighting, but this product specifically advertised it, so I can't complain</td>\n",
              "      <td>4.218750</td>\n",
              "    </tr>\n",
              "    <tr>\n",
              "      <th>1593</th>\n",
              "      <td>Definitely offers protection but it fits too tightly to the Vita.  May have ruined my left stick.</td>\n",
              "      <td>2.777778</td>\n",
              "    </tr>\n",
              "  </tbody>\n",
              "</table>\n",
              "</div>\n",
              "      <button class=\"colab-df-convert\" onclick=\"convertToInteractive('df-b2c7558f-b6f2-46d0-a551-0d585599978f')\"\n",
              "              title=\"Convert this dataframe to an interactive table.\"\n",
              "              style=\"display:none;\">\n",
              "        \n",
              "  <svg xmlns=\"http://www.w3.org/2000/svg\" height=\"24px\"viewBox=\"0 0 24 24\"\n",
              "       width=\"24px\">\n",
              "    <path d=\"M0 0h24v24H0V0z\" fill=\"none\"/>\n",
              "    <path d=\"M18.56 5.44l.94 2.06.94-2.06 2.06-.94-2.06-.94-.94-2.06-.94 2.06-2.06.94zm-11 1L8.5 8.5l.94-2.06 2.06-.94-2.06-.94L8.5 2.5l-.94 2.06-2.06.94zm10 10l.94 2.06.94-2.06 2.06-.94-2.06-.94-.94-2.06-.94 2.06-2.06.94z\"/><path d=\"M17.41 7.96l-1.37-1.37c-.4-.4-.92-.59-1.43-.59-.52 0-1.04.2-1.43.59L10.3 9.45l-7.72 7.72c-.78.78-.78 2.05 0 2.83L4 21.41c.39.39.9.59 1.41.59.51 0 1.02-.2 1.41-.59l7.78-7.78 2.81-2.81c.8-.78.8-2.07 0-2.86zM5.41 20L4 18.59l7.72-7.72 1.47 1.35L5.41 20z\"/>\n",
              "  </svg>\n",
              "      </button>\n",
              "      \n",
              "  <style>\n",
              "    .colab-df-container {\n",
              "      display:flex;\n",
              "      flex-wrap:wrap;\n",
              "      gap: 12px;\n",
              "    }\n",
              "\n",
              "    .colab-df-convert {\n",
              "      background-color: #E8F0FE;\n",
              "      border: none;\n",
              "      border-radius: 50%;\n",
              "      cursor: pointer;\n",
              "      display: none;\n",
              "      fill: #1967D2;\n",
              "      height: 32px;\n",
              "      padding: 0 0 0 0;\n",
              "      width: 32px;\n",
              "    }\n",
              "\n",
              "    .colab-df-convert:hover {\n",
              "      background-color: #E2EBFA;\n",
              "      box-shadow: 0px 1px 2px rgba(60, 64, 67, 0.3), 0px 1px 3px 1px rgba(60, 64, 67, 0.15);\n",
              "      fill: #174EA6;\n",
              "    }\n",
              "\n",
              "    [theme=dark] .colab-df-convert {\n",
              "      background-color: #3B4455;\n",
              "      fill: #D2E3FC;\n",
              "    }\n",
              "\n",
              "    [theme=dark] .colab-df-convert:hover {\n",
              "      background-color: #434B5C;\n",
              "      box-shadow: 0px 1px 3px 1px rgba(0, 0, 0, 0.15);\n",
              "      filter: drop-shadow(0px 1px 2px rgba(0, 0, 0, 0.3));\n",
              "      fill: #FFFFFF;\n",
              "    }\n",
              "  </style>\n",
              "\n",
              "      <script>\n",
              "        const buttonEl =\n",
              "          document.querySelector('#df-b2c7558f-b6f2-46d0-a551-0d585599978f button.colab-df-convert');\n",
              "        buttonEl.style.display =\n",
              "          google.colab.kernel.accessAllowed ? 'block' : 'none';\n",
              "\n",
              "        async function convertToInteractive(key) {\n",
              "          const element = document.querySelector('#df-b2c7558f-b6f2-46d0-a551-0d585599978f');\n",
              "          const dataTable =\n",
              "            await google.colab.kernel.invokeFunction('convertToInteractive',\n",
              "                                                     [key], {});\n",
              "          if (!dataTable) return;\n",
              "\n",
              "          const docLinkHtml = 'Like what you see? Visit the ' +\n",
              "            '<a target=\"_blank\" href=https://colab.research.google.com/notebooks/data_table.ipynb>data table notebook</a>'\n",
              "            + ' to learn more about interactive tables.';\n",
              "          element.innerHTML = '';\n",
              "          dataTable['output_type'] = 'display_data';\n",
              "          await google.colab.output.renderOutput(dataTable, element);\n",
              "          const docLink = document.createElement('div');\n",
              "          docLink.innerHTML = docLinkHtml;\n",
              "          element.appendChild(docLink);\n",
              "        }\n",
              "      </script>\n",
              "    </div>\n",
              "  </div>\n",
              "  "
            ]
          },
          "metadata": {},
          "execution_count": 23
        }
      ],
      "source": [
        "reviews[['reviewText','swn_score']].sample(2)"
      ]
    },
    {
      "cell_type": "code",
      "execution_count": 24,
      "metadata": {
        "id": "e2nbK-2OqTsH",
        "outputId": "8f8dbbea-1b88-474d-92ac-2068aa814841",
        "colab": {
          "base_uri": "https://localhost:8080/",
          "height": 920
        }
      },
      "outputs": [
        {
          "output_type": "execute_result",
          "data": {
            "text/plain": [
              "                                                                                                                                                                                                                                                                                                                                                                                                                                                                                                                                                                                                                                                                                                                                                                                                                                                                                                                                                                                                                                                                                                                                                                                                                                                                                                                                                                                                                                                                                                                                                                                                                                                                                                                                                                                                                                                                                                                                                                                                                                                                                                                                                                                                                                                                                                                                                                                                                                                                                                                                                                                                                                                                                                                                                                                                                                                                                                                                                                                                                                                                                                                                                                                                                                                                                                                                                                                                                                                                                                                                                                                                                                                                                                                                                                                                                                                                                                                                                                                                                                                                                                                                                                                                                                                                                                                                                                                                                                                                                                                                                                                                                                                                                                                                                                                                                                                                                                                                                                                                                                                                                                                                                                                                                                                                                                                                                                                                                                                                                                                                                                                                                                                                                                                                                                                                                                                                                               reviewText  \\\n",
              "4469  The Adventure's Prelude:\\n\\nIf you are new to Myst, you must understand the whole idea behind it, or Myst IV Revelation (M4R) will probably not make sense at all.\\n\\nThe original Myst introduced the concept of \"Linking Books\", special books written by a few gifted people from the D'ni civilization.  These people used the Art to conceive and \"write\" entire worlds known as \"Ages\" accessible only through these same books, hence the name, linking books.\\n\\nMyst also introduces Atrus, his wife Catherine  and his two sons, Sirrus and Achenar.  In the original adventure, Sirrus and Achenar ended up trapped in separate \"ages\" written by their father Atrus after he found out that their greed led them to abuse their power against the peaceful inhabitants of these conceived worlds.  M4R begins 20 years after these events, finding Atrus in the age of Tomahna regretting his decision of trapping his sons and asking for your help in finding out if they have truly changed for good.  M4R also presents Yeesha, Atrus and Catherine's daughter introduced originally in Myst III Exile.\\n\\nReality Check:\\n\\nI totally understand the frustration expressed by other reviewers not only with M4R's game play, but also with the technical difficulties of making it work.  Very well put from a reviewer who said that getting M4R to work was a puzzle in itself.\\n\\nI also suffered from technical difficulties, not while setting up or starting the game mind you, but in an advanced stage of it, which made it worse as I was already immersed in the whole adventure.  I solved this difficult \"technical\" side-puzzle (this is a good spoiler) by re-installing M4R after applying a driver update to my Nvidia card, then applying the latest M4R patch (1.03 as of this writing) and restarting the game with the antivirus off.  The M4R patch can be easily found with any search engine.\\n\\nM4R's Heart - The Puzzles:\\n\\nAnd they are all over; and I believe that most of them are intentionally placed right in your face, to bait you into a false sense of discovery and accomplishment.  The sad reality is that these puzzles will not make sense at all the first time around.  Clicking all buttons or pulling all the levers or shuffling stuff around will only make matters worse.  You need to be systematic from the start, watching closely their initial state, leaving them intact until you collect more clues around the Age or world, and come back to them when they start making sense.  Puzzles are not logical unless you put them in the context of the story.  For this it's necessary to explore, read, observe and listen to everything, take a lot of pictures and write notes.  Don't expect to see a puzzle and start making combinations until you get the right one; they were designed in such a way that the combinations are too many to make this a logical approach.  As another reviewer stated, you have to take it easy and explore patiently, relaxed, sipping your favorite drink (I bet a glass of wine goes great with Serenia's exotic mind-benders)\\n\\nIf you have played any previous Myst adventures (Myst, Riven, Exile, etc.) you will immediately notice that the puzzles in M4R are more involved, but in general the original concept or idea is there; you will have to put together clues and explore deeply in order to solve them.  You will also find that M4R's puzzles are not limited to physical machines and gadgetries, there are also puzzles involving surreal events.  If that's not enough, time limitations were added to a few puzzles to make them a bit more \"interesting\".\\n\\nM4R is not recommended for impatient adventurers.  You will require extreme patience, and must set aside some time to solve many puzzles (There are a few of them where you can not save until they are completed, and believe me, they DO take SOME time to solve)\\n\\nI was able to complete M4R despite the fact that I had to stop for a few weeks, not only because of the technical difficulties mentioned previously, but also because of frustration (specifically with Spire, and you'll know when you get there).  Probably that was the best thing I did.  When I came back to the game, I had a fresh mind which helped me immensely in dealing with the rest of the adventure.\\n\\nConclusion:\\n\\nM4R is recommended for players who love a good challenge.  The graphics are the best so far in any Myst adventure.  The music and sound effects still evoke that Myst feeling all over again.  Peter Gabriel's music was a nice addition.  Good acting for a computer game.  You'll see more action, movement, beautiful water flowing, waves rippling, wind blowing, clouds moving, sunlight casting shadows, birds flying, smoother transitions that will make you feel as part of the world.  I truly recommend playing M4R using headphones.\\n\\nMake sure to perform a full installation (for a smoother game play) and apply all patches (M4R, video, sound) before starting the game to avoid technical issues.\\n\\nSide Note:\\n\\nI found out a nice trick in Windows to print out your saved pictures from the game (M4R has this new option of taking pictures).  For me this was very useful to solve the toughest puzzles.  While the game is playing, switch out of it using the Alt-Tab or Start key (on a Windows keyboard).  This will minimize the game in your taskbar while keeping it active.  Go to the saved games folder (default is My Documents->myst4-revelation savegames) and click the Journal subfolder.  You will find the pictures there in JPG format ready to print using any picture editor program such as MS Photo Editor.  You can only perform the above steps while the game is running; the pictures will disappear once you exit the game.   \n",
              "2580                                                                                                                                                                                                                                                                                                                                                                                                                                                                                                                                                                                                                                                                                                                                                                                                                                                                                                                                                                                                                                                                                                                                                                                                                                                                                                                                                                                                                                                                                                                                                                                                                                                                                                                                                                                                                                                                                                                                                                                                                                                                                                                                                                                                                                                                                                                                                                                                                                                                                                                                                                                                                                                                                                                                                                                                                                                                                                                                                                                                                                                                                                                                                                                                                                                                                                                                                                                                                                                                                                                                                                                                                                                                                                                                                                                                                                                                                                                                                                                                                                                                                                                                                                                                                                                                                                                                                                                                                                                                                                                                                                                                                                                                                                                                                                                                                                                                                                                                                                                                                                                                                                                                                                                                                                                                                                                                                                                                                                                                                                                                                                                                                                                                                                                                                                      fancy Hub for all the games, makes you really enjoy playing all the older games, though Nuts & Bolts still runs in 10fps. Shame   \n",
              "\n",
              "      swn_score  \n",
              "4469   1.133210  \n",
              "2580  -0.480769  "
            ],
            "text/html": [
              "\n",
              "  <div id=\"df-579945ec-c07b-4b0f-9984-f258b097101b\">\n",
              "    <div class=\"colab-df-container\">\n",
              "      <div>\n",
              "<style scoped>\n",
              "    .dataframe tbody tr th:only-of-type {\n",
              "        vertical-align: middle;\n",
              "    }\n",
              "\n",
              "    .dataframe tbody tr th {\n",
              "        vertical-align: top;\n",
              "    }\n",
              "\n",
              "    .dataframe thead th {\n",
              "        text-align: right;\n",
              "    }\n",
              "</style>\n",
              "<table border=\"1\" class=\"dataframe\">\n",
              "  <thead>\n",
              "    <tr style=\"text-align: right;\">\n",
              "      <th></th>\n",
              "      <th>reviewText</th>\n",
              "      <th>swn_score</th>\n",
              "    </tr>\n",
              "  </thead>\n",
              "  <tbody>\n",
              "    <tr>\n",
              "      <th>4469</th>\n",
              "      <td>The Adventure's Prelude:\\n\\nIf you are new to Myst, you must understand the whole idea behind it, or Myst IV Revelation (M4R) will probably not make sense at all.\\n\\nThe original Myst introduced the concept of \"Linking Books\", special books written by a few gifted people from the D'ni civilization.  These people used the Art to conceive and \"write\" entire worlds known as \"Ages\" accessible only through these same books, hence the name, linking books.\\n\\nMyst also introduces Atrus, his wife Catherine  and his two sons, Sirrus and Achenar.  In the original adventure, Sirrus and Achenar ended up trapped in separate \"ages\" written by their father Atrus after he found out that their greed led them to abuse their power against the peaceful inhabitants of these conceived worlds.  M4R begins 20 years after these events, finding Atrus in the age of Tomahna regretting his decision of trapping his sons and asking for your help in finding out if they have truly changed for good.  M4R also presents Yeesha, Atrus and Catherine's daughter introduced originally in Myst III Exile.\\n\\nReality Check:\\n\\nI totally understand the frustration expressed by other reviewers not only with M4R's game play, but also with the technical difficulties of making it work.  Very well put from a reviewer who said that getting M4R to work was a puzzle in itself.\\n\\nI also suffered from technical difficulties, not while setting up or starting the game mind you, but in an advanced stage of it, which made it worse as I was already immersed in the whole adventure.  I solved this difficult \"technical\" side-puzzle (this is a good spoiler) by re-installing M4R after applying a driver update to my Nvidia card, then applying the latest M4R patch (1.03 as of this writing) and restarting the game with the antivirus off.  The M4R patch can be easily found with any search engine.\\n\\nM4R's Heart - The Puzzles:\\n\\nAnd they are all over; and I believe that most of them are intentionally placed right in your face, to bait you into a false sense of discovery and accomplishment.  The sad reality is that these puzzles will not make sense at all the first time around.  Clicking all buttons or pulling all the levers or shuffling stuff around will only make matters worse.  You need to be systematic from the start, watching closely their initial state, leaving them intact until you collect more clues around the Age or world, and come back to them when they start making sense.  Puzzles are not logical unless you put them in the context of the story.  For this it's necessary to explore, read, observe and listen to everything, take a lot of pictures and write notes.  Don't expect to see a puzzle and start making combinations until you get the right one; they were designed in such a way that the combinations are too many to make this a logical approach.  As another reviewer stated, you have to take it easy and explore patiently, relaxed, sipping your favorite drink (I bet a glass of wine goes great with Serenia's exotic mind-benders)\\n\\nIf you have played any previous Myst adventures (Myst, Riven, Exile, etc.) you will immediately notice that the puzzles in M4R are more involved, but in general the original concept or idea is there; you will have to put together clues and explore deeply in order to solve them.  You will also find that M4R's puzzles are not limited to physical machines and gadgetries, there are also puzzles involving surreal events.  If that's not enough, time limitations were added to a few puzzles to make them a bit more \"interesting\".\\n\\nM4R is not recommended for impatient adventurers.  You will require extreme patience, and must set aside some time to solve many puzzles (There are a few of them where you can not save until they are completed, and believe me, they DO take SOME time to solve)\\n\\nI was able to complete M4R despite the fact that I had to stop for a few weeks, not only because of the technical difficulties mentioned previously, but also because of frustration (specifically with Spire, and you'll know when you get there).  Probably that was the best thing I did.  When I came back to the game, I had a fresh mind which helped me immensely in dealing with the rest of the adventure.\\n\\nConclusion:\\n\\nM4R is recommended for players who love a good challenge.  The graphics are the best so far in any Myst adventure.  The music and sound effects still evoke that Myst feeling all over again.  Peter Gabriel's music was a nice addition.  Good acting for a computer game.  You'll see more action, movement, beautiful water flowing, waves rippling, wind blowing, clouds moving, sunlight casting shadows, birds flying, smoother transitions that will make you feel as part of the world.  I truly recommend playing M4R using headphones.\\n\\nMake sure to perform a full installation (for a smoother game play) and apply all patches (M4R, video, sound) before starting the game to avoid technical issues.\\n\\nSide Note:\\n\\nI found out a nice trick in Windows to print out your saved pictures from the game (M4R has this new option of taking pictures).  For me this was very useful to solve the toughest puzzles.  While the game is playing, switch out of it using the Alt-Tab or Start key (on a Windows keyboard).  This will minimize the game in your taskbar while keeping it active.  Go to the saved games folder (default is My Documents-&gt;myst4-revelation savegames) and click the Journal subfolder.  You will find the pictures there in JPG format ready to print using any picture editor program such as MS Photo Editor.  You can only perform the above steps while the game is running; the pictures will disappear once you exit the game.</td>\n",
              "      <td>1.133210</td>\n",
              "    </tr>\n",
              "    <tr>\n",
              "      <th>2580</th>\n",
              "      <td>fancy Hub for all the games, makes you really enjoy playing all the older games, though Nuts &amp; Bolts still runs in 10fps. Shame</td>\n",
              "      <td>-0.480769</td>\n",
              "    </tr>\n",
              "  </tbody>\n",
              "</table>\n",
              "</div>\n",
              "      <button class=\"colab-df-convert\" onclick=\"convertToInteractive('df-579945ec-c07b-4b0f-9984-f258b097101b')\"\n",
              "              title=\"Convert this dataframe to an interactive table.\"\n",
              "              style=\"display:none;\">\n",
              "        \n",
              "  <svg xmlns=\"http://www.w3.org/2000/svg\" height=\"24px\"viewBox=\"0 0 24 24\"\n",
              "       width=\"24px\">\n",
              "    <path d=\"M0 0h24v24H0V0z\" fill=\"none\"/>\n",
              "    <path d=\"M18.56 5.44l.94 2.06.94-2.06 2.06-.94-2.06-.94-.94-2.06-.94 2.06-2.06.94zm-11 1L8.5 8.5l.94-2.06 2.06-.94-2.06-.94L8.5 2.5l-.94 2.06-2.06.94zm10 10l.94 2.06.94-2.06 2.06-.94-2.06-.94-.94-2.06-.94 2.06-2.06.94z\"/><path d=\"M17.41 7.96l-1.37-1.37c-.4-.4-.92-.59-1.43-.59-.52 0-1.04.2-1.43.59L10.3 9.45l-7.72 7.72c-.78.78-.78 2.05 0 2.83L4 21.41c.39.39.9.59 1.41.59.51 0 1.02-.2 1.41-.59l7.78-7.78 2.81-2.81c.8-.78.8-2.07 0-2.86zM5.41 20L4 18.59l7.72-7.72 1.47 1.35L5.41 20z\"/>\n",
              "  </svg>\n",
              "      </button>\n",
              "      \n",
              "  <style>\n",
              "    .colab-df-container {\n",
              "      display:flex;\n",
              "      flex-wrap:wrap;\n",
              "      gap: 12px;\n",
              "    }\n",
              "\n",
              "    .colab-df-convert {\n",
              "      background-color: #E8F0FE;\n",
              "      border: none;\n",
              "      border-radius: 50%;\n",
              "      cursor: pointer;\n",
              "      display: none;\n",
              "      fill: #1967D2;\n",
              "      height: 32px;\n",
              "      padding: 0 0 0 0;\n",
              "      width: 32px;\n",
              "    }\n",
              "\n",
              "    .colab-df-convert:hover {\n",
              "      background-color: #E2EBFA;\n",
              "      box-shadow: 0px 1px 2px rgba(60, 64, 67, 0.3), 0px 1px 3px 1px rgba(60, 64, 67, 0.15);\n",
              "      fill: #174EA6;\n",
              "    }\n",
              "\n",
              "    [theme=dark] .colab-df-convert {\n",
              "      background-color: #3B4455;\n",
              "      fill: #D2E3FC;\n",
              "    }\n",
              "\n",
              "    [theme=dark] .colab-df-convert:hover {\n",
              "      background-color: #434B5C;\n",
              "      box-shadow: 0px 1px 3px 1px rgba(0, 0, 0, 0.15);\n",
              "      filter: drop-shadow(0px 1px 2px rgba(0, 0, 0, 0.3));\n",
              "      fill: #FFFFFF;\n",
              "    }\n",
              "  </style>\n",
              "\n",
              "      <script>\n",
              "        const buttonEl =\n",
              "          document.querySelector('#df-579945ec-c07b-4b0f-9984-f258b097101b button.colab-df-convert');\n",
              "        buttonEl.style.display =\n",
              "          google.colab.kernel.accessAllowed ? 'block' : 'none';\n",
              "\n",
              "        async function convertToInteractive(key) {\n",
              "          const element = document.querySelector('#df-579945ec-c07b-4b0f-9984-f258b097101b');\n",
              "          const dataTable =\n",
              "            await google.colab.kernel.invokeFunction('convertToInteractive',\n",
              "                                                     [key], {});\n",
              "          if (!dataTable) return;\n",
              "\n",
              "          const docLinkHtml = 'Like what you see? Visit the ' +\n",
              "            '<a target=\"_blank\" href=https://colab.research.google.com/notebooks/data_table.ipynb>data table notebook</a>'\n",
              "            + ' to learn more about interactive tables.';\n",
              "          element.innerHTML = '';\n",
              "          dataTable['output_type'] = 'display_data';\n",
              "          await google.colab.output.renderOutput(dataTable, element);\n",
              "          const docLink = document.createElement('div');\n",
              "          docLink.innerHTML = docLinkHtml;\n",
              "          element.appendChild(docLink);\n",
              "        }\n",
              "      </script>\n",
              "    </div>\n",
              "  </div>\n",
              "  "
            ]
          },
          "metadata": {},
          "execution_count": 24
        }
      ],
      "source": [
        "reviews[['reviewText','swn_score']].sample(2)"
      ]
    },
    {
      "cell_type": "code",
      "execution_count": 25,
      "metadata": {
        "id": "GfnEYQ5mqTsI",
        "outputId": "898f0df8-1876-4cd0-c0a7-013e3449a42f",
        "colab": {
          "base_uri": "https://localhost:8080/",
          "height": 492
        }
      },
      "outputs": [
        {
          "output_type": "display_data",
          "data": {
            "text/plain": [
              "<Figure size 1440x720 with 1 Axes>"
            ],
            "image/png": "[encoded data removed]"
          },
          "metadata": {
            "needs_background": "light"
          }
        }
      ],
      "source": [
        "fig , ax = plt.subplots(nrows=1, ncols=1, figsize=(20,10))\n",
        "sns.histplot(x='swn_score', data=reviews.query(\"swn_score < 8 and swn_score > -8\"), ax=ax)\n",
        "plt.show()"
      ]
    },
    {
      "cell_type": "code",
      "execution_count": 33,
      "metadata": {
        "id": "o1UGWgIDqTsJ"
      },
      "outputs": [],
      "source": [
        "reviews['swn_sentiment'] = reviews['swn_score'].apply(lambda x: \"positive\" if x>1 else (\"negative\" if x<0.5 else \"neutral\"))"
      ]
    },
    {
      "cell_type": "code",
      "execution_count": 34,
      "metadata": {
        "id": "VQC0QksQqTsK",
        "outputId": "f9076e19-b9b8-49e2-ce1f-052d776cfb6a",
        "colab": {
          "base_uri": "https://localhost:8080/"
        }
      },
      "outputs": [
        {
          "output_type": "execute_result",
          "data": {
            "text/plain": [
              "positive    2198\n",
              "negative    1861\n",
              "neutral      440\n",
              "Name: swn_sentiment, dtype: int64"
            ]
          },
          "metadata": {},
          "execution_count": 34
        }
      ],
      "source": [
        "reviews['swn_sentiment'].value_counts(dropna=False)"
      ]
    },
    {
      "cell_type": "code",
      "execution_count": 35,
      "metadata": {
        "id": "9Bo95lz8qTsK",
        "outputId": "4e1a822f-3127-4aca-e58e-2b7e82316e18",
        "colab": {
          "base_uri": "https://localhost:8080/",
          "height": 296
        }
      },
      "outputs": [
        {
          "output_type": "execute_result",
          "data": {
            "text/plain": [
              "<AxesSubplot:xlabel='overall', ylabel='count'>"
            ]
          },
          "metadata": {},
          "execution_count": 35
        },
        {
          "output_type": "display_data",
          "data": {
            "text/plain": [
              "<Figure size 432x288 with 1 Axes>"
            ],
            "image/png": "[encoded data removed]"
          },
          "metadata": {
            "needs_background": "light"
          }
        }
      ],
      "source": [
        "sns.countplot(x='overall', hue='swn_sentiment' ,data = reviews)"
      ]
    },
    {
      "cell_type": "code",
      "execution_count": 36,
      "metadata": {
        "id": "NNnUXMRCqTsL",
        "outputId": "1b8d1c2d-654f-46ce-ef95-10f7a0fe9219",
        "colab": {
          "base_uri": "https://localhost:8080/",
          "height": 297
        }
      },
      "outputs": [
        {
          "output_type": "execute_result",
          "data": {
            "text/plain": [
              "<AxesSubplot:xlabel='swn_sentiment', ylabel='overall'>"
            ]
          },
          "metadata": {},
          "execution_count": 36
        },
        {
          "output_type": "display_data",
          "data": {
            "text/plain": [
              "<Figure size 432x288 with 1 Axes>"
            ],
            "image/png": "[encoded data removed]"
          },
          "metadata": {
            "needs_background": "light"
          }
        }
      ],
      "source": [
        "sns.boxenplot(x='swn_sentiment', y='overall', data = reviews)"
      ]
    },
    {
      "cell_type": "code",
      "execution_count": 37,
      "metadata": {
        "id": "gDizt0LqqTsM",
        "outputId": "5e763e74-a38d-4fe7-f296-d7d106b4fa98",
        "colab": {
          "base_uri": "https://localhost:8080/",
          "height": 442
        }
      },
      "outputs": [
        {
          "output_type": "display_data",
          "data": {
            "text/plain": [
              "<Figure size 864x504 with 1 Axes>"
            ],
            "image/png": "[encoded data removed]"
          },
          "metadata": {
            "needs_background": "light"
          }
        }
      ],
      "source": [
        "fig, ax = plt.subplots(nrows=1, ncols=1, figsize = (12,7))\n",
        "sns.boxenplot(x='overall', y='swn_score', data = reviews, ax=ax)\n",
        "plt.show()"
      ]
    },
    {
      "cell_type": "code",
      "execution_count": 38,
      "metadata": {
        "id": "8CzT1-C1qTsN"
      },
      "outputs": [],
      "source": [
        "reviews['true_sentiment'] = \\\n",
        "    reviews['overall'].apply(lambda x: \"positive\" if x>=4 else (\"neutral\" if x==3 else \"negative\"))"
      ]
    },
    {
      "cell_type": "code",
      "execution_count": 39,
      "metadata": {
        "id": "TcdnsGjYqTsN"
      },
      "outputs": [],
      "source": [
        "y_swn_pred, y_true = reviews['swn_sentiment'].tolist(), reviews['true_sentiment'].tolist()"
      ]
    },
    {
      "cell_type": "code",
      "execution_count": 40,
      "metadata": {
        "id": "6AYfY5kXqTsO",
        "outputId": "f20a53e4-834e-420d-f27a-a06e10f0f922",
        "colab": {
          "base_uri": "https://localhost:8080/"
        }
      },
      "outputs": [
        {
          "output_type": "execute_result",
          "data": {
            "text/plain": [
              "(4499, 4499)"
            ]
          },
          "metadata": {},
          "execution_count": 40
        }
      ],
      "source": [
        "len(y_swn_pred), len(y_true)"
      ]
    },
    {
      "cell_type": "code",
      "execution_count": 41,
      "metadata": {
        "id": "kU0NUyggqTsO"
      },
      "outputs": [],
      "source": [
        "from sklearn.metrics import confusion_matrix\n",
        "cm = confusion_matrix(y_true, y_swn_pred)"
      ]
    },
    {
      "cell_type": "code",
      "execution_count": 42,
      "metadata": {
        "id": "NoL4F4J7qTsP",
        "outputId": "066fedab-12e8-4f6f-8676-a544c5891ea3",
        "colab": {
          "base_uri": "https://localhost:8080/",
          "height": 388
        }
      },
      "outputs": [
        {
          "output_type": "display_data",
          "data": {
            "text/plain": [
              "<Figure size 576x432 with 2 Axes>"
            ],
            "image/png": "[encoded data removed]"
          },
          "metadata": {
            "needs_background": "light"
          }
        }
      ],
      "source": [
        "fig , ax = plt.subplots(nrows=1, ncols=1, figsize=(8,6))\n",
        "sns.heatmap(cm, cmap='viridis_r', annot=True, fmt='d', square=True, ax=ax)\n",
        "ax.set_xlabel('Predicted')\n",
        "ax.set_ylabel('True');"
      ]
    },
    {
      "cell_type": "markdown",
      "metadata": {
        "id": "GW3xYY-LqTsQ"
      },
      "source": [
        "## Performance Assessment"
      ]
    },
    {
      "cell_type": "markdown",
      "metadata": {
        "id": "2trpzuOiqTsQ"
      },
      "source": [
        "### Negative Sentiment Prediction Assessment"
      ]
    },
    {
      "cell_type": "code",
      "execution_count": 43,
      "metadata": {
        "id": "KrpYMSsqqTsU"
      },
      "outputs": [],
      "source": [
        "tp, tn, fp, fn = 1088, 70+242+142+1310, 265+647, 188+547"
      ]
    },
    {
      "cell_type": "code",
      "execution_count": 44,
      "metadata": {
        "id": "Or-UoLoSqTsU"
      },
      "outputs": [],
      "source": [
        "recall = tp / (tp+fn)\n",
        "specifity = tn / (tn+fp)\n",
        "precision = tp/(tp+fp)\n",
        "f1 = (2*tp) / (2*tp + fp + fn)"
      ]
    },
    {
      "cell_type": "code",
      "execution_count": 45,
      "metadata": {
        "id": "2_D1NMwqqTsV",
        "outputId": "5882e2a1-bb80-4a5c-d23c-ddf9c3a5c326",
        "colab": {
          "base_uri": "https://localhost:8080/"
        }
      },
      "outputs": [
        {
          "output_type": "stream",
          "name": "stdout",
          "text": [
            "recall: 0.5968184311574328\n",
            "precission: 0.544\n",
            "f1 score: 0.5691865027465342\n"
          ]
        }
      ],
      "source": [
        "print(\"recall: {}\\nprecission: {}\\nf1 score: {}\".format(recall, precision, f1))"
      ]
    },
    {
      "cell_type": "markdown",
      "metadata": {
        "id": "m-fk00IwqTsW"
      },
      "source": [
        "### Positive Sentiment Prediction Assessment"
      ]
    },
    {
      "cell_type": "code",
      "execution_count": 46,
      "metadata": {
        "id": "cQYN91EpqTsW"
      },
      "outputs": [],
      "source": [
        "tp, tn, fp, fn = 1310, 1088+265+70+188, 242+647, 142+547"
      ]
    },
    {
      "cell_type": "code",
      "execution_count": 47,
      "metadata": {
        "id": "-v8n_XuOqTsX"
      },
      "outputs": [],
      "source": [
        "recall = tp / (tp+fn)\n",
        "specifity = tn / (tn+fp)\n",
        "precision = tp/(tp+fp)\n",
        "f1 = (2*tp) / (2*tp + fp + fn)"
      ]
    },
    {
      "cell_type": "code",
      "execution_count": 48,
      "metadata": {
        "id": "Ap-sZDIcqTsY",
        "outputId": "19ecacbc-0ec4-4dc5-8a77-079eb1e8f421",
        "colab": {
          "base_uri": "https://localhost:8080/"
        }
      },
      "outputs": [
        {
          "output_type": "stream",
          "name": "stdout",
          "text": [
            "recall: 0.655327663831916\n",
            "precission: 0.5957253296953161\n",
            "f1 score: 0.6241067174845164\n"
          ]
        }
      ],
      "source": [
        "print(\"recall: {}\\nprecission: {}\\nf1 score: {}\".format(recall, precision, f1))"
      ]
    },
    {
      "cell_type": "markdown",
      "metadata": {
        "id": "cvO7S3_KqTsY"
      },
      "source": [
        "## Sentiment Scoring Model Using NLTK Opinion Lexicon"
      ]
    },
    {
      "cell_type": "code",
      "execution_count": 49,
      "metadata": {
        "id": "UoLTIqNsqTsZ"
      },
      "outputs": [],
      "source": [
        "import nltk\n",
        "from nltk.corpus import opinion_lexicon\n",
        "from nltk.tokenize import word_tokenize, sent_tokenize"
      ]
    },
    {
      "cell_type": "code",
      "execution_count": 50,
      "metadata": {
        "id": "GGYrVcYVqTsZ",
        "outputId": "c93cceb0-8cdb-40c5-fa58-b5eb6e109e26",
        "colab": {
          "base_uri": "https://localhost:8080/"
        }
      },
      "outputs": [
        {
          "output_type": "stream",
          "name": "stderr",
          "text": [
            "[nltk_data] Downloading package opinion_lexicon to /root/nltk_data...\n",
            "[nltk_data]   Unzipping corpora/opinion_lexicon.zip.\n"
          ]
        },
        {
          "output_type": "execute_result",
          "data": {
            "text/plain": [
              "True"
            ]
          },
          "metadata": {},
          "execution_count": 50
        }
      ],
      "source": [
        "nltk.download(\"opinion_lexicon\")"
      ]
    },
    {
      "cell_type": "code",
      "execution_count": 51,
      "metadata": {
        "id": "ahmxd4F1qTsa"
      },
      "outputs": [],
      "source": [
        "pos_words = list(opinion_lexicon.positive())\n",
        "neg_words = list(opinion_lexicon.negative())"
      ]
    },
    {
      "cell_type": "code",
      "execution_count": 52,
      "metadata": {
        "id": "9_5-5WP1qTsa"
      },
      "outputs": [],
      "source": [
        "def get_sentiment_score_oplex(text):\n",
        "    \n",
        "    \"\"\"\n",
        "        This method returns the sentiment score of a given text using nltk opinion lexicon.\n",
        "        input: text\n",
        "        output: numeric (double) score, >0 means positive sentiment and <0 means negative sentiment.\n",
        "    \"\"\"    \n",
        "    total_score = 0\n",
        "\n",
        "    raw_sentences = sent_tokenize(text)\n",
        "    \n",
        "    for sentence in raw_sentences:\n",
        "\n",
        "        sent_score = 0     \n",
        "        sentence = str(sentence)\n",
        "        sentence = sentence.replace(\"<br />\",\" \").translate(str.maketrans('','',punctuation)).lower()\n",
        "        tokens = TreebankWordTokenizer().tokenize(text)\n",
        "        for token in tokens:\n",
        "            sent_score = sent_score + 1 if token in pos_words else (sent_score - 1 if token in neg_words else sent_score)\n",
        "        total_score = total_score + (sent_score / len(tokens))\n",
        "\n",
        "    \n",
        "    return total_score"
      ]
    },
    {
      "cell_type": "code",
      "execution_count": 53,
      "metadata": {
        "id": "qfNj2QRkqTsb"
      },
      "outputs": [],
      "source": [
        "reviews['oplex_sentiment_score'] = reviews['reviewText'].apply(lambda x: get_sentiment_score_oplex(x))"
      ]
    },
    {
      "cell_type": "code",
      "execution_count": 54,
      "metadata": {
        "id": "EJhttkAgqTsc",
        "outputId": "9ea61b72-d0d0-47d8-f565-d052e684772a",
        "colab": {
          "base_uri": "https://localhost:8080/",
          "height": 489
        }
      },
      "outputs": [
        {
          "output_type": "display_data",
          "data": {
            "text/plain": [
              "<Figure size 1440x720 with 1 Axes>"
            ],
            "image/png": "[encoded data removed]"
          },
          "metadata": {
            "needs_background": "light"
          }
        }
      ],
      "source": [
        "fig , ax = plt.subplots(nrows=1, ncols=1, figsize=(20,10))\n",
        "sns.histplot(x='oplex_sentiment_score',\\\n",
        "             data=reviews.query(\"oplex_sentiment_score < 1 and oplex_sentiment_score>-1\"), ax=ax)\n",
        "plt.show()"
      ]
    },
    {
      "cell_type": "code",
      "execution_count": 55,
      "metadata": {
        "id": "Jovhc60XqTsc"
      },
      "outputs": [],
      "source": [
        "reviews['oplex_sentiment'] = \\\n",
        "    reviews['oplex_sentiment_score'].apply(lambda x: \"positive\" if x>0.1 else (\"negative\" if x<0 else \"neutral\"))"
      ]
    },
    {
      "cell_type": "code",
      "execution_count": 56,
      "metadata": {
        "id": "TNTP-AS9qTsd",
        "outputId": "b5d29118-ab37-4b5f-b67a-aaf14cd8838d",
        "colab": {
          "base_uri": "https://localhost:8080/"
        }
      },
      "outputs": [
        {
          "output_type": "execute_result",
          "data": {
            "text/plain": [
              "positive    1867\n",
              "neutral     1574\n",
              "negative    1058\n",
              "Name: oplex_sentiment, dtype: int64"
            ]
          },
          "metadata": {},
          "execution_count": 56
        }
      ],
      "source": [
        "reviews['oplex_sentiment'].value_counts(dropna=False)"
      ]
    },
    {
      "cell_type": "code",
      "execution_count": 57,
      "metadata": {
        "id": "CSemRF8IqTsd",
        "outputId": "0bba2ad4-4fdb-4ab3-a86d-10957579da41",
        "colab": {
          "base_uri": "https://localhost:8080/",
          "height": 296
        }
      },
      "outputs": [
        {
          "output_type": "execute_result",
          "data": {
            "text/plain": [
              "<AxesSubplot:xlabel='overall', ylabel='count'>"
            ]
          },
          "metadata": {},
          "execution_count": 57
        },
        {
          "output_type": "display_data",
          "data": {
            "text/plain": [
              "<Figure size 432x288 with 1 Axes>"
            ],
            "image/png": "[encoded data removed]"
          },
          "metadata": {
            "needs_background": "light"
          }
        }
      ],
      "source": [
        "sns.countplot(x='overall', hue='oplex_sentiment' ,data = reviews)"
      ]
    },
    {
      "cell_type": "code",
      "execution_count": 58,
      "metadata": {
        "id": "k0idsyRNqTse",
        "outputId": "7cc93cf5-3070-493e-f825-9d0cee63cfeb",
        "colab": {
          "base_uri": "https://localhost:8080/",
          "height": 297
        }
      },
      "outputs": [
        {
          "output_type": "execute_result",
          "data": {
            "text/plain": [
              "<AxesSubplot:xlabel='oplex_sentiment', ylabel='overall'>"
            ]
          },
          "metadata": {},
          "execution_count": 58
        },
        {
          "output_type": "display_data",
          "data": {
            "text/plain": [
              "<Figure size 432x288 with 1 Axes>"
            ],
            "image/png": "[encoded data removed]"
          },
          "metadata": {
            "needs_background": "light"
          }
        }
      ],
      "source": [
        "sns.boxenplot(x='oplex_sentiment', y='overall', data = reviews)"
      ]
    },
    {
      "cell_type": "code",
      "execution_count": 59,
      "metadata": {
        "id": "rcUd3vtNqTsf",
        "outputId": "72e7173c-abbc-4fa4-81f9-7157de3e74bf",
        "colab": {
          "base_uri": "https://localhost:8080/",
          "height": 442
        }
      },
      "outputs": [
        {
          "output_type": "display_data",
          "data": {
            "text/plain": [
              "<Figure size 864x504 with 1 Axes>"
            ],
            "image/png": "[encoded data removed]"
          },
          "metadata": {
            "needs_background": "light"
          }
        }
      ],
      "source": [
        "fig, ax = plt.subplots(nrows=1, ncols=1, figsize = (12,7))\n",
        "sns.boxenplot(x='overall', y='oplex_sentiment_score', data = reviews, ax=ax)\n",
        "plt.show()"
      ]
    },
    {
      "cell_type": "code",
      "execution_count": 60,
      "metadata": {
        "id": "xqFJwSufqTsf"
      },
      "outputs": [],
      "source": [
        "y_oplex_pred = reviews['oplex_sentiment'].tolist()"
      ]
    },
    {
      "cell_type": "code",
      "execution_count": 61,
      "metadata": {
        "id": "xJ2nsnYUqTsg"
      },
      "outputs": [],
      "source": [
        "oplex_cm = confusion_matrix(y_true, y_oplex_pred)"
      ]
    },
    {
      "cell_type": "code",
      "execution_count": 62,
      "metadata": {
        "id": "sDaZ33dQqTsg",
        "outputId": "fa6a126a-b9c3-4642-d385-7a5e043bfcf9",
        "colab": {
          "base_uri": "https://localhost:8080/",
          "height": 388
        }
      },
      "outputs": [
        {
          "output_type": "display_data",
          "data": {
            "text/plain": [
              "<Figure size 576x432 with 2 Axes>"
            ],
            "image/png": "[encoded data removed]"
          },
          "metadata": {
            "needs_background": "light"
          }
        }
      ],
      "source": [
        "fig , ax = plt.subplots(nrows=1, ncols=1, figsize=(8,6))\n",
        "sns.heatmap(oplex_cm, cmap='viridis_r', annot=True, fmt='d', square=True, ax=ax)\n",
        "ax.set_xlabel('Predicted')\n",
        "ax.set_ylabel('True');"
      ]
    },
    {
      "cell_type": "code",
      "execution_count": 63,
      "metadata": {
        "id": "zDDi2W7DqTsh"
      },
      "outputs": [],
      "source": [
        "oplex_cm = list(oplex_cm.ravel())"
      ]
    },
    {
      "cell_type": "code",
      "execution_count": 64,
      "metadata": {
        "id": "UbBMZL_xqTsi",
        "outputId": "a0de3366-c63c-4148-d0b2-cc1209604c4b",
        "colab": {
          "base_uri": "https://localhost:8080/"
        }
      },
      "outputs": [
        {
          "output_type": "execute_result",
          "data": {
            "text/plain": [
              "[808, 700, 491, 120, 147, 233, 130, 727, 1143]"
            ]
          },
          "metadata": {},
          "execution_count": 64
        }
      ],
      "source": [
        "oplex_cm"
      ]
    },
    {
      "cell_type": "markdown",
      "metadata": {
        "id": "irxaQZ8kqTsi"
      },
      "source": [
        "### Negative Label Assessment"
      ]
    },
    {
      "cell_type": "code",
      "execution_count": 65,
      "metadata": {
        "id": "Ok-8CcKQqTsj"
      },
      "outputs": [],
      "source": [
        "tp, tn, fp, fn = 804, 195+199+686+1181, 106+132, 701+495"
      ]
    },
    {
      "cell_type": "code",
      "execution_count": 66,
      "metadata": {
        "id": "L_uySEWXqTsj",
        "outputId": "9151e763-a9f4-4fe7-8f53-aa85b259c0dc",
        "colab": {
          "base_uri": "https://localhost:8080/"
        }
      },
      "outputs": [
        {
          "output_type": "stream",
          "name": "stdout",
          "text": [
            "recall: 0.402\n",
            "precission: 0.7715930902111324\n",
            "f1 score: 0.5285996055226825\n"
          ]
        }
      ],
      "source": [
        "recall = tp / (tp+fn)\n",
        "specifity = tn / (tn+fp)\n",
        "precision = tp/(tp+fp)\n",
        "f1 = (2*tp) / (2*tp + fp + fn)\n",
        "\n",
        "print(\"recall: {}\\nprecission: {}\\nf1 score: {}\".format(recall, precision, f1))"
      ]
    },
    {
      "cell_type": "markdown",
      "metadata": {
        "id": "qgmJ9ybNqTsm"
      },
      "source": [
        "### Positive Label Assessment"
      ]
    },
    {
      "cell_type": "code",
      "execution_count": 67,
      "metadata": {
        "id": "Nm6-8a4EqTsn"
      },
      "outputs": [],
      "source": [
        "tp, tn, fp, fn = 1181, 804+701+106+195, 495+199, 132+686"
      ]
    },
    {
      "cell_type": "code",
      "execution_count": 69,
      "metadata": {
        "id": "sXXiPveHqTsn",
        "outputId": "0c76eff9-26ce-4d96-b23d-86e0be02605b",
        "colab": {
          "base_uri": "https://localhost:8080/"
        }
      },
      "outputs": [
        {
          "output_type": "stream",
          "name": "stdout",
          "text": [
            "recall: 0.5907953976988495\n",
            "precission: 0.6298666666666667\n",
            "f1 score: 0.6097057305110997\n"
          ]
        }
      ],
      "source": [
        "recall = tp / (tp+fn)\n",
        "specifity = tn / (tn+fp)\n",
        "precision = tp/(tp+fp)\n",
        "f1 = (2*tp) / (2*tp + fp + fn)\n",
        "\n",
        "print(\"recall: {}\\nprecission: {}\\nf1 score: {}\".format(recall, precision, f1))"
      ]
    },
    {
      "cell_type": "code",
      "execution_count": null,
      "metadata": {
        "id": "akLW7023qTso"
      },
      "outputs": [],
      "source": []
    }
  ],
  "metadata": {
    "kernelspec": {
      "display_name": "Python 3 (ipykernel)",
      "language": "python",
      "name": "python3"
    },
    "language_info": {
      "codemirror_mode": {
        "name": "ipython",
        "version": 3
      },
      "file_extension": ".py",
      "mimetype": "text/x-python",
      "name": "python",
      "nbconvert_exporter": "python",
      "pygments_lexer": "ipython3",
      "version": "3.8.10"
    },
    "colab": {
      "provenance": []
    },
    "accelerator": "TPU",
    "gpuClass": "standard"
  },
  "nbformat": 4,
  "nbformat_minor": 0
}