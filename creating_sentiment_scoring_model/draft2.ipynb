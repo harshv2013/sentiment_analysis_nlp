{
  "cells": [
    {
      "cell_type": "markdown",
      "metadata": {
        "id": "view-in-github",
        "colab_type": "text"
      },
      "source": [
        "<a href=\"https://colab.research.google.com/github/harshv2013/sentiment_analysis_nlp/blob/main/creating_sentiment_scoring_model/draft2b.ipynb\" target=\"_parent\"><img src=\"https://colab.research.google.com/assets/colab-badge.svg\" alt=\"Open In Colab\"/></a>"
      ]
    },
    {
      "cell_type": "code",
      "execution_count": 1,
      "metadata": {
        "id": "FPYiajrJ9O5Y"
      },
      "outputs": [],
      "source": [
        "import pandas as pd\n",
        "import nltk\n",
        "from IPython.display import display\n",
        "pd.set_option('display.max_columns', None)"
      ]
    },
    {
      "cell_type": "markdown",
      "metadata": {
        "id": "KOb0WpAl9O5e"
      },
      "source": [
        "### Step 1: Loading in the small_corpus .csv file created in the \"creating_dataset\" milestone."
      ]
    },
    {
      "cell_type": "code",
      "source": [],
      "metadata": {
        "colab": {
          "base_uri": "https://localhost:8080/",
          "height": 35
        },
        "id": "PrAXXdzn9emg",
        "outputId": "cc5c5c06-d606-4a43-e49d-c773b8aae557"
      },
      "execution_count": null,
      "outputs": [
        {
          "output_type": "execute_result",
          "data": {
            "text/plain": [
              "'/content'"
            ],
            "application/vnd.google.colaboratory.intrinsic+json": {
              "type": "string"
            }
          },
          "metadata": {},
          "execution_count": 5
        }
      ]
    },
    {
      "cell_type": "code",
      "execution_count": 2,
      "metadata": {
        "id": "7-JR7WQ5O70X",
        "colab": {
          "base_uri": "https://localhost:8080/"
        },
        "outputId": "1b582dba-0213-4090-9592-937f26e365e1"
      },
      "outputs": [
        {
          "output_type": "stream",
          "name": "stdout",
          "text": [
            "Mounted at /content/drive/\n",
            "/content/drive\n"
          ]
        }
      ],
      "source": [
        "from google.colab import drive\n",
        "drive.mount('/content/drive/')\n",
        "%cd /content/drive/\n"
      ]
    },
    {
      "cell_type": "code",
      "source": [
        "%cd /content/"
      ],
      "metadata": {
        "colab": {
          "base_uri": "https://localhost:8080/"
        },
        "id": "UmqUVw9tBO1K",
        "outputId": "04a37c54-d28b-4170-97fd-0f591455985d"
      },
      "execution_count": null,
      "outputs": [
        {
          "output_type": "stream",
          "name": "stdout",
          "text": [
            "/content\n"
          ]
        }
      ]
    },
    {
      "cell_type": "code",
      "execution_count": 3,
      "metadata": {
        "id": "OnecXIWb9O5h"
      },
      "outputs": [],
      "source": [
        "# undersampled_reviews.to_csv(\"../data/small_corpus.csv\", index=False)\n",
        "reviews = pd.read_csv(\"/content/drive/MyDrive/Colab Notebooks/sentiment_analysis_nlp/Sentiment_Analysis_NLP_for_Marketting/data/small_corpus.csv\")"
      ]
    },
    {
      "cell_type": "code",
      "execution_count": 4,
      "metadata": {
        "id": "eg9040Ci9O5i",
        "outputId": "d64cd069-bbcc-44b4-c0d3-80a1e6e38f72",
        "colab": {
          "base_uri": "https://localhost:8080/",
          "height": 991
        }
      },
      "outputs": [
        {
          "output_type": "execute_result",
          "data": {
            "text/plain": [
              "      overall  verified   reviewTime      reviewerID        asin  \\\n",
              "0         1.0     False  06 16, 2015  A3159IXLXZHW9U  B00D2ZK1IG   \n",
              "1         1.0      True   07 7, 2012  A1TD2E11JK79I8  B005VKRGXI   \n",
              "2         1.0      True   10 5, 2016  A1OMFWV9NZ7NIZ  B005DVAB1E   \n",
              "3         1.0      True  10 17, 2017  A1NBZBNEBU3U3X  B0009350CQ   \n",
              "4         1.0     False  06 19, 2012  A3J8ABVGK7ZL6H  B00002ST7X   \n",
              "...       ...       ...          ...             ...         ...   \n",
              "4495      5.0      True   06 1, 2016  A34WUZN0IGAXIZ  B00CHRNOPW   \n",
              "4496      5.0     False   03 3, 2003   AQI2CW6UKF1ES  B00005BW7Q   \n",
              "4497      5.0      True  10 26, 2016  A1XCGLCKMKP84S  B00GV4V8XC   \n",
              "4498      5.0     False  03 26, 2016   AYVSX8W94ZDDU  B00EDOVNFU   \n",
              "4499      5.0      True   04 7, 2017  A361F6TKS68T28  B0050SYBL6   \n",
              "\n",
              "           reviewerName                                         reviewText  \\\n",
              "0       Andrew Willette  bad controls. I felt like this game was a resi...   \n",
              "1                  M.K.  Update (July 10th 2012) - Condensed my review ...   \n",
              "2     Christian Buehler               Achievement hunters only need apply.   \n",
              "3                  nana                                                 ok   \n",
              "4               Ishmael  Eternal Champions is an awesome game....for Se...   \n",
              "...                 ...                                                ...   \n",
              "4495              Emily                                           Perfect!   \n",
              "4496  Samario C. Oliver  The bosses were hard as... but when I leveld u...   \n",
              "4497     juanvolvoturbo                 Excellent price and fast shipping!   \n",
              "4498    supernintendosp  These go great with the other covers, and prev...   \n",
              "4499     Caitlin Parker  I bought the trilogy twice, once for Playstati...   \n",
              "\n",
              "                                     summary  unixReviewTime  vote  \\\n",
              "0                      Resident Evil rip off      1434412800   NaN   \n",
              "1               Advertised but not delivered      1341619200   4.0   \n",
              "2                                   One Star      1475625600   NaN   \n",
              "3                                   One Star      1508198400   NaN   \n",
              "4       Sega CD version blows this one away!      1340064000   NaN   \n",
              "...                                      ...             ...   ...   \n",
              "4495                              Five Stars      1464739200   NaN   \n",
              "4496                 Yes, I finally beat it!      1046649600   NaN   \n",
              "4497                              Five Stars      1477440000   NaN   \n",
              "4498  Global Game Gear is super trustworthy!      1458950400   NaN   \n",
              "4499                    Tragically Beautiful      1491523200   6.0   \n",
              "\n",
              "                                                  style image  \n",
              "0                            {'Format:': ' Video Game'}   NaN  \n",
              "1                       {'Platform:': ' PlayStation 3'}   NaN  \n",
              "2                            {'Platform:': ' Xbox 360'}   NaN  \n",
              "3                            {'Format:': ' Video Game'}   NaN  \n",
              "4                                                   NaN   NaN  \n",
              "...                                                 ...   ...  \n",
              "4495                                                NaN   NaN  \n",
              "4496                                                NaN   NaN  \n",
              "4497  {'Edition:': ' Standard', 'Platform:': ' Ninte...   NaN  \n",
              "4498                                                NaN   NaN  \n",
              "4499                         {'Format:': ' Video Game'}   NaN  \n",
              "\n",
              "[4500 rows x 12 columns]"
            ],
            "text/html": [
              "\n",
              "  <div id=\"df-1e2c5de1-d000-42e2-9a48-916b2ad7160c\">\n",
              "    <div class=\"colab-df-container\">\n",
              "      <div>\n",
              "<style scoped>\n",
              "    .dataframe tbody tr th:only-of-type {\n",
              "        vertical-align: middle;\n",
              "    }\n",
              "\n",
              "    .dataframe tbody tr th {\n",
              "        vertical-align: top;\n",
              "    }\n",
              "\n",
              "    .dataframe thead th {\n",
              "        text-align: right;\n",
              "    }\n",
              "</style>\n",
              "<table border=\"1\" class=\"dataframe\">\n",
              "  <thead>\n",
              "    <tr style=\"text-align: right;\">\n",
              "      <th></th>\n",
              "      <th>overall</th>\n",
              "      <th>verified</th>\n",
              "      <th>reviewTime</th>\n",
              "      <th>reviewerID</th>\n",
              "      <th>asin</th>\n",
              "      <th>reviewerName</th>\n",
              "      <th>reviewText</th>\n",
              "      <th>summary</th>\n",
              "      <th>unixReviewTime</th>\n",
              "      <th>vote</th>\n",
              "      <th>style</th>\n",
              "      <th>image</th>\n",
              "    </tr>\n",
              "  </thead>\n",
              "  <tbody>\n",
              "    <tr>\n",
              "      <th>0</th>\n",
              "      <td>1.0</td>\n",
              "      <td>False</td>\n",
              "      <td>06 16, 2015</td>\n",
              "      <td>A3159IXLXZHW9U</td>\n",
              "      <td>B00D2ZK1IG</td>\n",
              "      <td>Andrew Willette</td>\n",
              "      <td>bad controls. I felt like this game was a resi...</td>\n",
              "      <td>Resident Evil rip off</td>\n",
              "      <td>1434412800</td>\n",
              "      <td>NaN</td>\n",
              "      <td>{'Format:': ' Video Game'}</td>\n",
              "      <td>NaN</td>\n",
              "    </tr>\n",
              "    <tr>\n",
              "      <th>1</th>\n",
              "      <td>1.0</td>\n",
              "      <td>True</td>\n",
              "      <td>07 7, 2012</td>\n",
              "      <td>A1TD2E11JK79I8</td>\n",
              "      <td>B005VKRGXI</td>\n",
              "      <td>M.K.</td>\n",
              "      <td>Update (July 10th 2012) - Condensed my review ...</td>\n",
              "      <td>Advertised but not delivered</td>\n",
              "      <td>1341619200</td>\n",
              "      <td>4.0</td>\n",
              "      <td>{'Platform:': ' PlayStation 3'}</td>\n",
              "      <td>NaN</td>\n",
              "    </tr>\n",
              "    <tr>\n",
              "      <th>2</th>\n",
              "      <td>1.0</td>\n",
              "      <td>True</td>\n",
              "      <td>10 5, 2016</td>\n",
              "      <td>A1OMFWV9NZ7NIZ</td>\n",
              "      <td>B005DVAB1E</td>\n",
              "      <td>Christian Buehler</td>\n",
              "      <td>Achievement hunters only need apply.</td>\n",
              "      <td>One Star</td>\n",
              "      <td>1475625600</td>\n",
              "      <td>NaN</td>\n",
              "      <td>{'Platform:': ' Xbox 360'}</td>\n",
              "      <td>NaN</td>\n",
              "    </tr>\n",
              "    <tr>\n",
              "      <th>3</th>\n",
              "      <td>1.0</td>\n",
              "      <td>True</td>\n",
              "      <td>10 17, 2017</td>\n",
              "      <td>A1NBZBNEBU3U3X</td>\n",
              "      <td>B0009350CQ</td>\n",
              "      <td>nana</td>\n",
              "      <td>ok</td>\n",
              "      <td>One Star</td>\n",
              "      <td>1508198400</td>\n",
              "      <td>NaN</td>\n",
              "      <td>{'Format:': ' Video Game'}</td>\n",
              "      <td>NaN</td>\n",
              "    </tr>\n",
              "    <tr>\n",
              "      <th>4</th>\n",
              "      <td>1.0</td>\n",
              "      <td>False</td>\n",
              "      <td>06 19, 2012</td>\n",
              "      <td>A3J8ABVGK7ZL6H</td>\n",
              "      <td>B00002ST7X</td>\n",
              "      <td>Ishmael</td>\n",
              "      <td>Eternal Champions is an awesome game....for Se...</td>\n",
              "      <td>Sega CD version blows this one away!</td>\n",
              "      <td>1340064000</td>\n",
              "      <td>NaN</td>\n",
              "      <td>NaN</td>\n",
              "      <td>NaN</td>\n",
              "    </tr>\n",
              "    <tr>\n",
              "      <th>...</th>\n",
              "      <td>...</td>\n",
              "      <td>...</td>\n",
              "      <td>...</td>\n",
              "      <td>...</td>\n",
              "      <td>...</td>\n",
              "      <td>...</td>\n",
              "      <td>...</td>\n",
              "      <td>...</td>\n",
              "      <td>...</td>\n",
              "      <td>...</td>\n",
              "      <td>...</td>\n",
              "      <td>...</td>\n",
              "    </tr>\n",
              "    <tr>\n",
              "      <th>4495</th>\n",
              "      <td>5.0</td>\n",
              "      <td>True</td>\n",
              "      <td>06 1, 2016</td>\n",
              "      <td>A34WUZN0IGAXIZ</td>\n",
              "      <td>B00CHRNOPW</td>\n",
              "      <td>Emily</td>\n",
              "      <td>Perfect!</td>\n",
              "      <td>Five Stars</td>\n",
              "      <td>1464739200</td>\n",
              "      <td>NaN</td>\n",
              "      <td>NaN</td>\n",
              "      <td>NaN</td>\n",
              "    </tr>\n",
              "    <tr>\n",
              "      <th>4496</th>\n",
              "      <td>5.0</td>\n",
              "      <td>False</td>\n",
              "      <td>03 3, 2003</td>\n",
              "      <td>AQI2CW6UKF1ES</td>\n",
              "      <td>B00005BW7Q</td>\n",
              "      <td>Samario C. Oliver</td>\n",
              "      <td>The bosses were hard as... but when I leveld u...</td>\n",
              "      <td>Yes, I finally beat it!</td>\n",
              "      <td>1046649600</td>\n",
              "      <td>NaN</td>\n",
              "      <td>NaN</td>\n",
              "      <td>NaN</td>\n",
              "    </tr>\n",
              "    <tr>\n",
              "      <th>4497</th>\n",
              "      <td>5.0</td>\n",
              "      <td>True</td>\n",
              "      <td>10 26, 2016</td>\n",
              "      <td>A1XCGLCKMKP84S</td>\n",
              "      <td>B00GV4V8XC</td>\n",
              "      <td>juanvolvoturbo</td>\n",
              "      <td>Excellent price and fast shipping!</td>\n",
              "      <td>Five Stars</td>\n",
              "      <td>1477440000</td>\n",
              "      <td>NaN</td>\n",
              "      <td>{'Edition:': ' Standard', 'Platform:': ' Ninte...</td>\n",
              "      <td>NaN</td>\n",
              "    </tr>\n",
              "    <tr>\n",
              "      <th>4498</th>\n",
              "      <td>5.0</td>\n",
              "      <td>False</td>\n",
              "      <td>03 26, 2016</td>\n",
              "      <td>AYVSX8W94ZDDU</td>\n",
              "      <td>B00EDOVNFU</td>\n",
              "      <td>supernintendosp</td>\n",
              "      <td>These go great with the other covers, and prev...</td>\n",
              "      <td>Global Game Gear is super trustworthy!</td>\n",
              "      <td>1458950400</td>\n",
              "      <td>NaN</td>\n",
              "      <td>NaN</td>\n",
              "      <td>NaN</td>\n",
              "    </tr>\n",
              "    <tr>\n",
              "      <th>4499</th>\n",
              "      <td>5.0</td>\n",
              "      <td>True</td>\n",
              "      <td>04 7, 2017</td>\n",
              "      <td>A361F6TKS68T28</td>\n",
              "      <td>B0050SYBL6</td>\n",
              "      <td>Caitlin Parker</td>\n",
              "      <td>I bought the trilogy twice, once for Playstati...</td>\n",
              "      <td>Tragically Beautiful</td>\n",
              "      <td>1491523200</td>\n",
              "      <td>6.0</td>\n",
              "      <td>{'Format:': ' Video Game'}</td>\n",
              "      <td>NaN</td>\n",
              "    </tr>\n",
              "  </tbody>\n",
              "</table>\n",
              "<p>4500 rows × 12 columns</p>\n",
              "</div>\n",
              "      <button class=\"colab-df-convert\" onclick=\"convertToInteractive('df-1e2c5de1-d000-42e2-9a48-916b2ad7160c')\"\n",
              "              title=\"Convert this dataframe to an interactive table.\"\n",
              "              style=\"display:none;\">\n",
              "        \n",
              "  <svg xmlns=\"http://www.w3.org/2000/svg\" height=\"24px\"viewBox=\"0 0 24 24\"\n",
              "       width=\"24px\">\n",
              "    <path d=\"M0 0h24v24H0V0z\" fill=\"none\"/>\n",
              "    <path d=\"M18.56 5.44l.94 2.06.94-2.06 2.06-.94-2.06-.94-.94-2.06-.94 2.06-2.06.94zm-11 1L8.5 8.5l.94-2.06 2.06-.94-2.06-.94L8.5 2.5l-.94 2.06-2.06.94zm10 10l.94 2.06.94-2.06 2.06-.94-2.06-.94-.94-2.06-.94 2.06-2.06.94z\"/><path d=\"M17.41 7.96l-1.37-1.37c-.4-.4-.92-.59-1.43-.59-.52 0-1.04.2-1.43.59L10.3 9.45l-7.72 7.72c-.78.78-.78 2.05 0 2.83L4 21.41c.39.39.9.59 1.41.59.51 0 1.02-.2 1.41-.59l7.78-7.78 2.81-2.81c.8-.78.8-2.07 0-2.86zM5.41 20L4 18.59l7.72-7.72 1.47 1.35L5.41 20z\"/>\n",
              "  </svg>\n",
              "      </button>\n",
              "      \n",
              "  <style>\n",
              "    .colab-df-container {\n",
              "      display:flex;\n",
              "      flex-wrap:wrap;\n",
              "      gap: 12px;\n",
              "    }\n",
              "\n",
              "    .colab-df-convert {\n",
              "      background-color: #E8F0FE;\n",
              "      border: none;\n",
              "      border-radius: 50%;\n",
              "      cursor: pointer;\n",
              "      display: none;\n",
              "      fill: #1967D2;\n",
              "      height: 32px;\n",
              "      padding: 0 0 0 0;\n",
              "      width: 32px;\n",
              "    }\n",
              "\n",
              "    .colab-df-convert:hover {\n",
              "      background-color: #E2EBFA;\n",
              "      box-shadow: 0px 1px 2px rgba(60, 64, 67, 0.3), 0px 1px 3px 1px rgba(60, 64, 67, 0.15);\n",
              "      fill: #174EA6;\n",
              "    }\n",
              "\n",
              "    [theme=dark] .colab-df-convert {\n",
              "      background-color: #3B4455;\n",
              "      fill: #D2E3FC;\n",
              "    }\n",
              "\n",
              "    [theme=dark] .colab-df-convert:hover {\n",
              "      background-color: #434B5C;\n",
              "      box-shadow: 0px 1px 3px 1px rgba(0, 0, 0, 0.15);\n",
              "      filter: drop-shadow(0px 1px 2px rgba(0, 0, 0, 0.3));\n",
              "      fill: #FFFFFF;\n",
              "    }\n",
              "  </style>\n",
              "\n",
              "      <script>\n",
              "        const buttonEl =\n",
              "          document.querySelector('#df-1e2c5de1-d000-42e2-9a48-916b2ad7160c button.colab-df-convert');\n",
              "        buttonEl.style.display =\n",
              "          google.colab.kernel.accessAllowed ? 'block' : 'none';\n",
              "\n",
              "        async function convertToInteractive(key) {\n",
              "          const element = document.querySelector('#df-1e2c5de1-d000-42e2-9a48-916b2ad7160c');\n",
              "          const dataTable =\n",
              "            await google.colab.kernel.invokeFunction('convertToInteractive',\n",
              "                                                     [key], {});\n",
              "          if (!dataTable) return;\n",
              "\n",
              "          const docLinkHtml = 'Like what you see? Visit the ' +\n",
              "            '<a target=\"_blank\" href=https://colab.research.google.com/notebooks/data_table.ipynb>data table notebook</a>'\n",
              "            + ' to learn more about interactive tables.';\n",
              "          element.innerHTML = '';\n",
              "          dataTable['output_type'] = 'display_data';\n",
              "          await google.colab.output.renderOutput(dataTable, element);\n",
              "          const docLink = document.createElement('div');\n",
              "          docLink.innerHTML = docLinkHtml;\n",
              "          element.appendChild(docLink);\n",
              "        }\n",
              "      </script>\n",
              "    </div>\n",
              "  </div>\n",
              "  "
            ]
          },
          "metadata": {},
          "execution_count": 4
        }
      ],
      "source": [
        "reviews"
      ]
    },
    {
      "cell_type": "code",
      "execution_count": null,
      "metadata": {
        "id": "FPtAq_Hr9O5l",
        "outputId": "e6d83f9a-90f9-4269-c58d-7a057f18a264",
        "colab": {
          "base_uri": "https://localhost:8080/",
          "height": 1470
        }
      },
      "outputs": [
        {
          "output_type": "execute_result",
          "data": {
            "text/plain": [
              "   overall  verified   reviewTime      reviewerID        asin  \\\n",
              "0      1.0     False  06 16, 2015  A3159IXLXZHW9U  B00D2ZK1IG   \n",
              "1      1.0      True   07 7, 2012  A1TD2E11JK79I8  B005VKRGXI   \n",
              "2      1.0      True   10 5, 2016  A1OMFWV9NZ7NIZ  B005DVAB1E   \n",
              "3      1.0      True  10 17, 2017  A1NBZBNEBU3U3X  B0009350CQ   \n",
              "4      1.0     False  06 19, 2012  A3J8ABVGK7ZL6H  B00002ST7X   \n",
              "\n",
              "        reviewerName                                         reviewText  \\\n",
              "0    Andrew Willette  bad controls. I felt like this game was a resi...   \n",
              "1               M.K.  Update (July 10th 2012) - Condensed my review ...   \n",
              "2  Christian Buehler               Achievement hunters only need apply.   \n",
              "3               nana                                                 ok   \n",
              "4            Ishmael  Eternal Champions is an awesome game....for Se...   \n",
              "\n",
              "                                summary  unixReviewTime  vote  \\\n",
              "0                 Resident Evil rip off      1434412800   NaN   \n",
              "1          Advertised but not delivered      1341619200   4.0   \n",
              "2                              One Star      1475625600   NaN   \n",
              "3                              One Star      1508198400   NaN   \n",
              "4  Sega CD version blows this one away!      1340064000   NaN   \n",
              "\n",
              "                             style image  \n",
              "0       {'Format:': ' Video Game'}   NaN  \n",
              "1  {'Platform:': ' PlayStation 3'}   NaN  \n",
              "2       {'Platform:': ' Xbox 360'}   NaN  \n",
              "3       {'Format:': ' Video Game'}   NaN  \n",
              "4                              NaN   NaN  "
            ],
            "text/html": [
              "\n",
              "  <div id=\"df-99e977b1-1df7-458c-a096-48b4adfee008\">\n",
              "    <div class=\"colab-df-container\">\n",
              "      <div>\n",
              "<style scoped>\n",
              "    .dataframe tbody tr th:only-of-type {\n",
              "        vertical-align: middle;\n",
              "    }\n",
              "\n",
              "    .dataframe tbody tr th {\n",
              "        vertical-align: top;\n",
              "    }\n",
              "\n",
              "    .dataframe thead th {\n",
              "        text-align: right;\n",
              "    }\n",
              "</style>\n",
              "<table border=\"1\" class=\"dataframe\">\n",
              "  <thead>\n",
              "    <tr style=\"text-align: right;\">\n",
              "      <th></th>\n",
              "      <th>overall</th>\n",
              "      <th>verified</th>\n",
              "      <th>reviewTime</th>\n",
              "      <th>reviewerID</th>\n",
              "      <th>asin</th>\n",
              "      <th>reviewerName</th>\n",
              "      <th>reviewText</th>\n",
              "      <th>summary</th>\n",
              "      <th>unixReviewTime</th>\n",
              "      <th>vote</th>\n",
              "      <th>style</th>\n",
              "      <th>image</th>\n",
              "    </tr>\n",
              "  </thead>\n",
              "  <tbody>\n",
              "    <tr>\n",
              "      <th>0</th>\n",
              "      <td>1.0</td>\n",
              "      <td>False</td>\n",
              "      <td>06 16, 2015</td>\n",
              "      <td>A3159IXLXZHW9U</td>\n",
              "      <td>B00D2ZK1IG</td>\n",
              "      <td>Andrew Willette</td>\n",
              "      <td>bad controls. I felt like this game was a resi...</td>\n",
              "      <td>Resident Evil rip off</td>\n",
              "      <td>1434412800</td>\n",
              "      <td>NaN</td>\n",
              "      <td>{'Format:': ' Video Game'}</td>\n",
              "      <td>NaN</td>\n",
              "    </tr>\n",
              "    <tr>\n",
              "      <th>1</th>\n",
              "      <td>1.0</td>\n",
              "      <td>True</td>\n",
              "      <td>07 7, 2012</td>\n",
              "      <td>A1TD2E11JK79I8</td>\n",
              "      <td>B005VKRGXI</td>\n",
              "      <td>M.K.</td>\n",
              "      <td>Update (July 10th 2012) - Condensed my review ...</td>\n",
              "      <td>Advertised but not delivered</td>\n",
              "      <td>1341619200</td>\n",
              "      <td>4.0</td>\n",
              "      <td>{'Platform:': ' PlayStation 3'}</td>\n",
              "      <td>NaN</td>\n",
              "    </tr>\n",
              "    <tr>\n",
              "      <th>2</th>\n",
              "      <td>1.0</td>\n",
              "      <td>True</td>\n",
              "      <td>10 5, 2016</td>\n",
              "      <td>A1OMFWV9NZ7NIZ</td>\n",
              "      <td>B005DVAB1E</td>\n",
              "      <td>Christian Buehler</td>\n",
              "      <td>Achievement hunters only need apply.</td>\n",
              "      <td>One Star</td>\n",
              "      <td>1475625600</td>\n",
              "      <td>NaN</td>\n",
              "      <td>{'Platform:': ' Xbox 360'}</td>\n",
              "      <td>NaN</td>\n",
              "    </tr>\n",
              "    <tr>\n",
              "      <th>3</th>\n",
              "      <td>1.0</td>\n",
              "      <td>True</td>\n",
              "      <td>10 17, 2017</td>\n",
              "      <td>A1NBZBNEBU3U3X</td>\n",
              "      <td>B0009350CQ</td>\n",
              "      <td>nana</td>\n",
              "      <td>ok</td>\n",
              "      <td>One Star</td>\n",
              "      <td>1508198400</td>\n",
              "      <td>NaN</td>\n",
              "      <td>{'Format:': ' Video Game'}</td>\n",
              "      <td>NaN</td>\n",
              "    </tr>\n",
              "    <tr>\n",
              "      <th>4</th>\n",
              "      <td>1.0</td>\n",
              "      <td>False</td>\n",
              "      <td>06 19, 2012</td>\n",
              "      <td>A3J8ABVGK7ZL6H</td>\n",
              "      <td>B00002ST7X</td>\n",
              "      <td>Ishmael</td>\n",
              "      <td>Eternal Champions is an awesome game....for Se...</td>\n",
              "      <td>Sega CD version blows this one away!</td>\n",
              "      <td>1340064000</td>\n",
              "      <td>NaN</td>\n",
              "      <td>NaN</td>\n",
              "      <td>NaN</td>\n",
              "    </tr>\n",
              "  </tbody>\n",
              "</table>\n",
              "</div>\n",
              "      <button class=\"colab-df-convert\" onclick=\"convertToInteractive('df-99e977b1-1df7-458c-a096-48b4adfee008')\"\n",
              "              title=\"Convert this dataframe to an interactive table.\"\n",
              "              style=\"display:none;\">\n",
              "        \n",
              "  <svg xmlns=\"http://www.w3.org/2000/svg\" height=\"24px\"viewBox=\"0 0 24 24\"\n",
              "       width=\"24px\">\n",
              "    <path d=\"M0 0h24v24H0V0z\" fill=\"none\"/>\n",
              "    <path d=\"M18.56 5.44l.94 2.06.94-2.06 2.06-.94-2.06-.94-.94-2.06-.94 2.06-2.06.94zm-11 1L8.5 8.5l.94-2.06 2.06-.94-2.06-.94L8.5 2.5l-.94 2.06-2.06.94zm10 10l.94 2.06.94-2.06 2.06-.94-2.06-.94-.94-2.06-.94 2.06-2.06.94z\"/><path d=\"M17.41 7.96l-1.37-1.37c-.4-.4-.92-.59-1.43-.59-.52 0-1.04.2-1.43.59L10.3 9.45l-7.72 7.72c-.78.78-.78 2.05 0 2.83L4 21.41c.39.39.9.59 1.41.59.51 0 1.02-.2 1.41-.59l7.78-7.78 2.81-2.81c.8-.78.8-2.07 0-2.86zM5.41 20L4 18.59l7.72-7.72 1.47 1.35L5.41 20z\"/>\n",
              "  </svg>\n",
              "      </button>\n",
              "      \n",
              "  <style>\n",
              "    .colab-df-container {\n",
              "      display:flex;\n",
              "      flex-wrap:wrap;\n",
              "      gap: 12px;\n",
              "    }\n",
              "\n",
              "    .colab-df-convert {\n",
              "      background-color: #E8F0FE;\n",
              "      border: none;\n",
              "      border-radius: 50%;\n",
              "      cursor: pointer;\n",
              "      display: none;\n",
              "      fill: #1967D2;\n",
              "      height: 32px;\n",
              "      padding: 0 0 0 0;\n",
              "      width: 32px;\n",
              "    }\n",
              "\n",
              "    .colab-df-convert:hover {\n",
              "      background-color: #E2EBFA;\n",
              "      box-shadow: 0px 1px 2px rgba(60, 64, 67, 0.3), 0px 1px 3px 1px rgba(60, 64, 67, 0.15);\n",
              "      fill: #174EA6;\n",
              "    }\n",
              "\n",
              "    [theme=dark] .colab-df-convert {\n",
              "      background-color: #3B4455;\n",
              "      fill: #D2E3FC;\n",
              "    }\n",
              "\n",
              "    [theme=dark] .colab-df-convert:hover {\n",
              "      background-color: #434B5C;\n",
              "      box-shadow: 0px 1px 3px 1px rgba(0, 0, 0, 0.15);\n",
              "      filter: drop-shadow(0px 1px 2px rgba(0, 0, 0, 0.3));\n",
              "      fill: #FFFFFF;\n",
              "    }\n",
              "  </style>\n",
              "\n",
              "      <script>\n",
              "        const buttonEl =\n",
              "          document.querySelector('#df-99e977b1-1df7-458c-a096-48b4adfee008 button.colab-df-convert');\n",
              "        buttonEl.style.display =\n",
              "          google.colab.kernel.accessAllowed ? 'block' : 'none';\n",
              "\n",
              "        async function convertToInteractive(key) {\n",
              "          const element = document.querySelector('#df-99e977b1-1df7-458c-a096-48b4adfee008');\n",
              "          const dataTable =\n",
              "            await google.colab.kernel.invokeFunction('convertToInteractive',\n",
              "                                                     [key], {});\n",
              "          if (!dataTable) return;\n",
              "\n",
              "          const docLinkHtml = 'Like what you see? Visit the ' +\n",
              "            '<a target=\"_blank\" href=https://colab.research.google.com/notebooks/data_table.ipynb>data table notebook</a>'\n",
              "            + ' to learn more about interactive tables.';\n",
              "          element.innerHTML = '';\n",
              "          dataTable['output_type'] = 'display_data';\n",
              "          await google.colab.output.renderOutput(dataTable, element);\n",
              "          const docLink = document.createElement('div');\n",
              "          docLink.innerHTML = docLinkHtml;\n",
              "          element.appendChild(docLink);\n",
              "        }\n",
              "      </script>\n",
              "    </div>\n",
              "  </div>\n",
              "  "
            ]
          },
          "metadata": {},
          "execution_count": 5
        }
      ],
      "source": [
        "reviews.head()"
      ]
    },
    {
      "cell_type": "markdown",
      "metadata": {
        "id": "5SAfAvjJ9O5n"
      },
      "source": [
        "### Step 2: Tokenizing the sentences and words of the reviews\n",
        "Here, We're going to test different versions of word tokenizer on reviews. We'll then decide which tokenizer might be better to use."
      ]
    },
    {
      "cell_type": "code",
      "execution_count": 5,
      "metadata": {
        "id": "j7OHbg8g9O5o"
      },
      "outputs": [],
      "source": [
        "from nltk.tokenize import TreebankWordTokenizer\n",
        "from string import punctuation\n",
        "import string"
      ]
    },
    {
      "cell_type": "code",
      "execution_count": 6,
      "metadata": {
        "id": "KsZ-Ugfj9O5o"
      },
      "outputs": [],
      "source": [
        "tb_tokenizer = TreebankWordTokenizer()"
      ]
    },
    {
      "cell_type": "code",
      "execution_count": 7,
      "metadata": {
        "id": "hWhgfyAz9O5p",
        "outputId": "7e736d40-c9cf-49d4-b967-8aa0d6bae94c",
        "colab": {
          "base_uri": "https://localhost:8080/"
        }
      },
      "outputs": [
        {
          "output_type": "execute_result",
          "data": {
            "text/plain": [
              "['Good',\n",
              " 'muffins',\n",
              " 'cost',\n",
              " '$',\n",
              " '3.88',\n",
              " 'in',\n",
              " 'New',\n",
              " 'York.',\n",
              " 'Please',\n",
              " 'buy',\n",
              " 'me',\n",
              " 'two',\n",
              " 'of',\n",
              " 'them.',\n",
              " 'Thanks',\n",
              " '.']"
            ]
          },
          "metadata": {},
          "execution_count": 7
        }
      ],
      "source": [
        "s = '''Good muffins cost $3.88\\nin New York.  Please buy me\\ntwo of them.\\nThanks.'''\n",
        "TreebankWordTokenizer().tokenize(s)"
      ]
    },
    {
      "cell_type": "code",
      "execution_count": 8,
      "metadata": {
        "id": "5M-PGr_g9O5r",
        "outputId": "68146b0d-619a-421a-db60-9a69c868d688",
        "colab": {
          "base_uri": "https://localhost:8080/",
          "height": 35
        }
      },
      "outputs": [
        {
          "output_type": "execute_result",
          "data": {
            "text/plain": [
              "'!\"#$%&\\'()*+,-./:;<=>?@[\\\\]^_`{|}~'"
            ],
            "application/vnd.google.colaboratory.intrinsic+json": {
              "type": "string"
            }
          },
          "metadata": {},
          "execution_count": 8
        }
      ],
      "source": [
        "punctuation"
      ]
    },
    {
      "cell_type": "code",
      "execution_count": 9,
      "metadata": {
        "id": "JhEdqEcQ9O5r"
      },
      "outputs": [],
      "source": [
        "reviews[\"rev_text_lower\"] = reviews['reviewText'].apply(lambda rev: str(rev)\\\n",
        "                                                        .translate(str.maketrans('', '', punctuation))\\\n",
        "                                                        .replace(\"<br />\", \" \")\\\n",
        "                                                        .lower())"
      ]
    },
    {
      "cell_type": "code",
      "execution_count": 10,
      "metadata": {
        "id": "caLMOjhV9O5t",
        "outputId": "ad4fb9a3-46a3-44e7-c187-d5ac540f9f3f",
        "colab": {
          "base_uri": "https://localhost:8080/"
        }
      },
      "outputs": [
        {
          "output_type": "execute_result",
          "data": {
            "text/plain": [
              "0       bad controls i felt like this game was a resid...\n",
              "1       update july 10th 2012  condensed my review to ...\n",
              "2                     achievement hunters only need apply\n",
              "3                                                      ok\n",
              "4       eternal champions is an awesome gamefor sega c...\n",
              "                              ...                        \n",
              "4495                                              perfect\n",
              "4496    the bosses were hard as but when i leveld up b...\n",
              "4497                    excellent price and fast shipping\n",
              "4498    these go great with the other covers and preve...\n",
              "4499    i bought the trilogy twice once for playstatio...\n",
              "Name: rev_text_lower, Length: 4500, dtype: object"
            ]
          },
          "metadata": {},
          "execution_count": 10
        }
      ],
      "source": [
        "reviews[\"rev_text_lower\"]"
      ]
    },
    {
      "cell_type": "code",
      "execution_count": 11,
      "metadata": {
        "id": "nNCKzL3G9O5u",
        "outputId": "d4192734-db19-4552-e1cd-d450f0c1554e",
        "colab": {
          "base_uri": "https://localhost:8080/",
          "height": 112
        }
      },
      "outputs": [
        {
          "output_type": "execute_result",
          "data": {
            "text/plain": [
              "                                             reviewText  \\\n",
              "2397  MEh.  It;s a fun game with excellent productio...   \n",
              "3078                             In a closet somewhwere   \n",
              "\n",
              "                                         rev_text_lower  \n",
              "2397  meh  its a fun game with excellent production ...  \n",
              "3078                             in a closet somewhwere  "
            ],
            "text/html": [
              "\n",
              "  <div id=\"df-f5d83852-781a-4dd9-822d-58ca8e1a981b\">\n",
              "    <div class=\"colab-df-container\">\n",
              "      <div>\n",
              "<style scoped>\n",
              "    .dataframe tbody tr th:only-of-type {\n",
              "        vertical-align: middle;\n",
              "    }\n",
              "\n",
              "    .dataframe tbody tr th {\n",
              "        vertical-align: top;\n",
              "    }\n",
              "\n",
              "    .dataframe thead th {\n",
              "        text-align: right;\n",
              "    }\n",
              "</style>\n",
              "<table border=\"1\" class=\"dataframe\">\n",
              "  <thead>\n",
              "    <tr style=\"text-align: right;\">\n",
              "      <th></th>\n",
              "      <th>reviewText</th>\n",
              "      <th>rev_text_lower</th>\n",
              "    </tr>\n",
              "  </thead>\n",
              "  <tbody>\n",
              "    <tr>\n",
              "      <th>2397</th>\n",
              "      <td>MEh.  It;s a fun game with excellent productio...</td>\n",
              "      <td>meh  its a fun game with excellent production ...</td>\n",
              "    </tr>\n",
              "    <tr>\n",
              "      <th>3078</th>\n",
              "      <td>In a closet somewhwere</td>\n",
              "      <td>in a closet somewhwere</td>\n",
              "    </tr>\n",
              "  </tbody>\n",
              "</table>\n",
              "</div>\n",
              "      <button class=\"colab-df-convert\" onclick=\"convertToInteractive('df-f5d83852-781a-4dd9-822d-58ca8e1a981b')\"\n",
              "              title=\"Convert this dataframe to an interactive table.\"\n",
              "              style=\"display:none;\">\n",
              "        \n",
              "  <svg xmlns=\"http://www.w3.org/2000/svg\" height=\"24px\"viewBox=\"0 0 24 24\"\n",
              "       width=\"24px\">\n",
              "    <path d=\"M0 0h24v24H0V0z\" fill=\"none\"/>\n",
              "    <path d=\"M18.56 5.44l.94 2.06.94-2.06 2.06-.94-2.06-.94-.94-2.06-.94 2.06-2.06.94zm-11 1L8.5 8.5l.94-2.06 2.06-.94-2.06-.94L8.5 2.5l-.94 2.06-2.06.94zm10 10l.94 2.06.94-2.06 2.06-.94-2.06-.94-.94-2.06-.94 2.06-2.06.94z\"/><path d=\"M17.41 7.96l-1.37-1.37c-.4-.4-.92-.59-1.43-.59-.52 0-1.04.2-1.43.59L10.3 9.45l-7.72 7.72c-.78.78-.78 2.05 0 2.83L4 21.41c.39.39.9.59 1.41.59.51 0 1.02-.2 1.41-.59l7.78-7.78 2.81-2.81c.8-.78.8-2.07 0-2.86zM5.41 20L4 18.59l7.72-7.72 1.47 1.35L5.41 20z\"/>\n",
              "  </svg>\n",
              "      </button>\n",
              "      \n",
              "  <style>\n",
              "    .colab-df-container {\n",
              "      display:flex;\n",
              "      flex-wrap:wrap;\n",
              "      gap: 12px;\n",
              "    }\n",
              "\n",
              "    .colab-df-convert {\n",
              "      background-color: #E8F0FE;\n",
              "      border: none;\n",
              "      border-radius: 50%;\n",
              "      cursor: pointer;\n",
              "      display: none;\n",
              "      fill: #1967D2;\n",
              "      height: 32px;\n",
              "      padding: 0 0 0 0;\n",
              "      width: 32px;\n",
              "    }\n",
              "\n",
              "    .colab-df-convert:hover {\n",
              "      background-color: #E2EBFA;\n",
              "      box-shadow: 0px 1px 2px rgba(60, 64, 67, 0.3), 0px 1px 3px 1px rgba(60, 64, 67, 0.15);\n",
              "      fill: #174EA6;\n",
              "    }\n",
              "\n",
              "    [theme=dark] .colab-df-convert {\n",
              "      background-color: #3B4455;\n",
              "      fill: #D2E3FC;\n",
              "    }\n",
              "\n",
              "    [theme=dark] .colab-df-convert:hover {\n",
              "      background-color: #434B5C;\n",
              "      box-shadow: 0px 1px 3px 1px rgba(0, 0, 0, 0.15);\n",
              "      filter: drop-shadow(0px 1px 2px rgba(0, 0, 0, 0.3));\n",
              "      fill: #FFFFFF;\n",
              "    }\n",
              "  </style>\n",
              "\n",
              "      <script>\n",
              "        const buttonEl =\n",
              "          document.querySelector('#df-f5d83852-781a-4dd9-822d-58ca8e1a981b button.colab-df-convert');\n",
              "        buttonEl.style.display =\n",
              "          google.colab.kernel.accessAllowed ? 'block' : 'none';\n",
              "\n",
              "        async function convertToInteractive(key) {\n",
              "          const element = document.querySelector('#df-f5d83852-781a-4dd9-822d-58ca8e1a981b');\n",
              "          const dataTable =\n",
              "            await google.colab.kernel.invokeFunction('convertToInteractive',\n",
              "                                                     [key], {});\n",
              "          if (!dataTable) return;\n",
              "\n",
              "          const docLinkHtml = 'Like what you see? Visit the ' +\n",
              "            '<a target=\"_blank\" href=https://colab.research.google.com/notebooks/data_table.ipynb>data table notebook</a>'\n",
              "            + ' to learn more about interactive tables.';\n",
              "          element.innerHTML = '';\n",
              "          dataTable['output_type'] = 'display_data';\n",
              "          await google.colab.output.renderOutput(dataTable, element);\n",
              "          const docLink = document.createElement('div');\n",
              "          docLink.innerHTML = docLinkHtml;\n",
              "          element.appendChild(docLink);\n",
              "        }\n",
              "      </script>\n",
              "    </div>\n",
              "  </div>\n",
              "  "
            ]
          },
          "metadata": {},
          "execution_count": 11
        }
      ],
      "source": [
        "reviews[['reviewText','rev_text_lower']].sample(2)"
      ]
    },
    {
      "cell_type": "code",
      "execution_count": 12,
      "metadata": {
        "id": "cx3VDYUZ9O5v"
      },
      "outputs": [],
      "source": [
        "reviews[\"tb_tokens\"] = reviews['rev_text_lower'].apply(lambda rev: tb_tokenizer.tokenize(str(rev)))"
      ]
    },
    {
      "cell_type": "code",
      "execution_count": 13,
      "metadata": {
        "id": "k9a7c4NE9O5v"
      },
      "outputs": [],
      "source": [
        "pd.set_option('display.max_colwidth', None)"
      ]
    },
    {
      "cell_type": "code",
      "execution_count": 14,
      "metadata": {
        "id": "EE-KcyAA9O5w",
        "outputId": "da3a90d0-e6f9-4ae8-967b-eca365990aba",
        "colab": {
          "base_uri": "https://localhost:8080/",
          "height": 708
        }
      },
      "outputs": [
        {
          "output_type": "execute_result",
          "data": {
            "text/plain": [
              "                                                                                                                                                                                                                                                                                                                                                                                                                                                                                                                                                                                                                                                                                                                                                                                                                                                                                                                             reviewText  \\\n",
              "1452                                                                                                                                                                                                                                                                                                                                                    I don't really have that much to say besides that this game was a big disappointment.  I get all the new games that come out to play myself and with my 3 boys.  This one was not appropriate for them obviously.  Anyways, the gameplay was linear, the weapons lacking and I just found the overall game not very fun to play.  I have already sold this game back to BestBuy for credit towards a game that was actually fun.  The bright spots in this game were the cut scenes.  I probably didn't give this enough of a chance to play but I have a short attention span.   \n",
              "1183  This game is LAME!!! It should be called Final Fantasy: the Crystal Losers Chronicles.  all the final fantasy fans, expected a big game, and because Square Enix begins again making games for Nintendo, got all of the Final Fantasy Fans excited.  The game is totally lame, has a serious lack of story!!! Seriously!!!!! You get to pick the name of your town, your character, gender, etc, and then, your on your own, you meet other caravans(but nothing big) and you fight monsters,\\n(SPOILERS)\\n\\nand when you fight the Final Boss, you discover that it's all based on memories,\\n\\n(END OF SPOILERS)\\n\\nand the end is a big piece of crap!\\n\\nThe multiplayer version, it's the same, but you can play with your friends, and it's almost impossible to play, cause every player needs a nintendo advance, to play, and to do the spells is very hard!!\\n\\nI just hope that the sequel isn't as lame as this one!!   \n",
              "3128                                                                                                                I purchased a limited edition Zelda 3DS XL which looks great but I was worried about scratching away the paint/design. Other cases either cover the artwork completely or are made of hard plastic which could actually damage the 3DS that it's supposed to protect.\\n\\nThis case is the best of both worlds - it's clear so I can see the awesome design but it's flexible and slightly soft so it doesn't damage the system. The fit on the system is absolutely perfect, it's easy to take on and off and has never gotten loose or warped. I've been using this case for a few months and it still looks brand new (as does my 3DS XL). It doesn't collect fingerprints or dust and it just feels nice to hold. It's smooth but gives a little grip. It's absolutely perfect!! Don't hesitate to get this one.   \n",
              "\n",
              "                                                                                                                                                                                                                                                                                                                                                                                                                                                                                                                                                                                                                                                                     tb_tokens  \n",
              "1452                                    [i, dont, really, have, that, much, to, say, besides, that, this, game, was, a, big, disappointment, i, get, all, the, new, games, that, come, out, to, play, myself, and, with, my, 3, boys, this, one, was, not, appropriate, for, them, obviously, anyways, the, gameplay, was, linear, the, weapons, lacking, and, i, just, found, the, overall, game, not, very, fun, to, play, i, have, already, sold, this, game, back, to, bestbuy, for, credit, towards, a, game, that, was, actually, fun, the, bright, spots, in, this, game, were, the, cut, scenes, i, probably, didnt, give, this, enough, of, a, chance, to, play, ...]  \n",
              "1183  [this, game, is, lame, it, should, be, called, final, fantasy, the, crystal, losers, chronicles, all, the, final, fantasy, fans, expected, a, big, game, and, because, square, enix, begins, again, making, games, for, nintendo, got, all, of, the, final, fantasy, fans, excited, the, game, is, totally, lame, has, a, serious, lack, of, story, seriously, you, get, to, pick, the, name, of, your, town, your, character, gender, etc, and, then, your, on, your, own, you, meet, other, caravansbut, nothing, big, and, you, fight, monsters, spoilers, and, when, you, fight, the, final, boss, you, discover, that, its, all, based, on, memories, end, of, ...]  \n",
              "3128        [i, purchased, a, limited, edition, zelda, 3ds, xl, which, looks, great, but, i, was, worried, about, scratching, away, the, paintdesign, other, cases, either, cover, the, artwork, completely, or, are, made, of, hard, plastic, which, could, actually, damage, the, 3ds, that, its, supposed, to, protect, this, case, is, the, best, of, both, worlds, its, clear, so, i, can, see, the, awesome, design, but, its, flexible, and, slightly, soft, so, it, doesnt, damage, the, system, the, fit, on, the, system, is, absolutely, perfect, its, easy, to, take, on, and, off, and, has, never, gotten, loose, or, warped, ive, been, using, this, case, ...]  "
            ],
            "text/html": [
              "\n",
              "  <div id=\"df-8983bf26-b582-49a5-ac4c-ab26dfed8caa\">\n",
              "    <div class=\"colab-df-container\">\n",
              "      <div>\n",
              "<style scoped>\n",
              "    .dataframe tbody tr th:only-of-type {\n",
              "        vertical-align: middle;\n",
              "    }\n",
              "\n",
              "    .dataframe tbody tr th {\n",
              "        vertical-align: top;\n",
              "    }\n",
              "\n",
              "    .dataframe thead th {\n",
              "        text-align: right;\n",
              "    }\n",
              "</style>\n",
              "<table border=\"1\" class=\"dataframe\">\n",
              "  <thead>\n",
              "    <tr style=\"text-align: right;\">\n",
              "      <th></th>\n",
              "      <th>reviewText</th>\n",
              "      <th>tb_tokens</th>\n",
              "    </tr>\n",
              "  </thead>\n",
              "  <tbody>\n",
              "    <tr>\n",
              "      <th>1452</th>\n",
              "      <td>I don't really have that much to say besides that this game was a big disappointment.  I get all the new games that come out to play myself and with my 3 boys.  This one was not appropriate for them obviously.  Anyways, the gameplay was linear, the weapons lacking and I just found the overall game not very fun to play.  I have already sold this game back to BestBuy for credit towards a game that was actually fun.  The bright spots in this game were the cut scenes.  I probably didn't give this enough of a chance to play but I have a short attention span.</td>\n",
              "      <td>[i, dont, really, have, that, much, to, say, besides, that, this, game, was, a, big, disappointment, i, get, all, the, new, games, that, come, out, to, play, myself, and, with, my, 3, boys, this, one, was, not, appropriate, for, them, obviously, anyways, the, gameplay, was, linear, the, weapons, lacking, and, i, just, found, the, overall, game, not, very, fun, to, play, i, have, already, sold, this, game, back, to, bestbuy, for, credit, towards, a, game, that, was, actually, fun, the, bright, spots, in, this, game, were, the, cut, scenes, i, probably, didnt, give, this, enough, of, a, chance, to, play, ...]</td>\n",
              "    </tr>\n",
              "    <tr>\n",
              "      <th>1183</th>\n",
              "      <td>This game is LAME!!! It should be called Final Fantasy: the Crystal Losers Chronicles.  all the final fantasy fans, expected a big game, and because Square Enix begins again making games for Nintendo, got all of the Final Fantasy Fans excited.  The game is totally lame, has a serious lack of story!!! Seriously!!!!! You get to pick the name of your town, your character, gender, etc, and then, your on your own, you meet other caravans(but nothing big) and you fight monsters,\\n(SPOILERS)\\n\\nand when you fight the Final Boss, you discover that it's all based on memories,\\n\\n(END OF SPOILERS)\\n\\nand the end is a big piece of crap!\\n\\nThe multiplayer version, it's the same, but you can play with your friends, and it's almost impossible to play, cause every player needs a nintendo advance, to play, and to do the spells is very hard!!\\n\\nI just hope that the sequel isn't as lame as this one!!</td>\n",
              "      <td>[this, game, is, lame, it, should, be, called, final, fantasy, the, crystal, losers, chronicles, all, the, final, fantasy, fans, expected, a, big, game, and, because, square, enix, begins, again, making, games, for, nintendo, got, all, of, the, final, fantasy, fans, excited, the, game, is, totally, lame, has, a, serious, lack, of, story, seriously, you, get, to, pick, the, name, of, your, town, your, character, gender, etc, and, then, your, on, your, own, you, meet, other, caravansbut, nothing, big, and, you, fight, monsters, spoilers, and, when, you, fight, the, final, boss, you, discover, that, its, all, based, on, memories, end, of, ...]</td>\n",
              "    </tr>\n",
              "    <tr>\n",
              "      <th>3128</th>\n",
              "      <td>I purchased a limited edition Zelda 3DS XL which looks great but I was worried about scratching away the paint/design. Other cases either cover the artwork completely or are made of hard plastic which could actually damage the 3DS that it's supposed to protect.\\n\\nThis case is the best of both worlds - it's clear so I can see the awesome design but it's flexible and slightly soft so it doesn't damage the system. The fit on the system is absolutely perfect, it's easy to take on and off and has never gotten loose or warped. I've been using this case for a few months and it still looks brand new (as does my 3DS XL). It doesn't collect fingerprints or dust and it just feels nice to hold. It's smooth but gives a little grip. It's absolutely perfect!! Don't hesitate to get this one.</td>\n",
              "      <td>[i, purchased, a, limited, edition, zelda, 3ds, xl, which, looks, great, but, i, was, worried, about, scratching, away, the, paintdesign, other, cases, either, cover, the, artwork, completely, or, are, made, of, hard, plastic, which, could, actually, damage, the, 3ds, that, its, supposed, to, protect, this, case, is, the, best, of, both, worlds, its, clear, so, i, can, see, the, awesome, design, but, its, flexible, and, slightly, soft, so, it, doesnt, damage, the, system, the, fit, on, the, system, is, absolutely, perfect, its, easy, to, take, on, and, off, and, has, never, gotten, loose, or, warped, ive, been, using, this, case, ...]</td>\n",
              "    </tr>\n",
              "  </tbody>\n",
              "</table>\n",
              "</div>\n",
              "      <button class=\"colab-df-convert\" onclick=\"convertToInteractive('df-8983bf26-b582-49a5-ac4c-ab26dfed8caa')\"\n",
              "              title=\"Convert this dataframe to an interactive table.\"\n",
              "              style=\"display:none;\">\n",
              "        \n",
              "  <svg xmlns=\"http://www.w3.org/2000/svg\" height=\"24px\"viewBox=\"0 0 24 24\"\n",
              "       width=\"24px\">\n",
              "    <path d=\"M0 0h24v24H0V0z\" fill=\"none\"/>\n",
              "    <path d=\"M18.56 5.44l.94 2.06.94-2.06 2.06-.94-2.06-.94-.94-2.06-.94 2.06-2.06.94zm-11 1L8.5 8.5l.94-2.06 2.06-.94-2.06-.94L8.5 2.5l-.94 2.06-2.06.94zm10 10l.94 2.06.94-2.06 2.06-.94-2.06-.94-.94-2.06-.94 2.06-2.06.94z\"/><path d=\"M17.41 7.96l-1.37-1.37c-.4-.4-.92-.59-1.43-.59-.52 0-1.04.2-1.43.59L10.3 9.45l-7.72 7.72c-.78.78-.78 2.05 0 2.83L4 21.41c.39.39.9.59 1.41.59.51 0 1.02-.2 1.41-.59l7.78-7.78 2.81-2.81c.8-.78.8-2.07 0-2.86zM5.41 20L4 18.59l7.72-7.72 1.47 1.35L5.41 20z\"/>\n",
              "  </svg>\n",
              "      </button>\n",
              "      \n",
              "  <style>\n",
              "    .colab-df-container {\n",
              "      display:flex;\n",
              "      flex-wrap:wrap;\n",
              "      gap: 12px;\n",
              "    }\n",
              "\n",
              "    .colab-df-convert {\n",
              "      background-color: #E8F0FE;\n",
              "      border: none;\n",
              "      border-radius: 50%;\n",
              "      cursor: pointer;\n",
              "      display: none;\n",
              "      fill: #1967D2;\n",
              "      height: 32px;\n",
              "      padding: 0 0 0 0;\n",
              "      width: 32px;\n",
              "    }\n",
              "\n",
              "    .colab-df-convert:hover {\n",
              "      background-color: #E2EBFA;\n",
              "      box-shadow: 0px 1px 2px rgba(60, 64, 67, 0.3), 0px 1px 3px 1px rgba(60, 64, 67, 0.15);\n",
              "      fill: #174EA6;\n",
              "    }\n",
              "\n",
              "    [theme=dark] .colab-df-convert {\n",
              "      background-color: #3B4455;\n",
              "      fill: #D2E3FC;\n",
              "    }\n",
              "\n",
              "    [theme=dark] .colab-df-convert:hover {\n",
              "      background-color: #434B5C;\n",
              "      box-shadow: 0px 1px 3px 1px rgba(0, 0, 0, 0.15);\n",
              "      filter: drop-shadow(0px 1px 2px rgba(0, 0, 0, 0.3));\n",
              "      fill: #FFFFFF;\n",
              "    }\n",
              "  </style>\n",
              "\n",
              "      <script>\n",
              "        const buttonEl =\n",
              "          document.querySelector('#df-8983bf26-b582-49a5-ac4c-ab26dfed8caa button.colab-df-convert');\n",
              "        buttonEl.style.display =\n",
              "          google.colab.kernel.accessAllowed ? 'block' : 'none';\n",
              "\n",
              "        async function convertToInteractive(key) {\n",
              "          const element = document.querySelector('#df-8983bf26-b582-49a5-ac4c-ab26dfed8caa');\n",
              "          const dataTable =\n",
              "            await google.colab.kernel.invokeFunction('convertToInteractive',\n",
              "                                                     [key], {});\n",
              "          if (!dataTable) return;\n",
              "\n",
              "          const docLinkHtml = 'Like what you see? Visit the ' +\n",
              "            '<a target=\"_blank\" href=https://colab.research.google.com/notebooks/data_table.ipynb>data table notebook</a>'\n",
              "            + ' to learn more about interactive tables.';\n",
              "          element.innerHTML = '';\n",
              "          dataTable['output_type'] = 'display_data';\n",
              "          await google.colab.output.renderOutput(dataTable, element);\n",
              "          const docLink = document.createElement('div');\n",
              "          docLink.innerHTML = docLinkHtml;\n",
              "          element.appendChild(docLink);\n",
              "        }\n",
              "      </script>\n",
              "    </div>\n",
              "  </div>\n",
              "  "
            ]
          },
          "metadata": {},
          "execution_count": 14
        }
      ],
      "source": [
        "reviews[['reviewText','tb_tokens']].sample(3)"
      ]
    },
    {
      "cell_type": "markdown",
      "metadata": {
        "id": "bk7Mo2gN9O5x"
      },
      "source": [
        "### Casual Tokenizer"
      ]
    },
    {
      "cell_type": "code",
      "execution_count": 18,
      "metadata": {
        "id": "nvRB50xi9O5y"
      },
      "outputs": [],
      "source": [
        "from nltk.tokenize.casual import casual_tokenize"
      ]
    },
    {
      "cell_type": "code",
      "execution_count": 19,
      "metadata": {
        "id": "fIIjOxFI9O5y"
      },
      "outputs": [],
      "source": [
        "reviews['casual_tokens'] = reviews['rev_text_lower'].apply(lambda rev: casual_tokenize(str(rev)))"
      ]
    },
    {
      "cell_type": "code",
      "execution_count": 20,
      "metadata": {
        "id": "Fbj5agrf9O5z",
        "outputId": "b3277649-34ba-4b7f-a392-672d72f0ee3a",
        "colab": {
          "base_uri": "https://localhost:8080/",
          "height": 483
        }
      },
      "outputs": [
        {
          "output_type": "execute_result",
          "data": {
            "text/plain": [
              "                                                                                                                                                                                                                                                                                                                                                                                                                                                                            reviewText  \\\n",
              "443   no mercy has got to be the worst wwf game i have ever played. for one thing no mercy does not have special entrances like wrestlemania 2000 does. in no mercy  the titantron does not play when you make your entrance. also in no mercy every tag team comes out seperately and you have to buy everything from the smackdown mall and where's the fun in that? also the box says up to 10 backstage areas and there are only six. in conclusion smackdown 2 is the better buy.   \n",
              "1041                                                                                                                                                                                                     It's ten dollars and not much else to say they hurt your ears  after 20 mins and most the time it cuts me off and my firmed can't hear me you get what you pay for and I'd recommend a different mic also this sh*t took almost 2 weeks to get here will never buy from again   \n",
              "3838                                                                                                                                                                                                                                                                                                                                                                                                             This game is amazing I'm 15 hours in and so far it has been addicting   \n",
              "\n",
              "                                                                                                                                                                                                                                                                                                                                                                                                                                                                                                                                                           casual_tokens  \\\n",
              "443   [no, mercy, has, got, to, be, the, worst, wwf, game, i, have, ever, played, for, one, thing, no, mercy, does, not, have, special, entrances, like, wrestlemania, 2000, does, in, no, mercy, the, titantron, does, not, play, when, you, make, your, entrance, also, in, no, mercy, every, tag, team, comes, out, seperately, and, you, have, to, buy, everything, from, the, smackdown, mall, and, wheres, the, fun, in, that, also, the, box, says, up, to, 10, backstage, areas, and, there, are, only, six, in, conclusion, smackdown, 2, is, the, better, buy]   \n",
              "1041                                                                                                                                                                                                                                  [its, ten, dollars, and, not, much, else, to, say, they, hurt, your, ears, after, 20, mins, and, most, the, time, it, cuts, me, off, and, my, firmed, cant, hear, me, you, get, what, you, pay, for, and, id, recommend, a, different, mic, also, this, sht, took, almost, 2, weeks, to, get, here, will, never, buy, from, again]   \n",
              "3838                                                                                                                                                                                                                                                                                                                                                                                                                                                                                [this, game, is, amazing, im, 15, hours, in, and, so, far, it, has, been, addicting]   \n",
              "\n",
              "                                                                                                                                                                                                                                                                                                                                                                                                                                                                                                                                                               tb_tokens  \n",
              "443   [no, mercy, has, got, to, be, the, worst, wwf, game, i, have, ever, played, for, one, thing, no, mercy, does, not, have, special, entrances, like, wrestlemania, 2000, does, in, no, mercy, the, titantron, does, not, play, when, you, make, your, entrance, also, in, no, mercy, every, tag, team, comes, out, seperately, and, you, have, to, buy, everything, from, the, smackdown, mall, and, wheres, the, fun, in, that, also, the, box, says, up, to, 10, backstage, areas, and, there, are, only, six, in, conclusion, smackdown, 2, is, the, better, buy]  \n",
              "1041                                                                                                                                                                                                                                  [its, ten, dollars, and, not, much, else, to, say, they, hurt, your, ears, after, 20, mins, and, most, the, time, it, cuts, me, off, and, my, firmed, cant, hear, me, you, get, what, you, pay, for, and, id, recommend, a, different, mic, also, this, sht, took, almost, 2, weeks, to, get, here, will, never, buy, from, again]  \n",
              "3838                                                                                                                                                                                                                                                                                                                                                                                                                                                                                [this, game, is, amazing, im, 15, hours, in, and, so, far, it, has, been, addicting]  "
            ],
            "text/html": [
              "\n",
              "  <div id=\"df-0b301a1c-3d4b-41f1-9677-90825d909651\">\n",
              "    <div class=\"colab-df-container\">\n",
              "      <div>\n",
              "<style scoped>\n",
              "    .dataframe tbody tr th:only-of-type {\n",
              "        vertical-align: middle;\n",
              "    }\n",
              "\n",
              "    .dataframe tbody tr th {\n",
              "        vertical-align: top;\n",
              "    }\n",
              "\n",
              "    .dataframe thead th {\n",
              "        text-align: right;\n",
              "    }\n",
              "</style>\n",
              "<table border=\"1\" class=\"dataframe\">\n",
              "  <thead>\n",
              "    <tr style=\"text-align: right;\">\n",
              "      <th></th>\n",
              "      <th>reviewText</th>\n",
              "      <th>casual_tokens</th>\n",
              "      <th>tb_tokens</th>\n",
              "    </tr>\n",
              "  </thead>\n",
              "  <tbody>\n",
              "    <tr>\n",
              "      <th>443</th>\n",
              "      <td>no mercy has got to be the worst wwf game i have ever played. for one thing no mercy does not have special entrances like wrestlemania 2000 does. in no mercy  the titantron does not play when you make your entrance. also in no mercy every tag team comes out seperately and you have to buy everything from the smackdown mall and where's the fun in that? also the box says up to 10 backstage areas and there are only six. in conclusion smackdown 2 is the better buy.</td>\n",
              "      <td>[no, mercy, has, got, to, be, the, worst, wwf, game, i, have, ever, played, for, one, thing, no, mercy, does, not, have, special, entrances, like, wrestlemania, 2000, does, in, no, mercy, the, titantron, does, not, play, when, you, make, your, entrance, also, in, no, mercy, every, tag, team, comes, out, seperately, and, you, have, to, buy, everything, from, the, smackdown, mall, and, wheres, the, fun, in, that, also, the, box, says, up, to, 10, backstage, areas, and, there, are, only, six, in, conclusion, smackdown, 2, is, the, better, buy]</td>\n",
              "      <td>[no, mercy, has, got, to, be, the, worst, wwf, game, i, have, ever, played, for, one, thing, no, mercy, does, not, have, special, entrances, like, wrestlemania, 2000, does, in, no, mercy, the, titantron, does, not, play, when, you, make, your, entrance, also, in, no, mercy, every, tag, team, comes, out, seperately, and, you, have, to, buy, everything, from, the, smackdown, mall, and, wheres, the, fun, in, that, also, the, box, says, up, to, 10, backstage, areas, and, there, are, only, six, in, conclusion, smackdown, 2, is, the, better, buy]</td>\n",
              "    </tr>\n",
              "    <tr>\n",
              "      <th>1041</th>\n",
              "      <td>It's ten dollars and not much else to say they hurt your ears  after 20 mins and most the time it cuts me off and my firmed can't hear me you get what you pay for and I'd recommend a different mic also this sh*t took almost 2 weeks to get here will never buy from again</td>\n",
              "      <td>[its, ten, dollars, and, not, much, else, to, say, they, hurt, your, ears, after, 20, mins, and, most, the, time, it, cuts, me, off, and, my, firmed, cant, hear, me, you, get, what, you, pay, for, and, id, recommend, a, different, mic, also, this, sht, took, almost, 2, weeks, to, get, here, will, never, buy, from, again]</td>\n",
              "      <td>[its, ten, dollars, and, not, much, else, to, say, they, hurt, your, ears, after, 20, mins, and, most, the, time, it, cuts, me, off, and, my, firmed, cant, hear, me, you, get, what, you, pay, for, and, id, recommend, a, different, mic, also, this, sht, took, almost, 2, weeks, to, get, here, will, never, buy, from, again]</td>\n",
              "    </tr>\n",
              "    <tr>\n",
              "      <th>3838</th>\n",
              "      <td>This game is amazing I'm 15 hours in and so far it has been addicting</td>\n",
              "      <td>[this, game, is, amazing, im, 15, hours, in, and, so, far, it, has, been, addicting]</td>\n",
              "      <td>[this, game, is, amazing, im, 15, hours, in, and, so, far, it, has, been, addicting]</td>\n",
              "    </tr>\n",
              "  </tbody>\n",
              "</table>\n",
              "</div>\n",
              "      <button class=\"colab-df-convert\" onclick=\"convertToInteractive('df-0b301a1c-3d4b-41f1-9677-90825d909651')\"\n",
              "              title=\"Convert this dataframe to an interactive table.\"\n",
              "              style=\"display:none;\">\n",
              "        \n",
              "  <svg xmlns=\"http://www.w3.org/2000/svg\" height=\"24px\"viewBox=\"0 0 24 24\"\n",
              "       width=\"24px\">\n",
              "    <path d=\"M0 0h24v24H0V0z\" fill=\"none\"/>\n",
              "    <path d=\"M18.56 5.44l.94 2.06.94-2.06 2.06-.94-2.06-.94-.94-2.06-.94 2.06-2.06.94zm-11 1L8.5 8.5l.94-2.06 2.06-.94-2.06-.94L8.5 2.5l-.94 2.06-2.06.94zm10 10l.94 2.06.94-2.06 2.06-.94-2.06-.94-.94-2.06-.94 2.06-2.06.94z\"/><path d=\"M17.41 7.96l-1.37-1.37c-.4-.4-.92-.59-1.43-.59-.52 0-1.04.2-1.43.59L10.3 9.45l-7.72 7.72c-.78.78-.78 2.05 0 2.83L4 21.41c.39.39.9.59 1.41.59.51 0 1.02-.2 1.41-.59l7.78-7.78 2.81-2.81c.8-.78.8-2.07 0-2.86zM5.41 20L4 18.59l7.72-7.72 1.47 1.35L5.41 20z\"/>\n",
              "  </svg>\n",
              "      </button>\n",
              "      \n",
              "  <style>\n",
              "    .colab-df-container {\n",
              "      display:flex;\n",
              "      flex-wrap:wrap;\n",
              "      gap: 12px;\n",
              "    }\n",
              "\n",
              "    .colab-df-convert {\n",
              "      background-color: #E8F0FE;\n",
              "      border: none;\n",
              "      border-radius: 50%;\n",
              "      cursor: pointer;\n",
              "      display: none;\n",
              "      fill: #1967D2;\n",
              "      height: 32px;\n",
              "      padding: 0 0 0 0;\n",
              "      width: 32px;\n",
              "    }\n",
              "\n",
              "    .colab-df-convert:hover {\n",
              "      background-color: #E2EBFA;\n",
              "      box-shadow: 0px 1px 2px rgba(60, 64, 67, 0.3), 0px 1px 3px 1px rgba(60, 64, 67, 0.15);\n",
              "      fill: #174EA6;\n",
              "    }\n",
              "\n",
              "    [theme=dark] .colab-df-convert {\n",
              "      background-color: #3B4455;\n",
              "      fill: #D2E3FC;\n",
              "    }\n",
              "\n",
              "    [theme=dark] .colab-df-convert:hover {\n",
              "      background-color: #434B5C;\n",
              "      box-shadow: 0px 1px 3px 1px rgba(0, 0, 0, 0.15);\n",
              "      filter: drop-shadow(0px 1px 2px rgba(0, 0, 0, 0.3));\n",
              "      fill: #FFFFFF;\n",
              "    }\n",
              "  </style>\n",
              "\n",
              "      <script>\n",
              "        const buttonEl =\n",
              "          document.querySelector('#df-0b301a1c-3d4b-41f1-9677-90825d909651 button.colab-df-convert');\n",
              "        buttonEl.style.display =\n",
              "          google.colab.kernel.accessAllowed ? 'block' : 'none';\n",
              "\n",
              "        async function convertToInteractive(key) {\n",
              "          const element = document.querySelector('#df-0b301a1c-3d4b-41f1-9677-90825d909651');\n",
              "          const dataTable =\n",
              "            await google.colab.kernel.invokeFunction('convertToInteractive',\n",
              "                                                     [key], {});\n",
              "          if (!dataTable) return;\n",
              "\n",
              "          const docLinkHtml = 'Like what you see? Visit the ' +\n",
              "            '<a target=\"_blank\" href=https://colab.research.google.com/notebooks/data_table.ipynb>data table notebook</a>'\n",
              "            + ' to learn more about interactive tables.';\n",
              "          element.innerHTML = '';\n",
              "          dataTable['output_type'] = 'display_data';\n",
              "          await google.colab.output.renderOutput(dataTable, element);\n",
              "          const docLink = document.createElement('div');\n",
              "          docLink.innerHTML = docLinkHtml;\n",
              "          element.appendChild(docLink);\n",
              "        }\n",
              "      </script>\n",
              "    </div>\n",
              "  </div>\n",
              "  "
            ]
          },
          "metadata": {},
          "execution_count": 20
        }
      ],
      "source": [
        "reviews[['reviewText','casual_tokens','tb_tokens']].sample(3)"
      ]
    },
    {
      "cell_type": "markdown",
      "metadata": {
        "id": "c3u_g6Zq9O50"
      },
      "source": [
        "### Removing StopWords\n",
        "This part has been remvoed as removing stop words is not good for sentiment analysis at all!!"
      ]
    },
    {
      "cell_type": "code",
      "execution_count": null,
      "metadata": {
        "id": "GFlI-vBT9O51"
      },
      "outputs": [],
      "source": [
        "#nltk.download('stopwords')"
      ]
    },
    {
      "cell_type": "code",
      "execution_count": null,
      "metadata": {
        "id": "fgTQVmyA9O52"
      },
      "outputs": [],
      "source": [
        "#stop_words = nltk.corpus.stopwords.words('english')"
      ]
    },
    {
      "cell_type": "code",
      "execution_count": null,
      "metadata": {
        "id": "P_pjDpUM9O52"
      },
      "outputs": [],
      "source": [
        "#stop_words.remove(\"no\")"
      ]
    },
    {
      "cell_type": "code",
      "execution_count": null,
      "metadata": {
        "id": "fiwz3lYM9O54"
      },
      "outputs": [],
      "source": [
        "#stop_words.remove(\"not\")"
      ]
    },
    {
      "cell_type": "code",
      "execution_count": null,
      "metadata": {
        "id": "rSX88C2r9O55"
      },
      "outputs": [],
      "source": [
        "#print(stop_words)"
      ]
    },
    {
      "cell_type": "code",
      "execution_count": null,
      "metadata": {
        "id": "2zclpmcV9O56"
      },
      "outputs": [],
      "source": [
        "#\"not\" in stop_words"
      ]
    },
    {
      "cell_type": "code",
      "execution_count": null,
      "metadata": {
        "id": "pn8mmcf29O57"
      },
      "outputs": [],
      "source": [
        "#len(stop_words)"
      ]
    },
    {
      "cell_type": "code",
      "execution_count": null,
      "metadata": {
        "id": "Qe7p83bl9O57"
      },
      "outputs": [],
      "source": [
        "#from string import punctuation\n",
        "#print(punctuation)"
      ]
    },
    {
      "cell_type": "code",
      "execution_count": null,
      "metadata": {
        "id": "QlHlT6uN9O59"
      },
      "outputs": [],
      "source": [
        "#reviews['tokens_nosw'] = reviews['tb_tokens'].\\\n",
        "#    apply(lambda words: [w for w in words if w not in stop_words and w not in punctuation and w != \"\"])"
      ]
    },
    {
      "cell_type": "code",
      "execution_count": null,
      "metadata": {
        "id": "BNTaWBsr9O5-"
      },
      "outputs": [],
      "source": [
        "#reviews[['tb_tokens','tokens_nosw']].sample(3)"
      ]
    },
    {
      "cell_type": "markdown",
      "metadata": {
        "id": "2p8oe3FG9O5-"
      },
      "source": [
        "### Stemming"
      ]
    },
    {
      "cell_type": "code",
      "execution_count": 21,
      "metadata": {
        "id": "W4HU6RBC9O5_"
      },
      "outputs": [],
      "source": [
        "from nltk.stem.porter import PorterStemmer"
      ]
    },
    {
      "cell_type": "code",
      "execution_count": 22,
      "metadata": {
        "id": "0GVreoJB9O5_"
      },
      "outputs": [],
      "source": [
        "stemmer = PorterStemmer()"
      ]
    },
    {
      "cell_type": "code",
      "execution_count": 23,
      "metadata": {
        "id": "r8RIJbfY9O6U"
      },
      "outputs": [],
      "source": [
        "reviews['tokens_stemmed'] = reviews['tb_tokens'].apply(lambda words: [stemmer.stem(w) for w in words])"
      ]
    },
    {
      "cell_type": "code",
      "execution_count": 24,
      "metadata": {
        "id": "70wOyl8K9O6V",
        "outputId": "6ccb0879-62a3-45b1-d295-1c12e4666cf7",
        "colab": {
          "base_uri": "https://localhost:8080/",
          "height": 205
        }
      },
      "outputs": [
        {
          "output_type": "execute_result",
          "data": {
            "text/plain": [
              "                                                                                                          tb_tokens  \\\n",
              "1111                                                                             [did, not, work, waste, of, money]   \n",
              "1727                                                                            [the, game, is, not, easy, to, use]   \n",
              "1146  [i, was, gon, na, buy, this, game, but, nvm, too, much, negative, stuf, about, this, game, lol, thanks, guys]   \n",
              "\n",
              "                                                                                           tokens_stemmed  \n",
              "1111                                                                    [did, not, work, wast, of, money]  \n",
              "1727                                                                  [the, game, is, not, easi, to, use]  \n",
              "1146  [i, wa, gon, na, buy, thi, game, but, nvm, too, much, neg, stuf, about, thi, game, lol, thank, guy]  "
            ],
            "text/html": [
              "\n",
              "  <div id=\"df-3c0db3fc-85cc-4efa-83ce-886488f3f9b6\">\n",
              "    <div class=\"colab-df-container\">\n",
              "      <div>\n",
              "<style scoped>\n",
              "    .dataframe tbody tr th:only-of-type {\n",
              "        vertical-align: middle;\n",
              "    }\n",
              "\n",
              "    .dataframe tbody tr th {\n",
              "        vertical-align: top;\n",
              "    }\n",
              "\n",
              "    .dataframe thead th {\n",
              "        text-align: right;\n",
              "    }\n",
              "</style>\n",
              "<table border=\"1\" class=\"dataframe\">\n",
              "  <thead>\n",
              "    <tr style=\"text-align: right;\">\n",
              "      <th></th>\n",
              "      <th>tb_tokens</th>\n",
              "      <th>tokens_stemmed</th>\n",
              "    </tr>\n",
              "  </thead>\n",
              "  <tbody>\n",
              "    <tr>\n",
              "      <th>1111</th>\n",
              "      <td>[did, not, work, waste, of, money]</td>\n",
              "      <td>[did, not, work, wast, of, money]</td>\n",
              "    </tr>\n",
              "    <tr>\n",
              "      <th>1727</th>\n",
              "      <td>[the, game, is, not, easy, to, use]</td>\n",
              "      <td>[the, game, is, not, easi, to, use]</td>\n",
              "    </tr>\n",
              "    <tr>\n",
              "      <th>1146</th>\n",
              "      <td>[i, was, gon, na, buy, this, game, but, nvm, too, much, negative, stuf, about, this, game, lol, thanks, guys]</td>\n",
              "      <td>[i, wa, gon, na, buy, thi, game, but, nvm, too, much, neg, stuf, about, thi, game, lol, thank, guy]</td>\n",
              "    </tr>\n",
              "  </tbody>\n",
              "</table>\n",
              "</div>\n",
              "      <button class=\"colab-df-convert\" onclick=\"convertToInteractive('df-3c0db3fc-85cc-4efa-83ce-886488f3f9b6')\"\n",
              "              title=\"Convert this dataframe to an interactive table.\"\n",
              "              style=\"display:none;\">\n",
              "        \n",
              "  <svg xmlns=\"http://www.w3.org/2000/svg\" height=\"24px\"viewBox=\"0 0 24 24\"\n",
              "       width=\"24px\">\n",
              "    <path d=\"M0 0h24v24H0V0z\" fill=\"none\"/>\n",
              "    <path d=\"M18.56 5.44l.94 2.06.94-2.06 2.06-.94-2.06-.94-.94-2.06-.94 2.06-2.06.94zm-11 1L8.5 8.5l.94-2.06 2.06-.94-2.06-.94L8.5 2.5l-.94 2.06-2.06.94zm10 10l.94 2.06.94-2.06 2.06-.94-2.06-.94-.94-2.06-.94 2.06-2.06.94z\"/><path d=\"M17.41 7.96l-1.37-1.37c-.4-.4-.92-.59-1.43-.59-.52 0-1.04.2-1.43.59L10.3 9.45l-7.72 7.72c-.78.78-.78 2.05 0 2.83L4 21.41c.39.39.9.59 1.41.59.51 0 1.02-.2 1.41-.59l7.78-7.78 2.81-2.81c.8-.78.8-2.07 0-2.86zM5.41 20L4 18.59l7.72-7.72 1.47 1.35L5.41 20z\"/>\n",
              "  </svg>\n",
              "      </button>\n",
              "      \n",
              "  <style>\n",
              "    .colab-df-container {\n",
              "      display:flex;\n",
              "      flex-wrap:wrap;\n",
              "      gap: 12px;\n",
              "    }\n",
              "\n",
              "    .colab-df-convert {\n",
              "      background-color: #E8F0FE;\n",
              "      border: none;\n",
              "      border-radius: 50%;\n",
              "      cursor: pointer;\n",
              "      display: none;\n",
              "      fill: #1967D2;\n",
              "      height: 32px;\n",
              "      padding: 0 0 0 0;\n",
              "      width: 32px;\n",
              "    }\n",
              "\n",
              "    .colab-df-convert:hover {\n",
              "      background-color: #E2EBFA;\n",
              "      box-shadow: 0px 1px 2px rgba(60, 64, 67, 0.3), 0px 1px 3px 1px rgba(60, 64, 67, 0.15);\n",
              "      fill: #174EA6;\n",
              "    }\n",
              "\n",
              "    [theme=dark] .colab-df-convert {\n",
              "      background-color: #3B4455;\n",
              "      fill: #D2E3FC;\n",
              "    }\n",
              "\n",
              "    [theme=dark] .colab-df-convert:hover {\n",
              "      background-color: #434B5C;\n",
              "      box-shadow: 0px 1px 3px 1px rgba(0, 0, 0, 0.15);\n",
              "      filter: drop-shadow(0px 1px 2px rgba(0, 0, 0, 0.3));\n",
              "      fill: #FFFFFF;\n",
              "    }\n",
              "  </style>\n",
              "\n",
              "      <script>\n",
              "        const buttonEl =\n",
              "          document.querySelector('#df-3c0db3fc-85cc-4efa-83ce-886488f3f9b6 button.colab-df-convert');\n",
              "        buttonEl.style.display =\n",
              "          google.colab.kernel.accessAllowed ? 'block' : 'none';\n",
              "\n",
              "        async function convertToInteractive(key) {\n",
              "          const element = document.querySelector('#df-3c0db3fc-85cc-4efa-83ce-886488f3f9b6');\n",
              "          const dataTable =\n",
              "            await google.colab.kernel.invokeFunction('convertToInteractive',\n",
              "                                                     [key], {});\n",
              "          if (!dataTable) return;\n",
              "\n",
              "          const docLinkHtml = 'Like what you see? Visit the ' +\n",
              "            '<a target=\"_blank\" href=https://colab.research.google.com/notebooks/data_table.ipynb>data table notebook</a>'\n",
              "            + ' to learn more about interactive tables.';\n",
              "          element.innerHTML = '';\n",
              "          dataTable['output_type'] = 'display_data';\n",
              "          await google.colab.output.renderOutput(dataTable, element);\n",
              "          const docLink = document.createElement('div');\n",
              "          docLink.innerHTML = docLinkHtml;\n",
              "          element.appendChild(docLink);\n",
              "        }\n",
              "      </script>\n",
              "    </div>\n",
              "  </div>\n",
              "  "
            ]
          },
          "metadata": {},
          "execution_count": 24
        }
      ],
      "source": [
        "reviews[['tb_tokens','tokens_stemmed']].sample(3)"
      ]
    },
    {
      "cell_type": "markdown",
      "metadata": {
        "id": "NbLReZg89O6W"
      },
      "source": [
        "### Lemmatisation"
      ]
    },
    {
      "cell_type": "code",
      "execution_count": 25,
      "metadata": {
        "id": "pYN3CM9V9O6W"
      },
      "outputs": [],
      "source": [
        "from nltk.stem import WordNetLemmatizer\n",
        "from nltk.corpus import wordnet as wn\n",
        "from nltk.corpus import sentiwordnet as swn\n",
        "from nltk import sent_tokenize, word_tokenize, pos_tag"
      ]
    },
    {
      "cell_type": "code",
      "execution_count": 26,
      "metadata": {
        "id": "RkLm70b29O6X"
      },
      "outputs": [],
      "source": [
        "def penn_to_wn(tag):\n",
        "    \"\"\"\n",
        "        Convert between the PennTreebank tags to simple Wordnet tags\n",
        "    \"\"\"\n",
        "    if tag.startswith('J'):\n",
        "        return wn.ADJ\n",
        "    elif tag.startswith('N'):\n",
        "        return wn.NOUN\n",
        "    elif tag.startswith('R'):\n",
        "        return wn.ADV\n",
        "    elif tag.startswith('V'):\n",
        "        return wn.VERB\n",
        "    return None"
      ]
    },
    {
      "cell_type": "code",
      "execution_count": 27,
      "metadata": {
        "id": "AYSPV7Kz9O6Y"
      },
      "outputs": [],
      "source": [
        "lemmatizer = WordNetLemmatizer()\n",
        "def get_lemas(tokens):\n",
        "    lemmas = []\n",
        "    for token in tokens:\n",
        "        pos = penn_to_wn(pos_tag([token])[0][1])\n",
        "        if pos:\n",
        "            lemma = lemmatizer.lemmatize(token, pos)\n",
        "            if lemma:\n",
        "                lemmas.append(lemma)\n",
        "    return lemmas"
      ]
    },
    {
      "cell_type": "code",
      "source": [
        "import nltk\n",
        "nltk.download('averaged_perceptron_tagger')\n",
        "nltk.download('wordnet')\n",
        "nltk.download('omw-1.4')"
      ],
      "metadata": {
        "colab": {
          "base_uri": "https://localhost:8080/"
        },
        "id": "8KI2UA_dFNb1",
        "outputId": "a76dbe19-252f-4588-c971-6a191ed6ea8b"
      },
      "execution_count": 30,
      "outputs": [
        {
          "output_type": "stream",
          "name": "stderr",
          "text": [
            "[nltk_data] Downloading package averaged_perceptron_tagger to\n",
            "[nltk_data]     /root/nltk_data...\n",
            "[nltk_data]   Unzipping taggers/averaged_perceptron_tagger.zip.\n",
            "[nltk_data] Downloading package wordnet to /root/nltk_data...\n",
            "[nltk_data] Downloading package omw-1.4 to /root/nltk_data...\n"
          ]
        },
        {
          "output_type": "execute_result",
          "data": {
            "text/plain": [
              "True"
            ]
          },
          "metadata": {},
          "execution_count": 30
        }
      ]
    },
    {
      "cell_type": "code",
      "source": [
        "reviews['tb_tokens']"
      ],
      "metadata": {
        "id": "3Tv3KOpuVglO",
        "outputId": "89aa3286-5ac9-4f3d-9d64-dd2135a3cb00",
        "colab": {
          "base_uri": "https://localhost:8080/"
        }
      },
      "execution_count": 28,
      "outputs": [
        {
          "output_type": "execute_result",
          "data": {
            "text/plain": [
              "0                                                                                                                                                                                                                                                                                                                                                                                                                                                                                                                                                                                                                                               [bad, controls, i, felt, like, this, game, was, a, resident, evil, rip, off, traded, it, in]\n",
              "1       [update, july, 10th, 2012, condensed, my, review, to, hit, the, main, points, sticking, with, my, overall, 1star, review, read, below, to, see, why, quick, pros, arkham, asylumcitylike, combat, also, a, con, webrush, webretreat, bossbattles, stan, lee, cameos, ingame, extras, quick, cons, spiderman, is, not, batman, and, should, have, not, been, treated, that, way, repetitive, is, an, understatement, combat, and, gameplay, short, game, little, replayability, shoddy, physics, cameras, too, tight, i, will, give, beenox, props, for, attempting, a, free, roaming, spiderman, game, when, they, havent, before, that, effort, has, gone, to, treyarch, in, the, past, but, what, beenox, has, delivered, is, ...]\n",
              "2                                                                                                                                                                                                                                                                                                                                                                                                                                                                                                                                                                                                                                                                                                  [achievement, hunters, only, need, apply]\n",
              "3                                                                                                                                                                                                                                                                                                                                                                                                                                                                                                                                                                                                                                                                                                                                       [ok]\n",
              "4                                                                                   [eternal, champions, is, an, awesome, gamefor, sega, cdthis, version, of, it, for, genesis, is, total, crap, first, of, allthe, game, is, almost, impossible, to, beat, youll, have, one, hell, of, a, time, just, getting, past, the, first, fight, what, makes, it, even, worse, is, there, is, no, way, to, adjust, the, difficulty, level, on, this, game, neither, another, bad, thing, about, this, stinker, is, when, you, lose, a, matchyou, got, ta, keep, hitting, reset, over, and, over, again, if, you, wan, na, change, your, fighter, this, game, sucks, there, is, some, history, behind, this, game, though, this, was, the, very, ...]\n",
              "                                                                                                                                                                                                                                                                                                                                                                        ...                                                                                                                                                                                                                                                                                                                                                                 \n",
              "4495                                                                                                                                                                                                                                                                                                                                                                                                                                                                                                                                                                                                                                                                                                                               [perfect]\n",
              "4496                                                                   [the, bosses, were, hard, as, but, when, i, leveld, up, before, fighting, albedo, and, the, final, nosis, they, were, nothin, pros, superb, graphics, great, sound, a, damn, good, battle, system, makin, the, gameplay, high, one, of, the, best, sotories, a, video, game, ever, told, if, youre, good, at, evading, enimes, u, dont, need, to, do, unessacary, batlles, unlike, ffx, a, very, innovating, battle, system, this, is, easily, one, of, the, best, games, this, year, one, of, my, favorite, endings, and, the, longest, ending, ever, cons, bosses, sometimes, seem, impossible, at, times, but, i, got, over, them, voice, acting, is, rather, ...]\n",
              "4497                                                                                                                                                                                                                                                                                                                                                                                                                                                                                                                                                                                                                                                                                                 [excellent, price, and, fast, shipping]\n",
              "4498                                                                                                                                                                                                                                                                                                                                                                                                                                                                                                                                                                             [these, go, great, with, the, other, covers, and, prevent, problems, with, the, retron3, i, own, i, trust, all, of, my, cartridges, to, global, game, gear]\n",
              "4499                                                                                                                                                                                                                                                                                                                                                                                                               [i, bought, the, trilogy, twice, once, for, playstation, and, once, for, xbox, only, stopped, playing, when, andromeda, came, out, the, story, is, highly, compelling, and, if, you, dont, cry, at, some, point, in, this, game, you, probably, dont, have, a, heart, this, is, a, must, have, for, any, star, trek, fan]\n",
              "Name: tb_tokens, Length: 4500, dtype: object"
            ]
          },
          "metadata": {},
          "execution_count": 28
        }
      ]
    },
    {
      "cell_type": "code",
      "execution_count": 31,
      "metadata": {
        "id": "TM8-Ken99O6Z"
      },
      "outputs": [],
      "source": [
        "reviews['lemmas'] = reviews['tb_tokens'].apply(lambda tokens: get_lemas(tokens))"
      ]
    },
    {
      "cell_type": "code",
      "source": [
        "reviews[['reviewText','tokens_stemmed','lemmas']].sample(2)"
      ],
      "metadata": {
        "colab": {
          "base_uri": "https://localhost:8080/",
          "height": 521
        },
        "id": "Ne1GJAyrFoQC",
        "outputId": "ad097f9c-dce7-4062-e5e4-e1f88d5636d6"
      },
      "execution_count": 32,
      "outputs": [
        {
          "output_type": "execute_result",
          "data": {
            "text/plain": [
              "                                                                                                                                                                                                                                                                                                                                                                                                                                                                                                                                                                                                                                                                                                                                                                                                                                                                                                                                                                                                                                                                  reviewText  \\\n",
              "3196                                                                                                                                                                                                                                                                                                                                                                                                                                                                                                                                                                                                                                                                                                                                                                                                                                                                             If you know Nintendo's Wii Remotes, you know their quality. I love my Yoshi Wii Remote! I live in the USA and the \"Region Lock\" that happened to other Amazon shoppers didn't happen to me.   \n",
              "515   Bungie has decided to go down the path of app games for mobile phones. You are getting such a little bang for your buck, but don't worry: you'll be able to add to this short-termed game by buying more and more DLC! It's a game that you'll embrace if you like playing long enough to get new guns and to fight the same villains in the same situations again and again and again. If not, wait until it's half-price. Then you'll feel like you're getting your money's worth. It was such an amazing disappointment.\\n\\nUPDATE: And now I bumped it down to a 1-star rating. Even though I gave Bungie $60 to own this game, apparently I'm merely renting it. Right now I am no longer allowed to play the game because they have \"lost connection to partner services.\" I'm sure that Bungie wants to blame the PSN and the PSN wants to blame Bungie. In the end, the players are being told, \"Sorry, but tonight you can't play the game you purchased. Maybe tomorrow. We'll have to think about it. In the meantime, enjoy the plastic case we gave you!\"   \n",
              "\n",
              "                                                                                                                                                                                                                                                                                                                                                                                                                                                                                                                                                                                    tokens_stemmed  \\\n",
              "3196                                                                                                                                                                                                                                                                                                                                                                              [if, you, know, nintendo, wii, remot, you, know, their, qualiti, i, love, my, yoshi, wii, remot, i, live, in, the, usa, and, the, region, lock, that, happen, to, other, amazon, shopper, didnt, happen, to, me]   \n",
              "515   [bungi, ha, decid, to, go, down, the, path, of, app, game, for, mobil, phone, you, are, get, such, a, littl, bang, for, your, buck, but, dont, worri, youll, be, abl, to, add, to, thi, shortterm, game, by, buy, more, and, more, dlc, it, a, game, that, youll, embrac, if, you, like, play, long, enough, to, get, new, gun, and, to, fight, the, same, villain, in, the, same, situat, again, and, again, and, again, if, not, wait, until, it, halfpric, then, youll, feel, like, your, get, your, money, worth, it, wa, such, an, amaz, disappoint, updat, and, now, i, bump, it, ...]   \n",
              "\n",
              "                                                                                                                                                                                                                                                                                                                                                                                                                                                                                                                                                                                                                                                                                         lemmas  \n",
              "3196                                                                                                                                                                                                                                                                                                                                                                                                                                                                                                                                      [know, nintendos, wii, remote, know, quality, i, love, yoshi, wii, remote, i, live, usa, region, lock, happen, other, amazon, shopper, didnt, happen]  \n",
              "515   [bungie, have, decide, go, down, path, app, game, mobile, phone, be, get, such, little, bang, buck, dont, worry, youll, be, able, add, shorttermed, game, buying, more, more, dlc, game, youll, embrace, play, long, enough, get, new, gun, fight, same, villain, same, situation, again, again, again, not, wait, halfprice, then, youll, feel, youre, get, money, worth, be, such, amaze, disappointment, update, now, i, bumped, down, rating, even, i, give, bungie, own, game, apparently, im, merely, rent, right, now, i, be, longer, allow, play, game, have, lose, connection, partner, service, im, sure, bungie, want, blame, psn, psn, want, blame, bungie, end, player, ...]  "
            ],
            "text/html": [
              "\n",
              "  <div id=\"df-a71e891a-d481-4859-9656-4336905d5da6\">\n",
              "    <div class=\"colab-df-container\">\n",
              "      <div>\n",
              "<style scoped>\n",
              "    .dataframe tbody tr th:only-of-type {\n",
              "        vertical-align: middle;\n",
              "    }\n",
              "\n",
              "    .dataframe tbody tr th {\n",
              "        vertical-align: top;\n",
              "    }\n",
              "\n",
              "    .dataframe thead th {\n",
              "        text-align: right;\n",
              "    }\n",
              "</style>\n",
              "<table border=\"1\" class=\"dataframe\">\n",
              "  <thead>\n",
              "    <tr style=\"text-align: right;\">\n",
              "      <th></th>\n",
              "      <th>reviewText</th>\n",
              "      <th>tokens_stemmed</th>\n",
              "      <th>lemmas</th>\n",
              "    </tr>\n",
              "  </thead>\n",
              "  <tbody>\n",
              "    <tr>\n",
              "      <th>3196</th>\n",
              "      <td>If you know Nintendo's Wii Remotes, you know their quality. I love my Yoshi Wii Remote! I live in the USA and the \"Region Lock\" that happened to other Amazon shoppers didn't happen to me.</td>\n",
              "      <td>[if, you, know, nintendo, wii, remot, you, know, their, qualiti, i, love, my, yoshi, wii, remot, i, live, in, the, usa, and, the, region, lock, that, happen, to, other, amazon, shopper, didnt, happen, to, me]</td>\n",
              "      <td>[know, nintendos, wii, remote, know, quality, i, love, yoshi, wii, remote, i, live, usa, region, lock, happen, other, amazon, shopper, didnt, happen]</td>\n",
              "    </tr>\n",
              "    <tr>\n",
              "      <th>515</th>\n",
              "      <td>Bungie has decided to go down the path of app games for mobile phones. You are getting such a little bang for your buck, but don't worry: you'll be able to add to this short-termed game by buying more and more DLC! It's a game that you'll embrace if you like playing long enough to get new guns and to fight the same villains in the same situations again and again and again. If not, wait until it's half-price. Then you'll feel like you're getting your money's worth. It was such an amazing disappointment.\\n\\nUPDATE: And now I bumped it down to a 1-star rating. Even though I gave Bungie $60 to own this game, apparently I'm merely renting it. Right now I am no longer allowed to play the game because they have \"lost connection to partner services.\" I'm sure that Bungie wants to blame the PSN and the PSN wants to blame Bungie. In the end, the players are being told, \"Sorry, but tonight you can't play the game you purchased. Maybe tomorrow. We'll have to think about it. In the meantime, enjoy the plastic case we gave you!\"</td>\n",
              "      <td>[bungi, ha, decid, to, go, down, the, path, of, app, game, for, mobil, phone, you, are, get, such, a, littl, bang, for, your, buck, but, dont, worri, youll, be, abl, to, add, to, thi, shortterm, game, by, buy, more, and, more, dlc, it, a, game, that, youll, embrac, if, you, like, play, long, enough, to, get, new, gun, and, to, fight, the, same, villain, in, the, same, situat, again, and, again, and, again, if, not, wait, until, it, halfpric, then, youll, feel, like, your, get, your, money, worth, it, wa, such, an, amaz, disappoint, updat, and, now, i, bump, it, ...]</td>\n",
              "      <td>[bungie, have, decide, go, down, path, app, game, mobile, phone, be, get, such, little, bang, buck, dont, worry, youll, be, able, add, shorttermed, game, buying, more, more, dlc, game, youll, embrace, play, long, enough, get, new, gun, fight, same, villain, same, situation, again, again, again, not, wait, halfprice, then, youll, feel, youre, get, money, worth, be, such, amaze, disappointment, update, now, i, bumped, down, rating, even, i, give, bungie, own, game, apparently, im, merely, rent, right, now, i, be, longer, allow, play, game, have, lose, connection, partner, service, im, sure, bungie, want, blame, psn, psn, want, blame, bungie, end, player, ...]</td>\n",
              "    </tr>\n",
              "  </tbody>\n",
              "</table>\n",
              "</div>\n",
              "      <button class=\"colab-df-convert\" onclick=\"convertToInteractive('df-a71e891a-d481-4859-9656-4336905d5da6')\"\n",
              "              title=\"Convert this dataframe to an interactive table.\"\n",
              "              style=\"display:none;\">\n",
              "        \n",
              "  <svg xmlns=\"http://www.w3.org/2000/svg\" height=\"24px\"viewBox=\"0 0 24 24\"\n",
              "       width=\"24px\">\n",
              "    <path d=\"M0 0h24v24H0V0z\" fill=\"none\"/>\n",
              "    <path d=\"M18.56 5.44l.94 2.06.94-2.06 2.06-.94-2.06-.94-.94-2.06-.94 2.06-2.06.94zm-11 1L8.5 8.5l.94-2.06 2.06-.94-2.06-.94L8.5 2.5l-.94 2.06-2.06.94zm10 10l.94 2.06.94-2.06 2.06-.94-2.06-.94-.94-2.06-.94 2.06-2.06.94z\"/><path d=\"M17.41 7.96l-1.37-1.37c-.4-.4-.92-.59-1.43-.59-.52 0-1.04.2-1.43.59L10.3 9.45l-7.72 7.72c-.78.78-.78 2.05 0 2.83L4 21.41c.39.39.9.59 1.41.59.51 0 1.02-.2 1.41-.59l7.78-7.78 2.81-2.81c.8-.78.8-2.07 0-2.86zM5.41 20L4 18.59l7.72-7.72 1.47 1.35L5.41 20z\"/>\n",
              "  </svg>\n",
              "      </button>\n",
              "      \n",
              "  <style>\n",
              "    .colab-df-container {\n",
              "      display:flex;\n",
              "      flex-wrap:wrap;\n",
              "      gap: 12px;\n",
              "    }\n",
              "\n",
              "    .colab-df-convert {\n",
              "      background-color: #E8F0FE;\n",
              "      border: none;\n",
              "      border-radius: 50%;\n",
              "      cursor: pointer;\n",
              "      display: none;\n",
              "      fill: #1967D2;\n",
              "      height: 32px;\n",
              "      padding: 0 0 0 0;\n",
              "      width: 32px;\n",
              "    }\n",
              "\n",
              "    .colab-df-convert:hover {\n",
              "      background-color: #E2EBFA;\n",
              "      box-shadow: 0px 1px 2px rgba(60, 64, 67, 0.3), 0px 1px 3px 1px rgba(60, 64, 67, 0.15);\n",
              "      fill: #174EA6;\n",
              "    }\n",
              "\n",
              "    [theme=dark] .colab-df-convert {\n",
              "      background-color: #3B4455;\n",
              "      fill: #D2E3FC;\n",
              "    }\n",
              "\n",
              "    [theme=dark] .colab-df-convert:hover {\n",
              "      background-color: #434B5C;\n",
              "      box-shadow: 0px 1px 3px 1px rgba(0, 0, 0, 0.15);\n",
              "      filter: drop-shadow(0px 1px 2px rgba(0, 0, 0, 0.3));\n",
              "      fill: #FFFFFF;\n",
              "    }\n",
              "  </style>\n",
              "\n",
              "      <script>\n",
              "        const buttonEl =\n",
              "          document.querySelector('#df-a71e891a-d481-4859-9656-4336905d5da6 button.colab-df-convert');\n",
              "        buttonEl.style.display =\n",
              "          google.colab.kernel.accessAllowed ? 'block' : 'none';\n",
              "\n",
              "        async function convertToInteractive(key) {\n",
              "          const element = document.querySelector('#df-a71e891a-d481-4859-9656-4336905d5da6');\n",
              "          const dataTable =\n",
              "            await google.colab.kernel.invokeFunction('convertToInteractive',\n",
              "                                                     [key], {});\n",
              "          if (!dataTable) return;\n",
              "\n",
              "          const docLinkHtml = 'Like what you see? Visit the ' +\n",
              "            '<a target=\"_blank\" href=https://colab.research.google.com/notebooks/data_table.ipynb>data table notebook</a>'\n",
              "            + ' to learn more about interactive tables.';\n",
              "          element.innerHTML = '';\n",
              "          dataTable['output_type'] = 'display_data';\n",
              "          await google.colab.output.renderOutput(dataTable, element);\n",
              "          const docLink = document.createElement('div');\n",
              "          docLink.innerHTML = docLinkHtml;\n",
              "          element.appendChild(docLink);\n",
              "        }\n",
              "      </script>\n",
              "    </div>\n",
              "  </div>\n",
              "  "
            ]
          },
          "metadata": {},
          "execution_count": 32
        }
      ]
    },
    {
      "cell_type": "markdown",
      "source": [
        "### Sentiment Predictor Baseline Model"
      ],
      "metadata": {
        "id": "uOUoTKb7FyPL"
      }
    },
    {
      "cell_type": "code",
      "source": [
        "def get_sentiment_score(tokens):\n",
        "    score = 0\n",
        "    tags = pos_tag(tokens)\n",
        "    for word, tag in tags:\n",
        "        # print('word, tag=================',word, tag)\n",
        "        wn_tag = penn_to_wn(tag)\n",
        "        if not wn_tag:\n",
        "            continue\n",
        "        synsets = wn.synsets(word, pos=wn_tag)\n",
        "        if not synsets:\n",
        "            continue\n",
        "        \n",
        "        #most common set:\n",
        "        synset = synsets[0]\n",
        "        swn_synset = swn.senti_synset(synset.name())\n",
        "        \n",
        "        score += (swn_synset.pos_score() - swn_synset.neg_score())\n",
        "        \n",
        "    return score"
      ],
      "metadata": {
        "id": "sue-3wfvF0GQ"
      },
      "execution_count": 51,
      "outputs": []
    },
    {
      "cell_type": "code",
      "source": [
        "import nltk\n",
        "nltk.download('sentiwordnet')\n"
      ],
      "metadata": {
        "colab": {
          "base_uri": "https://localhost:8080/"
        },
        "id": "GJVmXBMKF-IM",
        "outputId": "ac83d359-2c1c-48bf-8b6a-bb9c803932d1"
      },
      "execution_count": 37,
      "outputs": [
        {
          "output_type": "stream",
          "name": "stderr",
          "text": [
            "[nltk_data] Downloading package sentiwordnet to /root/nltk_data...\n",
            "[nltk_data]   Package sentiwordnet is already up-to-date!\n"
          ]
        },
        {
          "output_type": "execute_result",
          "data": {
            "text/plain": [
              "True"
            ]
          },
          "metadata": {},
          "execution_count": 37
        }
      ]
    },
    {
      "cell_type": "code",
      "source": [
        "wn.synsets(\"perfect\", wn.ADJ)"
      ],
      "metadata": {
        "id": "KwbnIQN_ibJi",
        "outputId": "a53d052d-9181-47d3-a986-2e2306ce0431",
        "colab": {
          "base_uri": "https://localhost:8080/"
        }
      },
      "execution_count": 50,
      "outputs": [
        {
          "output_type": "execute_result",
          "data": {
            "text/plain": [
              "[Synset('perfect.a.01'), Synset('arrant.s.01'), Synset('perfect.s.03')]"
            ]
          },
          "metadata": {},
          "execution_count": 50
        }
      ]
    },
    {
      "cell_type": "code",
      "source": [
        "wn.synsets(\"perfect\", wn.ADJ)[0].name()"
      ],
      "metadata": {
        "id": "emafG_u4gIqW",
        "outputId": "f07ba416-d77f-4162-ea13-5947aeaddd2a",
        "colab": {
          "base_uri": "https://localhost:8080/",
          "height": 35
        }
      },
      "execution_count": 45,
      "outputs": [
        {
          "output_type": "execute_result",
          "data": {
            "text/plain": [
              "'perfect.a.01'"
            ],
            "application/vnd.google.colaboratory.intrinsic+json": {
              "type": "string"
            }
          },
          "metadata": {},
          "execution_count": 45
        }
      ]
    },
    {
      "cell_type": "code",
      "source": [
        "wn.synsets(\"perfect\", wn.ADJ)[0].name()"
      ],
      "metadata": {
        "id": "O5xn181igiZT",
        "outputId": "84b2d492-c346-4f85-ca26-5bca8d59d850",
        "colab": {
          "base_uri": "https://localhost:8080/",
          "height": 35
        }
      },
      "execution_count": 48,
      "outputs": [
        {
          "output_type": "execute_result",
          "data": {
            "text/plain": [
              "'perfect.a.01'"
            ],
            "application/vnd.google.colaboratory.intrinsic+json": {
              "type": "string"
            }
          },
          "metadata": {},
          "execution_count": 48
        }
      ]
    },
    {
      "cell_type": "code",
      "source": [
        "swn.senti_synset(wn.synsets(\"perfect\", wn.ADJ)[0].name())"
      ],
      "metadata": {
        "id": "C1zBJ2jmheuX",
        "outputId": "48f72ddc-f3d5-46c7-fbf0-66ddf6e45449",
        "colab": {
          "base_uri": "https://localhost:8080/"
        }
      },
      "execution_count": 49,
      "outputs": [
        {
          "output_type": "execute_result",
          "data": {
            "text/plain": [
              "SentiSynset('perfect.a.01')"
            ]
          },
          "metadata": {},
          "execution_count": 49
        }
      ]
    },
    {
      "cell_type": "code",
      "source": [
        "## test\n",
        "swn.senti_synset(wn.synsets(\"perfect\", wn.ADJ)[0].name()).pos_score()"
      ],
      "metadata": {
        "colab": {
          "base_uri": "https://localhost:8080/"
        },
        "id": "JyPvL82dF5EX",
        "outputId": "82496736-f8c0-4e1b-e917-e70a4b52f518"
      },
      "execution_count": 38,
      "outputs": [
        {
          "output_type": "execute_result",
          "data": {
            "text/plain": [
              "0.625"
            ]
          },
          "metadata": {},
          "execution_count": 38
        }
      ]
    },
    {
      "cell_type": "code",
      "source": [
        "swn.senti_synset(wn.synsets(\"perfect\", wn.ADJ)[0].name()).neg_score()"
      ],
      "metadata": {
        "id": "eixWCgPelluW",
        "outputId": "07c30160-168d-4b1d-e012-d9918472c2d3",
        "colab": {
          "base_uri": "https://localhost:8080/"
        }
      },
      "execution_count": 53,
      "outputs": [
        {
          "output_type": "execute_result",
          "data": {
            "text/plain": [
              "0.125"
            ]
          },
          "metadata": {},
          "execution_count": 53
        }
      ]
    },
    {
      "cell_type": "code",
      "source": [
        "reviews['sentiment_score'] = reviews['lemmas'].apply(lambda tokens: get_sentiment_score(tokens))"
      ],
      "metadata": {
        "id": "1LeiqovWGDlw"
      },
      "execution_count": null,
      "outputs": []
    },
    {
      "cell_type": "code",
      "source": [
        "reviews[['reviewText','lemmas','sentiment_score']].sample(5)"
      ],
      "metadata": {
        "colab": {
          "base_uri": "https://localhost:8080/",
          "height": 1000
        },
        "id": "6aednnAnGMau",
        "outputId": "db572e03-0315-4d5f-a68d-173ce24160e1"
      },
      "execution_count": 40,
      "outputs": [
        {
          "output_type": "execute_result",
          "data": {
            "text/plain": [
              "                                                                                                                                                                                                                                                                                                                                                                                                                                                                                                                                                                                                                                                                                                                                                                                                                                                                                                                                                                                                                                                                                                                                                                                                                                                                                                                                                                                                                                 reviewText  \\\n",
              "1370                                                                                                                                                                                                                                                                                                                                                                                                                                                                                               The reason I am giving this headset 1 star is because I am amazed it has an almost 4 star reviews total and I have to do my part to reduce the overall rating of this atrocious heaset.  1st of all the max volume is not very loud at all.  I had the px21 headset and I absolutely loved it and they blew this headset away.  If I got a wireless headset that would perform as well as px21 Id have been happy.  So theres very low max volume, no bass whatsoever, and lastly when the sounds get very sublte, the headset shuts off  and on to save energy until constant sounds come back to if your in a black ops lobby and the music gets subtle u hear intermittent silence of the headset going off while the music gets subtle.  Its absolutely HOrrible!!!!!  Cant beleive a company like turtle beach would release this thing under their brand and am amazed other ppl rated them high.  I Effing hate this headset!!!!1   \n",
              "212                                                                                                                                                                                                                                                                                                                                                                                                                                                                                                                                                                                                                                                                                                                                                                                                                                                                                                                                                                                                                                                                                                                                                                                                                                                                                                                                                                                                       Suck makes my video go in and out   \n",
              "3017                                                                                                                                                                                                                                                                                                                                                                                                                                                                                                                                                                                                                                                                                                                                                                                                                                                                                                                                                                                                                                                                                                                                                                                                                                                              This game is just like the film and the quality of playing is uncoutned for, where the fun just keps going.  Highly recommended ages 3+.  Don't forget the memory card...   \n",
              "2416  This is an interesting idea but it could be better. I tried it on Windows 8.1. The product itself seems well made and sturdy enough. It could be more comfortable; perhaps softer material. The bracelet locking mechanism could be made easier and/or better instead being the usb plug. The bracelet itself could be made thinner. So in my opinion there are many possible improvements to be made that would be welcomed.\\n\\nI got the Small version which is roughly ~2.5 inches wide. Setup was easy; though it sure went through alot of updates. I plugged in the device and Windows installed the drivers. Then i opened the program and it made me register an account with them; which i believe is for their cloud backups of our games. After registering it had me update the gameband device which took less than a minute. I registered a new account; the gameband doesn't come with a licensed version of the game.  After i logged into my minecraft account and it took another couple minutes to update minecraft.\\n\\nA couple thoughts on the pixel display. It is not very clear out in sunlight. The pixel editor program could be alot better. It needs a nicer user interface and be simpler to use. The pixel display itself should have more options as well. I would like it to always be on for example; not just on a button press; which by the way is a badly design little button to have to press.   \n",
              "1430                                                                                                                                                                                                                                                                             I like the idea of playing a villian and playing with better graphics that WOW has too offer. But the main and only two problems are the constant disconnects and  half the video screen which is barbled (or tearing) on my laptop. Now I have two systems one is an alienware with a nvidia card and the laptop a dell xps with a ati mobility. I  made sure everything is upgraded and tweak too work with most games. But  there is nothing I can do if COV is having compatibilty issues with the ati mobility card as stated in their website (still being worked on). The tech support technician states that the problem is with my system and and ISP. I play other online games and I will definitly know if there is a problem with my ISP (not) so I decided it is best to cancel my subscription since I cannot enjoy the game and have next to nil on getting any help from tech support. I do not know what high end system is needed or what else must be tweaked. All I can say COV is a nice concept and nice graphics but I guess it all depends on what high end PC system you are using. I wish you better luck in enjoying the game.   \n",
              "\n",
              "                                                                                                                                                                                                                                                                                                                                                                                                                                                                                                                                                                                                                                                                                                              lemmas  \\\n",
              "1370          [reason, i, be, give, headset, star, be, i, be, amaze, have, almost, star, review, total, i, have, do, part, reduce, overall, rating, atrocious, heaset, max, volume, be, not, very, loud, i, have, px21, headset, i, absolutely, love, blew, headset, away, i, get, wireless, headset, perform, well, px21, id, have, be, happy, so, there, very, low, max, volume, bass, whatsoever, lastly, sound, get, very, sublte, headset, shuts, save, energy, constant, sound, come, back, black, ops, lobby, music, get, subtle, u, hear, intermittent, silence, headset, go, music, get, subtle, absolutely, horrible, cant, beleive, company, turtle, beach, release, thing, brand, be, amaze, other, ...]   \n",
              "212                                                                                                                                                                                                                                                                                                                                                                                                                                                                                                                                                                                                                                                                                          [suck, make, video, go]   \n",
              "3017                                                                                                                                                                                                                                                                                                                                                                                                                                                                                                                                                                                   [game, be, just, film, quality, play, be, uncoutned, fun, just, keps, go, highly, recommend, age, dont, forget, memory, card]   \n",
              "2416  [be, interest, idea, be, well, i, try, window, product, seem, well, make, sturdy, enough, be, more, comfortable, perhaps, softer, material, bracelet, lock, mechanism, be, make, easy, andor, well, instead, be, usb, plug, bracelet, be, make, thinner, so, opinion, there, be, many, possible, improvement, be, make, be, welcome, i, get, small, version, be, roughly, inch, wide, setup, be, easy, sure, go, alot, update, i, plug, device, window, instal, driver, then, i, open, program, make, register, account, i, believe, be, cloud, backup, game, register, have, update, gameband, device, take, less, minute, i, register, new, account, gameband, doesnt, come, license, version, game, i, ...]   \n",
              "1430                           [i, idea, play, villian, play, well, graphic, wow, have, too, offer, main, only, problem, be, constant, disconnect, half, video, screen, be, barbled, tear, laptop, now, i, have, system, be, alienware, nvidia, card, laptop, dell, xps, ati, mobility, i, make, sure, everything, be, upgraded, tweak, too, work, most, game, there, be, nothing, i, do, cov, be, have, compatibilty, issue, ati, mobility, card, state, website, still, be, work, tech, support, technician, state, problem, be, system, isp, i, play, other, online, game, i, definitly, know, there, be, problem, isp, not, so, i, decide, be, best, cancel, subscription, i, not, enjoy, game, have, next, ...]   \n",
              "\n",
              "      sentiment_score  \n",
              "1370            3.250  \n",
              "212             0.000  \n",
              "3017            1.875  \n",
              "2416            2.125  \n",
              "1430            1.500  "
            ],
            "text/html": [
              "\n",
              "  <div id=\"df-61dfa392-98ed-408f-9b42-ffab6954966b\">\n",
              "    <div class=\"colab-df-container\">\n",
              "      <div>\n",
              "<style scoped>\n",
              "    .dataframe tbody tr th:only-of-type {\n",
              "        vertical-align: middle;\n",
              "    }\n",
              "\n",
              "    .dataframe tbody tr th {\n",
              "        vertical-align: top;\n",
              "    }\n",
              "\n",
              "    .dataframe thead th {\n",
              "        text-align: right;\n",
              "    }\n",
              "</style>\n",
              "<table border=\"1\" class=\"dataframe\">\n",
              "  <thead>\n",
              "    <tr style=\"text-align: right;\">\n",
              "      <th></th>\n",
              "      <th>reviewText</th>\n",
              "      <th>lemmas</th>\n",
              "      <th>sentiment_score</th>\n",
              "    </tr>\n",
              "  </thead>\n",
              "  <tbody>\n",
              "    <tr>\n",
              "      <th>1370</th>\n",
              "      <td>The reason I am giving this headset 1 star is because I am amazed it has an almost 4 star reviews total and I have to do my part to reduce the overall rating of this atrocious heaset.  1st of all the max volume is not very loud at all.  I had the px21 headset and I absolutely loved it and they blew this headset away.  If I got a wireless headset that would perform as well as px21 Id have been happy.  So theres very low max volume, no bass whatsoever, and lastly when the sounds get very sublte, the headset shuts off  and on to save energy until constant sounds come back to if your in a black ops lobby and the music gets subtle u hear intermittent silence of the headset going off while the music gets subtle.  Its absolutely HOrrible!!!!!  Cant beleive a company like turtle beach would release this thing under their brand and am amazed other ppl rated them high.  I Effing hate this headset!!!!1</td>\n",
              "      <td>[reason, i, be, give, headset, star, be, i, be, amaze, have, almost, star, review, total, i, have, do, part, reduce, overall, rating, atrocious, heaset, max, volume, be, not, very, loud, i, have, px21, headset, i, absolutely, love, blew, headset, away, i, get, wireless, headset, perform, well, px21, id, have, be, happy, so, there, very, low, max, volume, bass, whatsoever, lastly, sound, get, very, sublte, headset, shuts, save, energy, constant, sound, come, back, black, ops, lobby, music, get, subtle, u, hear, intermittent, silence, headset, go, music, get, subtle, absolutely, horrible, cant, beleive, company, turtle, beach, release, thing, brand, be, amaze, other, ...]</td>\n",
              "      <td>3.250</td>\n",
              "    </tr>\n",
              "    <tr>\n",
              "      <th>212</th>\n",
              "      <td>Suck makes my video go in and out</td>\n",
              "      <td>[suck, make, video, go]</td>\n",
              "      <td>0.000</td>\n",
              "    </tr>\n",
              "    <tr>\n",
              "      <th>3017</th>\n",
              "      <td>This game is just like the film and the quality of playing is uncoutned for, where the fun just keps going.  Highly recommended ages 3+.  Don't forget the memory card...</td>\n",
              "      <td>[game, be, just, film, quality, play, be, uncoutned, fun, just, keps, go, highly, recommend, age, dont, forget, memory, card]</td>\n",
              "      <td>1.875</td>\n",
              "    </tr>\n",
              "    <tr>\n",
              "      <th>2416</th>\n",
              "      <td>This is an interesting idea but it could be better. I tried it on Windows 8.1. The product itself seems well made and sturdy enough. It could be more comfortable; perhaps softer material. The bracelet locking mechanism could be made easier and/or better instead being the usb plug. The bracelet itself could be made thinner. So in my opinion there are many possible improvements to be made that would be welcomed.\\n\\nI got the Small version which is roughly ~2.5 inches wide. Setup was easy; though it sure went through alot of updates. I plugged in the device and Windows installed the drivers. Then i opened the program and it made me register an account with them; which i believe is for their cloud backups of our games. After registering it had me update the gameband device which took less than a minute. I registered a new account; the gameband doesn't come with a licensed version of the game.  After i logged into my minecraft account and it took another couple minutes to update minecraft.\\n\\nA couple thoughts on the pixel display. It is not very clear out in sunlight. The pixel editor program could be alot better. It needs a nicer user interface and be simpler to use. The pixel display itself should have more options as well. I would like it to always be on for example; not just on a button press; which by the way is a badly design little button to have to press.</td>\n",
              "      <td>[be, interest, idea, be, well, i, try, window, product, seem, well, make, sturdy, enough, be, more, comfortable, perhaps, softer, material, bracelet, lock, mechanism, be, make, easy, andor, well, instead, be, usb, plug, bracelet, be, make, thinner, so, opinion, there, be, many, possible, improvement, be, make, be, welcome, i, get, small, version, be, roughly, inch, wide, setup, be, easy, sure, go, alot, update, i, plug, device, window, instal, driver, then, i, open, program, make, register, account, i, believe, be, cloud, backup, game, register, have, update, gameband, device, take, less, minute, i, register, new, account, gameband, doesnt, come, license, version, game, i, ...]</td>\n",
              "      <td>2.125</td>\n",
              "    </tr>\n",
              "    <tr>\n",
              "      <th>1430</th>\n",
              "      <td>I like the idea of playing a villian and playing with better graphics that WOW has too offer. But the main and only two problems are the constant disconnects and  half the video screen which is barbled (or tearing) on my laptop. Now I have two systems one is an alienware with a nvidia card and the laptop a dell xps with a ati mobility. I  made sure everything is upgraded and tweak too work with most games. But  there is nothing I can do if COV is having compatibilty issues with the ati mobility card as stated in their website (still being worked on). The tech support technician states that the problem is with my system and and ISP. I play other online games and I will definitly know if there is a problem with my ISP (not) so I decided it is best to cancel my subscription since I cannot enjoy the game and have next to nil on getting any help from tech support. I do not know what high end system is needed or what else must be tweaked. All I can say COV is a nice concept and nice graphics but I guess it all depends on what high end PC system you are using. I wish you better luck in enjoying the game.</td>\n",
              "      <td>[i, idea, play, villian, play, well, graphic, wow, have, too, offer, main, only, problem, be, constant, disconnect, half, video, screen, be, barbled, tear, laptop, now, i, have, system, be, alienware, nvidia, card, laptop, dell, xps, ati, mobility, i, make, sure, everything, be, upgraded, tweak, too, work, most, game, there, be, nothing, i, do, cov, be, have, compatibilty, issue, ati, mobility, card, state, website, still, be, work, tech, support, technician, state, problem, be, system, isp, i, play, other, online, game, i, definitly, know, there, be, problem, isp, not, so, i, decide, be, best, cancel, subscription, i, not, enjoy, game, have, next, ...]</td>\n",
              "      <td>1.500</td>\n",
              "    </tr>\n",
              "  </tbody>\n",
              "</table>\n",
              "</div>\n",
              "      <button class=\"colab-df-convert\" onclick=\"convertToInteractive('df-61dfa392-98ed-408f-9b42-ffab6954966b')\"\n",
              "              title=\"Convert this dataframe to an interactive table.\"\n",
              "              style=\"display:none;\">\n",
              "        \n",
              "  <svg xmlns=\"http://www.w3.org/2000/svg\" height=\"24px\"viewBox=\"0 0 24 24\"\n",
              "       width=\"24px\">\n",
              "    <path d=\"M0 0h24v24H0V0z\" fill=\"none\"/>\n",
              "    <path d=\"M18.56 5.44l.94 2.06.94-2.06 2.06-.94-2.06-.94-.94-2.06-.94 2.06-2.06.94zm-11 1L8.5 8.5l.94-2.06 2.06-.94-2.06-.94L8.5 2.5l-.94 2.06-2.06.94zm10 10l.94 2.06.94-2.06 2.06-.94-2.06-.94-.94-2.06-.94 2.06-2.06.94z\"/><path d=\"M17.41 7.96l-1.37-1.37c-.4-.4-.92-.59-1.43-.59-.52 0-1.04.2-1.43.59L10.3 9.45l-7.72 7.72c-.78.78-.78 2.05 0 2.83L4 21.41c.39.39.9.59 1.41.59.51 0 1.02-.2 1.41-.59l7.78-7.78 2.81-2.81c.8-.78.8-2.07 0-2.86zM5.41 20L4 18.59l7.72-7.72 1.47 1.35L5.41 20z\"/>\n",
              "  </svg>\n",
              "      </button>\n",
              "      \n",
              "  <style>\n",
              "    .colab-df-container {\n",
              "      display:flex;\n",
              "      flex-wrap:wrap;\n",
              "      gap: 12px;\n",
              "    }\n",
              "\n",
              "    .colab-df-convert {\n",
              "      background-color: #E8F0FE;\n",
              "      border: none;\n",
              "      border-radius: 50%;\n",
              "      cursor: pointer;\n",
              "      display: none;\n",
              "      fill: #1967D2;\n",
              "      height: 32px;\n",
              "      padding: 0 0 0 0;\n",
              "      width: 32px;\n",
              "    }\n",
              "\n",
              "    .colab-df-convert:hover {\n",
              "      background-color: #E2EBFA;\n",
              "      box-shadow: 0px 1px 2px rgba(60, 64, 67, 0.3), 0px 1px 3px 1px rgba(60, 64, 67, 0.15);\n",
              "      fill: #174EA6;\n",
              "    }\n",
              "\n",
              "    [theme=dark] .colab-df-convert {\n",
              "      background-color: #3B4455;\n",
              "      fill: #D2E3FC;\n",
              "    }\n",
              "\n",
              "    [theme=dark] .colab-df-convert:hover {\n",
              "      background-color: #434B5C;\n",
              "      box-shadow: 0px 1px 3px 1px rgba(0, 0, 0, 0.15);\n",
              "      filter: drop-shadow(0px 1px 2px rgba(0, 0, 0, 0.3));\n",
              "      fill: #FFFFFF;\n",
              "    }\n",
              "  </style>\n",
              "\n",
              "      <script>\n",
              "        const buttonEl =\n",
              "          document.querySelector('#df-61dfa392-98ed-408f-9b42-ffab6954966b button.colab-df-convert');\n",
              "        buttonEl.style.display =\n",
              "          google.colab.kernel.accessAllowed ? 'block' : 'none';\n",
              "\n",
              "        async function convertToInteractive(key) {\n",
              "          const element = document.querySelector('#df-61dfa392-98ed-408f-9b42-ffab6954966b');\n",
              "          const dataTable =\n",
              "            await google.colab.kernel.invokeFunction('convertToInteractive',\n",
              "                                                     [key], {});\n",
              "          if (!dataTable) return;\n",
              "\n",
              "          const docLinkHtml = 'Like what you see? Visit the ' +\n",
              "            '<a target=\"_blank\" href=https://colab.research.google.com/notebooks/data_table.ipynb>data table notebook</a>'\n",
              "            + ' to learn more about interactive tables.';\n",
              "          element.innerHTML = '';\n",
              "          dataTable['output_type'] = 'display_data';\n",
              "          await google.colab.output.renderOutput(dataTable, element);\n",
              "          const docLink = document.createElement('div');\n",
              "          docLink.innerHTML = docLinkHtml;\n",
              "          element.appendChild(docLink);\n",
              "        }\n",
              "      </script>\n",
              "    </div>\n",
              "  </div>\n",
              "  "
            ]
          },
          "metadata": {},
          "execution_count": 40
        }
      ]
    }
  ],
  "metadata": {
    "kernelspec": {
      "display_name": "Python 3",
      "name": "python3"
    },
    "language_info": {
      "name": "python"
    },
    "orig_nbformat": 4,
    "vscode": {
      "interpreter": {
        "hash": "916dbcbb3f70747c44a77c7bcd40155683ae19c65e1c03b4aa3499c5328201f1"
      }
    },
    "colab": {
      "provenance": [],
      "include_colab_link": true
    },
    "gpuClass": "standard",
    "accelerator": "TPU"
  },
  "nbformat": 4,
  "nbformat_minor": 0
}